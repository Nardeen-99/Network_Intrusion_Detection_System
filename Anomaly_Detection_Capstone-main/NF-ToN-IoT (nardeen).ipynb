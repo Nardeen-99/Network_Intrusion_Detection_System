{
 "cells": [
  {
   "cell_type": "markdown",
   "id": "6c4e2090",
   "metadata": {},
   "source": [
    "# NF-ToN-IoT"
   ]
  },
  {
   "cell_type": "markdown",
   "id": "02dbb6d3",
   "metadata": {},
   "source": [
    "### NetFlow Version 1 of the datasets is made up of 8 basic NetFlow features. The details of the datasets are published in; Sarhan M., Layeghy S., Moustafa N., Portmann M. (2021) NetFlow Datasets for Machine Learning-Based Network Intrusion Detection Systems. In: Big Data Technologies and Applications. BDTA 2020, WiCON 2020. Springer, Cham. The use of the datasets for academic research purposes is granted in perpetuity after citing the above papers. For commercial purposes, it should be agreed upon by the authors. Please get in touch with the author Mohanad Sarhan for more details."
   ]
  },
  {
   "cell_type": "code",
   "execution_count": 2,
   "id": "9cc6d4d0",
   "metadata": {},
   "outputs": [],
   "source": [
    "import pandas as pd\n",
    "import numpy as np\n",
    "import matplotlib.pyplot as plt"
   ]
  },
  {
   "cell_type": "code",
   "execution_count": 4,
   "id": "db0c3d85",
   "metadata": {},
   "outputs": [
    {
     "data": {
      "text/html": [
       "<div>\n",
       "<style scoped>\n",
       "    .dataframe tbody tr th:only-of-type {\n",
       "        vertical-align: middle;\n",
       "    }\n",
       "\n",
       "    .dataframe tbody tr th {\n",
       "        vertical-align: top;\n",
       "    }\n",
       "\n",
       "    .dataframe thead th {\n",
       "        text-align: right;\n",
       "    }\n",
       "</style>\n",
       "<table border=\"1\" class=\"dataframe\">\n",
       "  <thead>\n",
       "    <tr style=\"text-align: right;\">\n",
       "      <th></th>\n",
       "      <th>IPV4_SRC_ADDR</th>\n",
       "      <th>L4_SRC_PORT</th>\n",
       "      <th>IPV4_DST_ADDR</th>\n",
       "      <th>L4_DST_PORT</th>\n",
       "      <th>PROTOCOL</th>\n",
       "      <th>L7_PROTO</th>\n",
       "      <th>IN_BYTES</th>\n",
       "      <th>OUT_BYTES</th>\n",
       "      <th>IN_PKTS</th>\n",
       "      <th>OUT_PKTS</th>\n",
       "      <th>TCP_FLAGS</th>\n",
       "      <th>FLOW_DURATION_MILLISECONDS</th>\n",
       "      <th>Label</th>\n",
       "      <th>Attack</th>\n",
       "    </tr>\n",
       "  </thead>\n",
       "  <tbody>\n",
       "    <tr>\n",
       "      <th>0</th>\n",
       "      <td>192.168.1.195</td>\n",
       "      <td>63318</td>\n",
       "      <td>52.139.250.253</td>\n",
       "      <td>443</td>\n",
       "      <td>6</td>\n",
       "      <td>91.0</td>\n",
       "      <td>181</td>\n",
       "      <td>165</td>\n",
       "      <td>2</td>\n",
       "      <td>1</td>\n",
       "      <td>24</td>\n",
       "      <td>327</td>\n",
       "      <td>0</td>\n",
       "      <td>Benign</td>\n",
       "    </tr>\n",
       "  </tbody>\n",
       "</table>\n",
       "</div>"
      ],
      "text/plain": [
       "   IPV4_SRC_ADDR  L4_SRC_PORT   IPV4_DST_ADDR  L4_DST_PORT  PROTOCOL  \\\n",
       "0  192.168.1.195        63318  52.139.250.253          443         6   \n",
       "\n",
       "   L7_PROTO  IN_BYTES  OUT_BYTES  IN_PKTS  OUT_PKTS  TCP_FLAGS  \\\n",
       "0      91.0       181        165        2         1         24   \n",
       "\n",
       "   FLOW_DURATION_MILLISECONDS  Label  Attack  \n",
       "0                         327      0  Benign  "
      ]
     },
     "execution_count": 4,
     "metadata": {},
     "output_type": "execute_result"
    }
   ],
   "source": [
    "df = pd.read_csv('NF-ToN-IoT.csv')\n",
    "df.head(1)"
   ]
  },
  {
   "cell_type": "code",
   "execution_count": 5,
   "id": "fe639b39",
   "metadata": {},
   "outputs": [
    {
     "name": "stdout",
     "output_type": "stream",
     "text": [
      "<class 'pandas.core.frame.DataFrame'>\n",
      "RangeIndex: 1379274 entries, 0 to 1379273\n",
      "Data columns (total 14 columns):\n",
      " #   Column                      Non-Null Count    Dtype  \n",
      "---  ------                      --------------    -----  \n",
      " 0   IPV4_SRC_ADDR               1379274 non-null  object \n",
      " 1   L4_SRC_PORT                 1379274 non-null  int64  \n",
      " 2   IPV4_DST_ADDR               1379274 non-null  object \n",
      " 3   L4_DST_PORT                 1379274 non-null  int64  \n",
      " 4   PROTOCOL                    1379274 non-null  int64  \n",
      " 5   L7_PROTO                    1379274 non-null  float64\n",
      " 6   IN_BYTES                    1379274 non-null  int64  \n",
      " 7   OUT_BYTES                   1379274 non-null  int64  \n",
      " 8   IN_PKTS                     1379274 non-null  int64  \n",
      " 9   OUT_PKTS                    1379274 non-null  int64  \n",
      " 10  TCP_FLAGS                   1379274 non-null  int64  \n",
      " 11  FLOW_DURATION_MILLISECONDS  1379274 non-null  int64  \n",
      " 12  Label                       1379274 non-null  int64  \n",
      " 13  Attack                      1379274 non-null  object \n",
      "dtypes: float64(1), int64(10), object(3)\n",
      "memory usage: 147.3+ MB\n"
     ]
    }
   ],
   "source": [
    "df.info()"
   ]
  },
  {
   "cell_type": "code",
   "execution_count": 20,
   "id": "0d167150",
   "metadata": {},
   "outputs": [
    {
     "data": {
      "text/plain": [
       "168345"
      ]
     },
     "execution_count": 20,
     "metadata": {},
     "output_type": "execute_result"
    }
   ],
   "source": [
    "df.duplicated().sum()"
   ]
  },
  {
   "cell_type": "markdown",
   "id": "989d30b2",
   "metadata": {},
   "source": [
    "1- We need to handel duplicates"
   ]
  },
  {
   "cell_type": "code",
   "execution_count": 21,
   "id": "d0e77763",
   "metadata": {},
   "outputs": [
    {
     "data": {
      "text/html": [
       "<style  type=\"text/css\" >\n",
       "#T_a35a7_row0_col0,#T_a35a7_row0_col3,#T_a35a7_row0_col7,#T_a35a7_row1_col0,#T_a35a7_row1_col3,#T_a35a7_row1_col4,#T_a35a7_row1_col5,#T_a35a7_row1_col7,#T_a35a7_row2_col0,#T_a35a7_row2_col1,#T_a35a7_row2_col2,#T_a35a7_row2_col4,#T_a35a7_row2_col5,#T_a35a7_row2_col6,#T_a35a7_row2_col7,#T_a35a7_row3_col0,#T_a35a7_row3_col1,#T_a35a7_row3_col2,#T_a35a7_row3_col3,#T_a35a7_row3_col4,#T_a35a7_row3_col5,#T_a35a7_row3_col6,#T_a35a7_row3_col7,#T_a35a7_row4_col0,#T_a35a7_row4_col4,#T_a35a7_row5_col0,#T_a35a7_row5_col3,#T_a35a7_row5_col4,#T_a35a7_row6_col0,#T_a35a7_row6_col1,#T_a35a7_row6_col4,#T_a35a7_row6_col5,#T_a35a7_row6_col6,#T_a35a7_row7_col0,#T_a35a7_row7_col1,#T_a35a7_row7_col3,#T_a35a7_row7_col4,#T_a35a7_row7_col5,#T_a35a7_row7_col6,#T_a35a7_row8_col0,#T_a35a7_row8_col1,#T_a35a7_row8_col2,#T_a35a7_row8_col3,#T_a35a7_row8_col4,#T_a35a7_row8_col5,#T_a35a7_row8_col6,#T_a35a7_row8_col7,#T_a35a7_row9_col0,#T_a35a7_row9_col3,#T_a35a7_row9_col4,#T_a35a7_row9_col5,#T_a35a7_row10_col0,#T_a35a7_row10_col1,#T_a35a7_row10_col2,#T_a35a7_row10_col3,#T_a35a7_row10_col4,#T_a35a7_row10_col5,#T_a35a7_row10_col6,#T_a35a7_row10_col7{\n",
       "            background-color:  #f7fbff;\n",
       "            color:  #000000;\n",
       "        }#T_a35a7_row0_col1,#T_a35a7_row0_col4,#T_a35a7_row0_col5,#T_a35a7_row0_col6,#T_a35a7_row4_col2,#T_a35a7_row4_col3,#T_a35a7_row4_col7{\n",
       "            background-color:  #08306b;\n",
       "            color:  #f1f1f1;\n",
       "        }#T_a35a7_row0_col2{\n",
       "            background-color:  #e3eef9;\n",
       "            color:  #000000;\n",
       "        }#T_a35a7_row1_col1{\n",
       "            background-color:  #d6e5f4;\n",
       "            color:  #000000;\n",
       "        }#T_a35a7_row1_col2{\n",
       "            background-color:  #e4eff9;\n",
       "            color:  #000000;\n",
       "        }#T_a35a7_row1_col6,#T_a35a7_row4_col5,#T_a35a7_row4_col6,#T_a35a7_row7_col2{\n",
       "            background-color:  #f5fafe;\n",
       "            color:  #000000;\n",
       "        }#T_a35a7_row2_col3,#T_a35a7_row4_col1,#T_a35a7_row6_col3{\n",
       "            background-color:  #f0f6fd;\n",
       "            color:  #000000;\n",
       "        }#T_a35a7_row5_col1{\n",
       "            background-color:  #eaf2fb;\n",
       "            color:  #000000;\n",
       "        }#T_a35a7_row5_col2{\n",
       "            background-color:  #4292c6;\n",
       "            color:  #000000;\n",
       "        }#T_a35a7_row5_col5,#T_a35a7_row6_col7{\n",
       "            background-color:  #f5f9fe;\n",
       "            color:  #000000;\n",
       "        }#T_a35a7_row5_col6{\n",
       "            background-color:  #eff6fc;\n",
       "            color:  #000000;\n",
       "        }#T_a35a7_row5_col7{\n",
       "            background-color:  #084e98;\n",
       "            color:  #f1f1f1;\n",
       "        }#T_a35a7_row6_col2,#T_a35a7_row7_col7{\n",
       "            background-color:  #f4f9fe;\n",
       "            color:  #000000;\n",
       "        }#T_a35a7_row9_col1{\n",
       "            background-color:  #d7e6f5;\n",
       "            color:  #000000;\n",
       "        }#T_a35a7_row9_col2{\n",
       "            background-color:  #3585bf;\n",
       "            color:  #000000;\n",
       "        }#T_a35a7_row9_col6{\n",
       "            background-color:  #f6faff;\n",
       "            color:  #000000;\n",
       "        }#T_a35a7_row9_col7{\n",
       "            background-color:  #edf4fc;\n",
       "            color:  #000000;\n",
       "        }</style><table id=\"T_a35a7_\" ><thead>    <tr>        <th class=\"blank level0\" ></th>        <th class=\"col_heading level0 col0\" >count</th>        <th class=\"col_heading level0 col1\" >mean</th>        <th class=\"col_heading level0 col2\" >std</th>        <th class=\"col_heading level0 col3\" >min</th>        <th class=\"col_heading level0 col4\" >25%</th>        <th class=\"col_heading level0 col5\" >50%</th>        <th class=\"col_heading level0 col6\" >75%</th>        <th class=\"col_heading level0 col7\" >max</th>    </tr></thead><tbody>\n",
       "                <tr>\n",
       "                        <th id=\"T_a35a7_level0_row0\" class=\"row_heading level0 row0\" >L4_SRC_PORT</th>\n",
       "                        <td id=\"T_a35a7_row0_col0\" class=\"data row0 col0\" >1379274.000000</td>\n",
       "                        <td id=\"T_a35a7_row0_col1\" class=\"data row0 col1\" >41290.725338</td>\n",
       "                        <td id=\"T_a35a7_row0_col2\" class=\"data row0 col2\" >17678.855330</td>\n",
       "                        <td id=\"T_a35a7_row0_col3\" class=\"data row0 col3\" >0.000000</td>\n",
       "                        <td id=\"T_a35a7_row0_col4\" class=\"data row0 col4\" >36620.000000</td>\n",
       "                        <td id=\"T_a35a7_row0_col5\" class=\"data row0 col5\" >45524.000000</td>\n",
       "                        <td id=\"T_a35a7_row0_col6\" class=\"data row0 col6\" >53810.000000</td>\n",
       "                        <td id=\"T_a35a7_row0_col7\" class=\"data row0 col7\" >65535.000000</td>\n",
       "            </tr>\n",
       "            <tr>\n",
       "                        <th id=\"T_a35a7_level0_row1\" class=\"row_heading level0 row1\" >L4_DST_PORT</th>\n",
       "                        <td id=\"T_a35a7_row1_col0\" class=\"data row1 col0\" >1379274.000000</td>\n",
       "                        <td id=\"T_a35a7_row1_col1\" class=\"data row1 col1\" >7091.114285</td>\n",
       "                        <td id=\"T_a35a7_row1_col2\" class=\"data row1 col2\" >16736.675853</td>\n",
       "                        <td id=\"T_a35a7_row1_col3\" class=\"data row1 col3\" >0.000000</td>\n",
       "                        <td id=\"T_a35a7_row1_col4\" class=\"data row1 col4\" >80.000000</td>\n",
       "                        <td id=\"T_a35a7_row1_col5\" class=\"data row1 col5\" >80.000000</td>\n",
       "                        <td id=\"T_a35a7_row1_col6\" class=\"data row1 col6\" >443.000000</td>\n",
       "                        <td id=\"T_a35a7_row1_col7\" class=\"data row1 col7\" >65534.000000</td>\n",
       "            </tr>\n",
       "            <tr>\n",
       "                        <th id=\"T_a35a7_level0_row2\" class=\"row_heading level0 row2\" >PROTOCOL</th>\n",
       "                        <td id=\"T_a35a7_row2_col0\" class=\"data row2 col0\" >1379274.000000</td>\n",
       "                        <td id=\"T_a35a7_row2_col1\" class=\"data row2 col1\" >6.955538</td>\n",
       "                        <td id=\"T_a35a7_row2_col2\" class=\"data row2 col2\" >3.174542</td>\n",
       "                        <td id=\"T_a35a7_row2_col3\" class=\"data row2 col3\" >1.000000</td>\n",
       "                        <td id=\"T_a35a7_row2_col4\" class=\"data row2 col4\" >6.000000</td>\n",
       "                        <td id=\"T_a35a7_row2_col5\" class=\"data row2 col5\" >6.000000</td>\n",
       "                        <td id=\"T_a35a7_row2_col6\" class=\"data row2 col6\" >6.000000</td>\n",
       "                        <td id=\"T_a35a7_row2_col7\" class=\"data row2 col7\" >58.000000</td>\n",
       "            </tr>\n",
       "            <tr>\n",
       "                        <th id=\"T_a35a7_level0_row3\" class=\"row_heading level0 row3\" >L7_PROTO</th>\n",
       "                        <td id=\"T_a35a7_row3_col0\" class=\"data row3 col0\" >1379274.000000</td>\n",
       "                        <td id=\"T_a35a7_row3_col1\" class=\"data row3 col1\" >32.086140</td>\n",
       "                        <td id=\"T_a35a7_row3_col2\" class=\"data row3 col2\" >40.882531</td>\n",
       "                        <td id=\"T_a35a7_row3_col3\" class=\"data row3 col3\" >0.000000</td>\n",
       "                        <td id=\"T_a35a7_row3_col4\" class=\"data row3 col4\" >7.000000</td>\n",
       "                        <td id=\"T_a35a7_row3_col5\" class=\"data row3 col5\" >7.000000</td>\n",
       "                        <td id=\"T_a35a7_row3_col6\" class=\"data row3 col6\" >91.000000</td>\n",
       "                        <td id=\"T_a35a7_row3_col7\" class=\"data row3 col7\" >251.000000</td>\n",
       "            </tr>\n",
       "            <tr>\n",
       "                        <th id=\"T_a35a7_level0_row4\" class=\"row_heading level0 row4\" >IN_BYTES</th>\n",
       "                        <td id=\"T_a35a7_row4_col0\" class=\"data row4 col0\" >1379274.000000</td>\n",
       "                        <td id=\"T_a35a7_row4_col1\" class=\"data row4 col1\" >1466.229136</td>\n",
       "                        <td id=\"T_a35a7_row4_col2\" class=\"data row4 col2\" >177963.170841</td>\n",
       "                        <td id=\"T_a35a7_row4_col3\" class=\"data row4 col3\" >28.000000</td>\n",
       "                        <td id=\"T_a35a7_row4_col4\" class=\"data row4 col4\" >112.000000</td>\n",
       "                        <td id=\"T_a35a7_row4_col5\" class=\"data row4 col5\" >458.000000</td>\n",
       "                        <td id=\"T_a35a7_row4_col6\" class=\"data row4 col6\" >554.000000</td>\n",
       "                        <td id=\"T_a35a7_row4_col7\" class=\"data row4 col7\" >79415904.000000</td>\n",
       "            </tr>\n",
       "            <tr>\n",
       "                        <th id=\"T_a35a7_level0_row5\" class=\"row_heading level0 row5\" >OUT_BYTES</th>\n",
       "                        <td id=\"T_a35a7_row5_col0\" class=\"data row5 col0\" >1379274.000000</td>\n",
       "                        <td id=\"T_a35a7_row5_col1\" class=\"data row5 col1\" >2745.434165</td>\n",
       "                        <td id=\"T_a35a7_row5_col2\" class=\"data row5 col2\" >110558.948502</td>\n",
       "                        <td id=\"T_a35a7_row5_col3\" class=\"data row5 col3\" >0.000000</td>\n",
       "                        <td id=\"T_a35a7_row5_col4\" class=\"data row5 col4\" >60.000000</td>\n",
       "                        <td id=\"T_a35a7_row5_col5\" class=\"data row5 col5\" >696.000000</td>\n",
       "                        <td id=\"T_a35a7_row5_col6\" class=\"data row5 col6\" >2239.000000</td>\n",
       "                        <td id=\"T_a35a7_row5_col7\" class=\"data row5 col7\" >70165175.000000</td>\n",
       "            </tr>\n",
       "            <tr>\n",
       "                        <th id=\"T_a35a7_level0_row6\" class=\"row_heading level0 row6\" >IN_PKTS</th>\n",
       "                        <td id=\"T_a35a7_row6_col0\" class=\"data row6 col0\" >1379274.000000</td>\n",
       "                        <td id=\"T_a35a7_row6_col1\" class=\"data row6 col1\" >18.008291</td>\n",
       "                        <td id=\"T_a35a7_row6_col2\" class=\"data row6 col2\" >2885.740826</td>\n",
       "                        <td id=\"T_a35a7_row6_col3\" class=\"data row6 col3\" >1.000000</td>\n",
       "                        <td id=\"T_a35a7_row6_col4\" class=\"data row6 col4\" >2.000000</td>\n",
       "                        <td id=\"T_a35a7_row6_col5\" class=\"data row6 col5\" >4.000000</td>\n",
       "                        <td id=\"T_a35a7_row6_col6\" class=\"data row6 col6\" >5.000000</td>\n",
       "                        <td id=\"T_a35a7_row6_col7\" class=\"data row6 col7\" >1221043.000000</td>\n",
       "            </tr>\n",
       "            <tr>\n",
       "                        <th id=\"T_a35a7_level0_row7\" class=\"row_heading level0 row7\" >OUT_PKTS</th>\n",
       "                        <td id=\"T_a35a7_row7_col0\" class=\"data row7 col0\" >1379274.000000</td>\n",
       "                        <td id=\"T_a35a7_row7_col1\" class=\"data row7 col1\" >10.711574</td>\n",
       "                        <td id=\"T_a35a7_row7_col2\" class=\"data row7 col2\" >1454.466233</td>\n",
       "                        <td id=\"T_a35a7_row7_col3\" class=\"data row7 col3\" >0.000000</td>\n",
       "                        <td id=\"T_a35a7_row7_col4\" class=\"data row7 col4\" >1.000000</td>\n",
       "                        <td id=\"T_a35a7_row7_col5\" class=\"data row7 col5\" >4.000000</td>\n",
       "                        <td id=\"T_a35a7_row7_col6\" class=\"data row7 col6\" >6.000000</td>\n",
       "                        <td id=\"T_a35a7_row7_col7\" class=\"data row7 col7\" >1349068.000000</td>\n",
       "            </tr>\n",
       "            <tr>\n",
       "                        <th id=\"T_a35a7_level0_row8\" class=\"row_heading level0 row8\" >TCP_FLAGS</th>\n",
       "                        <td id=\"T_a35a7_row8_col0\" class=\"data row8 col0\" >1379274.000000</td>\n",
       "                        <td id=\"T_a35a7_row8_col1\" class=\"data row8 col1\" >21.215929</td>\n",
       "                        <td id=\"T_a35a7_row8_col2\" class=\"data row8 col2\" >8.196017</td>\n",
       "                        <td id=\"T_a35a7_row8_col3\" class=\"data row8 col3\" >0.000000</td>\n",
       "                        <td id=\"T_a35a7_row8_col4\" class=\"data row8 col4\" >18.000000</td>\n",
       "                        <td id=\"T_a35a7_row8_col5\" class=\"data row8 col5\" >26.000000</td>\n",
       "                        <td id=\"T_a35a7_row8_col6\" class=\"data row8 col6\" >27.000000</td>\n",
       "                        <td id=\"T_a35a7_row8_col7\" class=\"data row8 col7\" >219.000000</td>\n",
       "            </tr>\n",
       "            <tr>\n",
       "                        <th id=\"T_a35a7_level0_row9\" class=\"row_heading level0 row9\" >FLOW_DURATION_MILLISECONDS</th>\n",
       "                        <td id=\"T_a35a7_row9_col0\" class=\"data row9 col0\" >1379274.000000</td>\n",
       "                        <td id=\"T_a35a7_row9_col1\" class=\"data row9 col1\" >6633.697090</td>\n",
       "                        <td id=\"T_a35a7_row9_col2\" class=\"data row9 col2\" >119731.985638</td>\n",
       "                        <td id=\"T_a35a7_row9_col3\" class=\"data row9 col3\" >0.000000</td>\n",
       "                        <td id=\"T_a35a7_row9_col4\" class=\"data row9 col4\" >0.000000</td>\n",
       "                        <td id=\"T_a35a7_row9_col5\" class=\"data row9 col5\" >94.000000</td>\n",
       "                        <td id=\"T_a35a7_row9_col6\" class=\"data row9 col6\" >382.000000</td>\n",
       "                        <td id=\"T_a35a7_row9_col7\" class=\"data row9 col7\" >4294849.000000</td>\n",
       "            </tr>\n",
       "            <tr>\n",
       "                        <th id=\"T_a35a7_level0_row10\" class=\"row_heading level0 row10\" >Label</th>\n",
       "                        <td id=\"T_a35a7_row10_col0\" class=\"data row10 col0\" >1379274.000000</td>\n",
       "                        <td id=\"T_a35a7_row10_col1\" class=\"data row10 col1\" >0.804043</td>\n",
       "                        <td id=\"T_a35a7_row10_col2\" class=\"data row10 col2\" >0.396936</td>\n",
       "                        <td id=\"T_a35a7_row10_col3\" class=\"data row10 col3\" >0.000000</td>\n",
       "                        <td id=\"T_a35a7_row10_col4\" class=\"data row10 col4\" >1.000000</td>\n",
       "                        <td id=\"T_a35a7_row10_col5\" class=\"data row10 col5\" >1.000000</td>\n",
       "                        <td id=\"T_a35a7_row10_col6\" class=\"data row10 col6\" >1.000000</td>\n",
       "                        <td id=\"T_a35a7_row10_col7\" class=\"data row10 col7\" >1.000000</td>\n",
       "            </tr>\n",
       "    </tbody></table>"
      ],
      "text/plain": [
       "<pandas.io.formats.style.Styler at 0x247070f8a30>"
      ]
     },
     "execution_count": 21,
     "metadata": {},
     "output_type": "execute_result"
    }
   ],
   "source": [
    "df.describe().T.style.background_gradient(cmap='Blues')"
   ]
  },
  {
   "cell_type": "code",
   "execution_count": 12,
   "id": "a588d2a9",
   "metadata": {},
   "outputs": [
    {
     "data": {
      "text/html": [
       "<div>\n",
       "<style scoped>\n",
       "    .dataframe tbody tr th:only-of-type {\n",
       "        vertical-align: middle;\n",
       "    }\n",
       "\n",
       "    .dataframe tbody tr th {\n",
       "        vertical-align: top;\n",
       "    }\n",
       "\n",
       "    .dataframe thead th {\n",
       "        text-align: right;\n",
       "    }\n",
       "</style>\n",
       "<table border=\"1\" class=\"dataframe\">\n",
       "  <thead>\n",
       "    <tr style=\"text-align: right;\">\n",
       "      <th></th>\n",
       "      <th>unique</th>\n",
       "      <th>dtype</th>\n",
       "      <th>null</th>\n",
       "    </tr>\n",
       "  </thead>\n",
       "  <tbody>\n",
       "    <tr>\n",
       "      <th>IPV4_SRC_ADDR</th>\n",
       "      <td>174</td>\n",
       "      <td>object</td>\n",
       "      <td>0</td>\n",
       "    </tr>\n",
       "    <tr>\n",
       "      <th>L4_SRC_PORT</th>\n",
       "      <td>38857</td>\n",
       "      <td>int64</td>\n",
       "      <td>0</td>\n",
       "    </tr>\n",
       "    <tr>\n",
       "      <th>IPV4_DST_ADDR</th>\n",
       "      <td>1478</td>\n",
       "      <td>object</td>\n",
       "      <td>0</td>\n",
       "    </tr>\n",
       "    <tr>\n",
       "      <th>L4_DST_PORT</th>\n",
       "      <td>16071</td>\n",
       "      <td>int64</td>\n",
       "      <td>0</td>\n",
       "    </tr>\n",
       "    <tr>\n",
       "      <th>PROTOCOL</th>\n",
       "      <td>5</td>\n",
       "      <td>int64</td>\n",
       "      <td>0</td>\n",
       "    </tr>\n",
       "    <tr>\n",
       "      <th>L7_PROTO</th>\n",
       "      <td>97</td>\n",
       "      <td>float64</td>\n",
       "      <td>0</td>\n",
       "    </tr>\n",
       "    <tr>\n",
       "      <th>IN_BYTES</th>\n",
       "      <td>5049</td>\n",
       "      <td>int64</td>\n",
       "      <td>0</td>\n",
       "    </tr>\n",
       "    <tr>\n",
       "      <th>OUT_BYTES</th>\n",
       "      <td>5140</td>\n",
       "      <td>int64</td>\n",
       "      <td>0</td>\n",
       "    </tr>\n",
       "    <tr>\n",
       "      <th>IN_PKTS</th>\n",
       "      <td>921</td>\n",
       "      <td>int64</td>\n",
       "      <td>0</td>\n",
       "    </tr>\n",
       "    <tr>\n",
       "      <th>OUT_PKTS</th>\n",
       "      <td>812</td>\n",
       "      <td>int64</td>\n",
       "      <td>0</td>\n",
       "    </tr>\n",
       "    <tr>\n",
       "      <th>TCP_FLAGS</th>\n",
       "      <td>24</td>\n",
       "      <td>int64</td>\n",
       "      <td>0</td>\n",
       "    </tr>\n",
       "    <tr>\n",
       "      <th>FLOW_DURATION_MILLISECONDS</th>\n",
       "      <td>28408</td>\n",
       "      <td>int64</td>\n",
       "      <td>0</td>\n",
       "    </tr>\n",
       "    <tr>\n",
       "      <th>Label</th>\n",
       "      <td>2</td>\n",
       "      <td>int64</td>\n",
       "      <td>0</td>\n",
       "    </tr>\n",
       "    <tr>\n",
       "      <th>Attack</th>\n",
       "      <td>10</td>\n",
       "      <td>object</td>\n",
       "      <td>0</td>\n",
       "    </tr>\n",
       "  </tbody>\n",
       "</table>\n",
       "</div>"
      ],
      "text/plain": [
       "                            unique    dtype  null\n",
       "IPV4_SRC_ADDR                  174   object     0\n",
       "L4_SRC_PORT                  38857    int64     0\n",
       "IPV4_DST_ADDR                 1478   object     0\n",
       "L4_DST_PORT                  16071    int64     0\n",
       "PROTOCOL                         5    int64     0\n",
       "L7_PROTO                        97  float64     0\n",
       "IN_BYTES                      5049    int64     0\n",
       "OUT_BYTES                     5140    int64     0\n",
       "IN_PKTS                        921    int64     0\n",
       "OUT_PKTS                       812    int64     0\n",
       "TCP_FLAGS                       24    int64     0\n",
       "FLOW_DURATION_MILLISECONDS   28408    int64     0\n",
       "Label                            2    int64     0\n",
       "Attack                          10   object     0"
      ]
     },
     "execution_count": 12,
     "metadata": {},
     "output_type": "execute_result"
    }
   ],
   "source": [
    "data_details = {'unique':df.nunique(),\n",
    "              'dtype':df.dtypes,\n",
    "             'null':df.isna().sum(),\n",
    "             }\n",
    "data_details = pd.DataFrame(data_details)\n",
    "data_details"
   ]
  },
  {
   "cell_type": "code",
   "execution_count": 13,
   "id": "405d0860",
   "metadata": {},
   "outputs": [
    {
     "name": "stdout",
     "output_type": "stream",
     "text": [
      "value counts of IPV4_SRC_ADDR column\n",
      "192.168.1.31      269925\n",
      "192.168.1.30      268910\n",
      "192.168.1.36      244364\n",
      "192.168.1.33      195761\n",
      "192.168.1.184     112992\n",
      "                   ...  \n",
      "69.28.144.125          1\n",
      "108.170.247.33         1\n",
      "157.240.8.18           1\n",
      "91.189.95.3            1\n",
      "34.210.105.103         1\n",
      "Name: IPV4_SRC_ADDR, Length: 174, dtype: int64\n",
      "\n",
      "value counts of IPV4_DST_ADDR column\n",
      "192.168.1.190      287600\n",
      "192.168.1.184      240988\n",
      "192.168.1.195      191669\n",
      "192.168.1.152      190226\n",
      "192.168.1.31        73608\n",
      "                    ...  \n",
      "193.108.91.37           1\n",
      "194.146.106.22          1\n",
      "52.26.202.10            1\n",
      "188.166.127.243         1\n",
      "34.208.191.228          1\n",
      "Name: IPV4_DST_ADDR, Length: 1478, dtype: int64\n",
      "\n",
      "value counts of Attack column\n",
      "injection     468539\n",
      "ddos          326345\n",
      "Benign        270279\n",
      "password      156299\n",
      "xss            99944\n",
      "scanning       21467\n",
      "dos            17717\n",
      "backdoor       17247\n",
      "mitm            1295\n",
      "ransomware       142\n",
      "Name: Attack, dtype: int64\n",
      "\n"
     ]
    }
   ],
   "source": [
    "categorical_col = df.select_dtypes('object')\n",
    "\n",
    "for i in categorical_col:\n",
    "    print(f'value counts of {i} column')\n",
    "    print(df[i].value_counts(), end=\"\\n\\n\")"
   ]
  },
  {
   "cell_type": "code",
   "execution_count": 15,
   "id": "c7daf299",
   "metadata": {},
   "outputs": [
    {
     "data": {
      "text/html": [
       "<div>\n",
       "<style scoped>\n",
       "    .dataframe tbody tr th:only-of-type {\n",
       "        vertical-align: middle;\n",
       "    }\n",
       "\n",
       "    .dataframe tbody tr th {\n",
       "        vertical-align: top;\n",
       "    }\n",
       "\n",
       "    .dataframe thead th {\n",
       "        text-align: right;\n",
       "    }\n",
       "</style>\n",
       "<table border=\"1\" class=\"dataframe\">\n",
       "  <thead>\n",
       "    <tr style=\"text-align: right;\">\n",
       "      <th></th>\n",
       "      <th>IPV4_SRC_ADDR</th>\n",
       "      <th>IPV4_DST_ADDR</th>\n",
       "      <th>Attack</th>\n",
       "    </tr>\n",
       "  </thead>\n",
       "  <tbody>\n",
       "    <tr>\n",
       "      <th>0</th>\n",
       "      <td>192.168.1.195</td>\n",
       "      <td>52.139.250.253</td>\n",
       "      <td>Benign</td>\n",
       "    </tr>\n",
       "    <tr>\n",
       "      <th>1</th>\n",
       "      <td>192.168.1.79</td>\n",
       "      <td>192.168.1.255</td>\n",
       "      <td>Benign</td>\n",
       "    </tr>\n",
       "    <tr>\n",
       "      <th>2</th>\n",
       "      <td>192.168.1.79</td>\n",
       "      <td>239.255.255.250</td>\n",
       "      <td>Benign</td>\n",
       "    </tr>\n",
       "    <tr>\n",
       "      <th>3</th>\n",
       "      <td>192.168.1.193</td>\n",
       "      <td>192.168.1.255</td>\n",
       "      <td>Benign</td>\n",
       "    </tr>\n",
       "    <tr>\n",
       "      <th>4</th>\n",
       "      <td>192.168.1.79</td>\n",
       "      <td>192.168.1.255</td>\n",
       "      <td>Benign</td>\n",
       "    </tr>\n",
       "  </tbody>\n",
       "</table>\n",
       "</div>"
      ],
      "text/plain": [
       "   IPV4_SRC_ADDR    IPV4_DST_ADDR  Attack\n",
       "0  192.168.1.195   52.139.250.253  Benign\n",
       "1   192.168.1.79    192.168.1.255  Benign\n",
       "2   192.168.1.79  239.255.255.250  Benign\n",
       "3  192.168.1.193    192.168.1.255  Benign\n",
       "4   192.168.1.79    192.168.1.255  Benign"
      ]
     },
     "execution_count": 15,
     "metadata": {},
     "output_type": "execute_result"
    }
   ],
   "source": [
    "categorical_col = pd.DataFrame(categorical_col)\n",
    "categorical_col.head()"
   ]
  },
  {
   "cell_type": "code",
   "execution_count": 16,
   "id": "6271e124",
   "metadata": {},
   "outputs": [
    {
     "data": {
      "text/plain": [
       "<Axes: >"
      ]
     },
     "execution_count": 16,
     "metadata": {},
     "output_type": "execute_result"
    },
    {
     "data": {
      "image/png": "[encoded data removed]",
      "text/plain": [
       "<Figure size 720x360 with 1 Axes>"
      ]
     },
     "metadata": {
      "needs_background": "light"
     },
     "output_type": "display_data"
    }
   ],
   "source": [
    "categorical_col['Attack'].value_counts().plot(kind='bar', figsize=(10,5))"
   ]
  },
  {
   "cell_type": "markdown",
   "id": "312c0831",
   "metadata": {},
   "source": [
    "2- We need to uniform the scale \n",
    "\n",
    "3- attack or label????"
   ]
  },
  {
   "cell_type": "code",
   "execution_count": 22,
   "id": "c6ce37b8",
   "metadata": {},
   "outputs": [
    {
     "data": {
      "text/plain": [
       "(1379274, 14)"
      ]
     },
     "execution_count": 22,
     "metadata": {},
     "output_type": "execute_result"
    }
   ],
   "source": [
    "df.shape"
   ]
  },
  {
   "cell_type": "code",
   "execution_count": 28,
   "id": "05e0349a",
   "metadata": {},
   "outputs": [
    {
     "data": {
      "text/html": [
       "<div>\n",
       "<style scoped>\n",
       "    .dataframe tbody tr th:only-of-type {\n",
       "        vertical-align: middle;\n",
       "    }\n",
       "\n",
       "    .dataframe tbody tr th {\n",
       "        vertical-align: top;\n",
       "    }\n",
       "\n",
       "    .dataframe thead th {\n",
       "        text-align: right;\n",
       "    }\n",
       "</style>\n",
       "<table border=\"1\" class=\"dataframe\">\n",
       "  <thead>\n",
       "    <tr style=\"text-align: right;\">\n",
       "      <th></th>\n",
       "      <th>IPV4_SRC_ADDR</th>\n",
       "      <th>L4_SRC_PORT</th>\n",
       "      <th>IPV4_DST_ADDR</th>\n",
       "      <th>L4_DST_PORT</th>\n",
       "      <th>PROTOCOL</th>\n",
       "      <th>L7_PROTO</th>\n",
       "      <th>IN_BYTES</th>\n",
       "      <th>OUT_BYTES</th>\n",
       "      <th>IN_PKTS</th>\n",
       "      <th>OUT_PKTS</th>\n",
       "      <th>TCP_FLAGS</th>\n",
       "      <th>FLOW_DURATION_MILLISECONDS</th>\n",
       "      <th>Label</th>\n",
       "      <th>Attack</th>\n",
       "    </tr>\n",
       "  </thead>\n",
       "  <tbody>\n",
       "    <tr>\n",
       "      <th>0</th>\n",
       "      <td>192.168.1.195</td>\n",
       "      <td>63318</td>\n",
       "      <td>52.139.250.253</td>\n",
       "      <td>443</td>\n",
       "      <td>6</td>\n",
       "      <td>91.0</td>\n",
       "      <td>181</td>\n",
       "      <td>165</td>\n",
       "      <td>2</td>\n",
       "      <td>1</td>\n",
       "      <td>24</td>\n",
       "      <td>327</td>\n",
       "      <td>0</td>\n",
       "      <td>Benign</td>\n",
       "    </tr>\n",
       "  </tbody>\n",
       "</table>\n",
       "</div>"
      ],
      "text/plain": [
       "   IPV4_SRC_ADDR  L4_SRC_PORT   IPV4_DST_ADDR  L4_DST_PORT  PROTOCOL  \\\n",
       "0  192.168.1.195        63318  52.139.250.253          443         6   \n",
       "\n",
       "   L7_PROTO  IN_BYTES  OUT_BYTES  IN_PKTS  OUT_PKTS  TCP_FLAGS  \\\n",
       "0      91.0       181        165        2         1         24   \n",
       "\n",
       "   FLOW_DURATION_MILLISECONDS  Label  Attack  \n",
       "0                         327      0  Benign  "
      ]
     },
     "execution_count": 28,
     "metadata": {},
     "output_type": "execute_result"
    }
   ],
   "source": [
    "df.head(1)"
   ]
  },
  {
   "cell_type": "code",
   "execution_count": 32,
   "id": "6e77730f",
   "metadata": {},
   "outputs": [
    {
     "data": {
      "text/plain": [
       "<Axes: >"
      ]
     },
     "execution_count": 32,
     "metadata": {},
     "output_type": "execute_result"
    },
    {
     "data": {
      "image/png": "[encoded data removed]",
      "text/plain": [
       "<Figure size 432x288 with 1 Axes>"
      ]
     },
     "metadata": {
      "needs_background": "light"
     },
     "output_type": "display_data"
    }
   ],
   "source": [
    "df.boxplot(column=['L4_SRC_PORT', 'L4_DST_PORT', 'PROTOCOL', 'L7_PROTO'])"
   ]
  },
  {
   "cell_type": "code",
   "execution_count": 33,
   "id": "7676781e",
   "metadata": {},
   "outputs": [
    {
     "data": {
      "image/png": "[encoded data removed]",
      "text/plain": [
       "<Figure size 432x288 with 1 Axes>"
      ]
     },
     "metadata": {
      "needs_background": "light"
     },
     "output_type": "display_data"
    }
   ],
   "source": [
    "df.boxplot(column='L4_SRC_PORT', return_type='axes');\n"
   ]
  },
  {
   "cell_type": "code",
   "execution_count": 34,
   "id": "8df1c450",
   "metadata": {},
   "outputs": [
    {
     "data": {
      "image/png": "[encoded data removed]",
      "text/plain": [
       "<Figure size 432x288 with 1 Axes>"
      ]
     },
     "metadata": {
      "needs_background": "light"
     },
     "output_type": "display_data"
    }
   ],
   "source": [
    "df.boxplot(column='L4_DST_PORT', return_type='axes');"
   ]
  },
  {
   "cell_type": "markdown",
   "id": "53189ca4",
   "metadata": {},
   "source": [
    "3- the outliers in L4_DST_PORT unique?, numerical?, categorical?"
   ]
  },
  {
   "cell_type": "code",
   "execution_count": 40,
   "id": "eb599ba6",
   "metadata": {},
   "outputs": [
    {
     "data": {
      "text/plain": [
       "16071"
      ]
     },
     "execution_count": 40,
     "metadata": {},
     "output_type": "execute_result"
    }
   ],
   "source": [
    "df.L4_DST_PORT.nunique()"
   ]
  },
  {
   "cell_type": "code",
   "execution_count": 37,
   "id": "1bb3a5b7",
   "metadata": {},
   "outputs": [
    {
     "data": {
      "image/png": "[encoded data removed]",
      "text/plain": [
       "<Figure size 432x288 with 1 Axes>"
      ]
     },
     "metadata": {
      "needs_background": "light"
     },
     "output_type": "display_data"
    }
   ],
   "source": [
    "df.boxplot(column='L7_PROTO', return_type='axes');"
   ]
  },
  {
   "cell_type": "code",
   "execution_count": 36,
   "id": "5a046bf9",
   "metadata": {},
   "outputs": [
    {
     "data": {
      "text/plain": [
       "6     1251484\n",
       "17     121467\n",
       "2        5846\n",
       "1         344\n",
       "58        133\n",
       "Name: PROTOCOL, dtype: int64"
      ]
     },
     "execution_count": 36,
     "metadata": {},
     "output_type": "execute_result"
    }
   ],
   "source": [
    "df.PROTOCOL.value_counts()"
   ]
  },
  {
   "cell_type": "code",
   "execution_count": null,
   "id": "81a1ee81",
   "metadata": {},
   "outputs": [],
   "source": [
    "import seaborn as sns\n",
    "                         \n",
    "hm = sns.heatmap(data=df.select_dtypes(include='int64'),\n",
    "                annot=True)\n",
    "   \n",
    "# displaying the plotted heatmap\n",
    "plt.show()"
   ]
  },
  {
   "cell_type": "code",
   "execution_count": null,
   "id": "ed255c40",
   "metadata": {},
   "outputs": [],
   "source": []
  }
 ],
 "metadata": {
  "kernelspec": {
   "display_name": "Python 3 (ipykernel)",
   "language": "python",
   "name": "python3"
  },
  "language_info": {
   "codemirror_mode": {
    "name": "ipython",
    "version": 3
   },
   "file_extension": ".py",
   "mimetype": "text/x-python",
   "name": "python",
   "nbconvert_exporter": "python",
   "pygments_lexer": "ipython3",
   "version": "3.10.9"
  }
 },
 "nbformat": 4,
 "nbformat_minor": 5
}
