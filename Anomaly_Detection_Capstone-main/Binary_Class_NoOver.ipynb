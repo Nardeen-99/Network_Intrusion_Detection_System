{
  "cells": [
    {
      "cell_type": "code",
      "execution_count": 47,
      "id": "8bd2b9ad",
      "metadata": {
        "id": "8bd2b9ad"
      },
      "outputs": [],
      "source": [
        "import numpy as np\n",
        "import pandas as pd\n",
        "import plotly.express as px\n",
        "import matplotlib.pyplot as plt\n",
        "import seaborn as sns\n",
        "from imblearn.over_sampling import RandomOverSampler\n",
        "from imblearn.over_sampling import SMOTE, ADASYN\n",
        "from fastai.tabular.all import df_shrink\n",
        "from scipy import stats\n",
        "from pyod.models.iforest import IForest\n",
        "from scipy.stats import median_abs_deviation\n",
        "from sklearn.preprocessing import OneHotEncoder\n",
        "from sklearn.preprocessing import StandardScaler\n",
        "from sklearn.pipeline import make_pipeline\n",
        "from sklearn.neighbors import KNeighborsClassifier\n",
        "from sklearn.model_selection import train_test_split\n",
        "from sklearn.linear_model import LogisticRegression\n",
        "from sklearn.utils.validation import check_is_fitted\n",
        "from sklearn.ensemble import GradientBoostingClassifier\n",
        "from sklearn.ensemble import RandomForestClassifier\n",
        "from sklearn.metrics import classification_report, confusion_matrix, ConfusionMatrixDisplay\n",
        "from sklearn.model_selection import RandomizedSearchCV\n",
        "import pickle\n",
        "\n",
        "\n",
        "import warnings\n",
        "warnings.filterwarnings('ignore')\n",
        "pd.set_option(\"display.max_columns\",100)"
      ]
    },
    {
      "cell_type": "code",
      "source": [
        "from google.colab import drive\n",
        "drive.mount('/content/drive')"
      ],
      "metadata": {
        "colab": {
          "base_uri": "https://localhost:8080/"
        },
        "id": "xsp78gHXtoyW",
        "outputId": "60543336-8696-4e73-c827-98b75747ec6e"
      },
      "id": "xsp78gHXtoyW",
      "execution_count": 4,
      "outputs": [
        {
          "output_type": "stream",
          "name": "stdout",
          "text": [
            "Mounted at /content/drive\n"
          ]
        }
      ]
    },
    {
      "cell_type": "code",
      "execution_count": 48,
      "id": "a6cbf293",
      "metadata": {
        "id": "a6cbf293"
      },
      "outputs": [],
      "source": [
        "df= pd.read_csv(r\"/content/drive/MyDrive/Colab Notebooks/Capstone/TON_IOT_pre.unknown\")"
      ]
    },
    {
      "cell_type": "code",
      "execution_count": 49,
      "id": "d9fb9ec3",
      "metadata": {
        "scrolled": true,
        "id": "d9fb9ec3",
        "outputId": "56f062e2-dfd1-4096-9678-b16ec7e21406",
        "colab": {
          "base_uri": "https://localhost:8080/",
          "height": 226
        }
      },
      "outputs": [
        {
          "output_type": "execute_result",
          "data": {
            "text/plain": [
              "   L4_SRC_PORT  L4_DST_PORT  PROTOCOL  L7_PROTO  IN_BYTES  OUT_BYTES  IN_PKTS  \\\n",
              "0        63318          443         6     91.00       181        165        2   \n",
              "1        57442        15600        17      0.00        63          0        1   \n",
              "2        57452        15600        17      0.00        63          0        1   \n",
              "3        51989        15600        17      0.00        63          0        1   \n",
              "4        53927         1900        17    153.12       459          0        3   \n",
              "\n",
              "   OUT_PKTS  TCP_FLAGS  FLOW_DURATION_MILLISECONDS  Label  Attack  \\\n",
              "0         1         24                         327      0  Benign   \n",
              "1         0          0                           0      0  Benign   \n",
              "2         0          0                           0      0  Benign   \n",
              "3         0          0                           0      0  Benign   \n",
              "4         0          0                         614      0  Benign   \n",
              "\n",
              "   IPV4_SRC_ADDR_0  IPV4_SRC_ADDR_1  IPV4_SRC_ADDR_2  IPV4_SRC_ADDR_3  \\\n",
              "0              192              168                1              195   \n",
              "1              192              168                1               79   \n",
              "2              192              168                1               79   \n",
              "3              192              168                1               79   \n",
              "4              192              168                1                6   \n",
              "\n",
              "   IPV4_DST_ADDR_0  IPV4_DST_ADDR_1  IPV4_DST_ADDR_2  IPV4_DST_ADDR_3  \n",
              "0               52              139              250              253  \n",
              "1              192              168                1              255  \n",
              "2              239              255              255              250  \n",
              "3              192              168                1              255  \n",
              "4              239              255              255              250  "
            ],
            "text/html": [
              "\n",
              "  <div id=\"df-db8330dc-194e-4eb6-ae93-72d11012ebc0\" class=\"colab-df-container\">\n",
              "    <div>\n",
              "<style scoped>\n",
              "    .dataframe tbody tr th:only-of-type {\n",
              "        vertical-align: middle;\n",
              "    }\n",
              "\n",
              "    .dataframe tbody tr th {\n",
              "        vertical-align: top;\n",
              "    }\n",
              "\n",
              "    .dataframe thead th {\n",
              "        text-align: right;\n",
              "    }\n",
              "</style>\n",
              "<table border=\"1\" class=\"dataframe\">\n",
              "  <thead>\n",
              "    <tr style=\"text-align: right;\">\n",
              "      <th></th>\n",
              "      <th>L4_SRC_PORT</th>\n",
              "      <th>L4_DST_PORT</th>\n",
              "      <th>PROTOCOL</th>\n",
              "      <th>L7_PROTO</th>\n",
              "      <th>IN_BYTES</th>\n",
              "      <th>OUT_BYTES</th>\n",
              "      <th>IN_PKTS</th>\n",
              "      <th>OUT_PKTS</th>\n",
              "      <th>TCP_FLAGS</th>\n",
              "      <th>FLOW_DURATION_MILLISECONDS</th>\n",
              "      <th>Label</th>\n",
              "      <th>Attack</th>\n",
              "      <th>IPV4_SRC_ADDR_0</th>\n",
              "      <th>IPV4_SRC_ADDR_1</th>\n",
              "      <th>IPV4_SRC_ADDR_2</th>\n",
              "      <th>IPV4_SRC_ADDR_3</th>\n",
              "      <th>IPV4_DST_ADDR_0</th>\n",
              "      <th>IPV4_DST_ADDR_1</th>\n",
              "      <th>IPV4_DST_ADDR_2</th>\n",
              "      <th>IPV4_DST_ADDR_3</th>\n",
              "    </tr>\n",
              "  </thead>\n",
              "  <tbody>\n",
              "    <tr>\n",
              "      <th>0</th>\n",
              "      <td>63318</td>\n",
              "      <td>443</td>\n",
              "      <td>6</td>\n",
              "      <td>91.00</td>\n",
              "      <td>181</td>\n",
              "      <td>165</td>\n",
              "      <td>2</td>\n",
              "      <td>1</td>\n",
              "      <td>24</td>\n",
              "      <td>327</td>\n",
              "      <td>0</td>\n",
              "      <td>Benign</td>\n",
              "      <td>192</td>\n",
              "      <td>168</td>\n",
              "      <td>1</td>\n",
              "      <td>195</td>\n",
              "      <td>52</td>\n",
              "      <td>139</td>\n",
              "      <td>250</td>\n",
              "      <td>253</td>\n",
              "    </tr>\n",
              "    <tr>\n",
              "      <th>1</th>\n",
              "      <td>57442</td>\n",
              "      <td>15600</td>\n",
              "      <td>17</td>\n",
              "      <td>0.00</td>\n",
              "      <td>63</td>\n",
              "      <td>0</td>\n",
              "      <td>1</td>\n",
              "      <td>0</td>\n",
              "      <td>0</td>\n",
              "      <td>0</td>\n",
              "      <td>0</td>\n",
              "      <td>Benign</td>\n",
              "      <td>192</td>\n",
              "      <td>168</td>\n",
              "      <td>1</td>\n",
              "      <td>79</td>\n",
              "      <td>192</td>\n",
              "      <td>168</td>\n",
              "      <td>1</td>\n",
              "      <td>255</td>\n",
              "    </tr>\n",
              "    <tr>\n",
              "      <th>2</th>\n",
              "      <td>57452</td>\n",
              "      <td>15600</td>\n",
              "      <td>17</td>\n",
              "      <td>0.00</td>\n",
              "      <td>63</td>\n",
              "      <td>0</td>\n",
              "      <td>1</td>\n",
              "      <td>0</td>\n",
              "      <td>0</td>\n",
              "      <td>0</td>\n",
              "      <td>0</td>\n",
              "      <td>Benign</td>\n",
              "      <td>192</td>\n",
              "      <td>168</td>\n",
              "      <td>1</td>\n",
              "      <td>79</td>\n",
              "      <td>239</td>\n",
              "      <td>255</td>\n",
              "      <td>255</td>\n",
              "      <td>250</td>\n",
              "    </tr>\n",
              "    <tr>\n",
              "      <th>3</th>\n",
              "      <td>51989</td>\n",
              "      <td>15600</td>\n",
              "      <td>17</td>\n",
              "      <td>0.00</td>\n",
              "      <td>63</td>\n",
              "      <td>0</td>\n",
              "      <td>1</td>\n",
              "      <td>0</td>\n",
              "      <td>0</td>\n",
              "      <td>0</td>\n",
              "      <td>0</td>\n",
              "      <td>Benign</td>\n",
              "      <td>192</td>\n",
              "      <td>168</td>\n",
              "      <td>1</td>\n",
              "      <td>79</td>\n",
              "      <td>192</td>\n",
              "      <td>168</td>\n",
              "      <td>1</td>\n",
              "      <td>255</td>\n",
              "    </tr>\n",
              "    <tr>\n",
              "      <th>4</th>\n",
              "      <td>53927</td>\n",
              "      <td>1900</td>\n",
              "      <td>17</td>\n",
              "      <td>153.12</td>\n",
              "      <td>459</td>\n",
              "      <td>0</td>\n",
              "      <td>3</td>\n",
              "      <td>0</td>\n",
              "      <td>0</td>\n",
              "      <td>614</td>\n",
              "      <td>0</td>\n",
              "      <td>Benign</td>\n",
              "      <td>192</td>\n",
              "      <td>168</td>\n",
              "      <td>1</td>\n",
              "      <td>6</td>\n",
              "      <td>239</td>\n",
              "      <td>255</td>\n",
              "      <td>255</td>\n",
              "      <td>250</td>\n",
              "    </tr>\n",
              "  </tbody>\n",
              "</table>\n",
              "</div>\n",
              "    <div class=\"colab-df-buttons\">\n",
              "\n",
              "  <div class=\"colab-df-container\">\n",
              "    <button class=\"colab-df-convert\" onclick=\"convertToInteractive('df-db8330dc-194e-4eb6-ae93-72d11012ebc0')\"\n",
              "            title=\"Convert this dataframe to an interactive table.\"\n",
              "            style=\"display:none;\">\n",
              "\n",
              "  <svg xmlns=\"http://www.w3.org/2000/svg\" height=\"24px\" viewBox=\"0 -960 960 960\">\n",
              "    <path d=\"M120-120v-720h720v720H120Zm60-500h600v-160H180v160Zm220 220h160v-160H400v160Zm0 220h160v-160H400v160ZM180-400h160v-160H180v160Zm440 0h160v-160H620v160ZM180-180h160v-160H180v160Zm440 0h160v-160H620v160Z\"/>\n",
              "  </svg>\n",
              "    </button>\n",
              "\n",
              "  <style>\n",
              "    .colab-df-container {\n",
              "      display:flex;\n",
              "      gap: 12px;\n",
              "    }\n",
              "\n",
              "    .colab-df-convert {\n",
              "      background-color: #E8F0FE;\n",
              "      border: none;\n",
              "      border-radius: 50%;\n",
              "      cursor: pointer;\n",
              "      display: none;\n",
              "      fill: #1967D2;\n",
              "      height: 32px;\n",
              "      padding: 0 0 0 0;\n",
              "      width: 32px;\n",
              "    }\n",
              "\n",
              "    .colab-df-convert:hover {\n",
              "      background-color: #E2EBFA;\n",
              "      box-shadow: 0px 1px 2px rgba(60, 64, 67, 0.3), 0px 1px 3px 1px rgba(60, 64, 67, 0.15);\n",
              "      fill: #174EA6;\n",
              "    }\n",
              "\n",
              "    .colab-df-buttons div {\n",
              "      margin-bottom: 4px;\n",
              "    }\n",
              "\n",
              "    [theme=dark] .colab-df-convert {\n",
              "      background-color: #3B4455;\n",
              "      fill: #D2E3FC;\n",
              "    }\n",
              "\n",
              "    [theme=dark] .colab-df-convert:hover {\n",
              "      background-color: #434B5C;\n",
              "      box-shadow: 0px 1px 3px 1px rgba(0, 0, 0, 0.15);\n",
              "      filter: drop-shadow(0px 1px 2px rgba(0, 0, 0, 0.3));\n",
              "      fill: #FFFFFF;\n",
              "    }\n",
              "  </style>\n",
              "\n",
              "    <script>\n",
              "      const buttonEl =\n",
              "        document.querySelector('#df-db8330dc-194e-4eb6-ae93-72d11012ebc0 button.colab-df-convert');\n",
              "      buttonEl.style.display =\n",
              "        google.colab.kernel.accessAllowed ? 'block' : 'none';\n",
              "\n",
              "      async function convertToInteractive(key) {\n",
              "        const element = document.querySelector('#df-db8330dc-194e-4eb6-ae93-72d11012ebc0');\n",
              "        const dataTable =\n",
              "          await google.colab.kernel.invokeFunction('convertToInteractive',\n",
              "                                                    [key], {});\n",
              "        if (!dataTable) return;\n",
              "\n",
              "        const docLinkHtml = 'Like what you see? Visit the ' +\n",
              "          '<a target=\"_blank\" href=https://colab.research.google.com/notebooks/data_table.ipynb>data table notebook</a>'\n",
              "          + ' to learn more about interactive tables.';\n",
              "        element.innerHTML = '';\n",
              "        dataTable['output_type'] = 'display_data';\n",
              "        await google.colab.output.renderOutput(dataTable, element);\n",
              "        const docLink = document.createElement('div');\n",
              "        docLink.innerHTML = docLinkHtml;\n",
              "        element.appendChild(docLink);\n",
              "      }\n",
              "    </script>\n",
              "  </div>\n",
              "\n",
              "\n",
              "<div id=\"df-84e890af-98cf-4d26-93b4-c5e0a1f99280\">\n",
              "  <button class=\"colab-df-quickchart\" onclick=\"quickchart('df-84e890af-98cf-4d26-93b4-c5e0a1f99280')\"\n",
              "            title=\"Suggest charts.\"\n",
              "            style=\"display:none;\">\n",
              "\n",
              "<svg xmlns=\"http://www.w3.org/2000/svg\" height=\"24px\"viewBox=\"0 0 24 24\"\n",
              "     width=\"24px\">\n",
              "    <g>\n",
              "        <path d=\"M19 3H5c-1.1 0-2 .9-2 2v14c0 1.1.9 2 2 2h14c1.1 0 2-.9 2-2V5c0-1.1-.9-2-2-2zM9 17H7v-7h2v7zm4 0h-2V7h2v10zm4 0h-2v-4h2v4z\"/>\n",
              "    </g>\n",
              "</svg>\n",
              "  </button>\n",
              "\n",
              "<style>\n",
              "  .colab-df-quickchart {\n",
              "    background-color: #E8F0FE;\n",
              "    border: none;\n",
              "    border-radius: 50%;\n",
              "    cursor: pointer;\n",
              "    display: none;\n",
              "    fill: #1967D2;\n",
              "    height: 32px;\n",
              "    padding: 0 0 0 0;\n",
              "    width: 32px;\n",
              "  }\n",
              "\n",
              "  .colab-df-quickchart:hover {\n",
              "    background-color: #E2EBFA;\n",
              "    box-shadow: 0px 1px 2px rgba(60, 64, 67, 0.3), 0px 1px 3px 1px rgba(60, 64, 67, 0.15);\n",
              "    fill: #174EA6;\n",
              "  }\n",
              "\n",
              "  [theme=dark] .colab-df-quickchart {\n",
              "    background-color: #3B4455;\n",
              "    fill: #D2E3FC;\n",
              "  }\n",
              "\n",
              "  [theme=dark] .colab-df-quickchart:hover {\n",
              "    background-color: #434B5C;\n",
              "    box-shadow: 0px 1px 3px 1px rgba(0, 0, 0, 0.15);\n",
              "    filter: drop-shadow(0px 1px 2px rgba(0, 0, 0, 0.3));\n",
              "    fill: #FFFFFF;\n",
              "  }\n",
              "</style>\n",
              "\n",
              "  <script>\n",
              "    async function quickchart(key) {\n",
              "      const charts = await google.colab.kernel.invokeFunction(\n",
              "          'suggestCharts', [key], {});\n",
              "    }\n",
              "    (() => {\n",
              "      let quickchartButtonEl =\n",
              "        document.querySelector('#df-84e890af-98cf-4d26-93b4-c5e0a1f99280 button');\n",
              "      quickchartButtonEl.style.display =\n",
              "        google.colab.kernel.accessAllowed ? 'block' : 'none';\n",
              "    })();\n",
              "  </script>\n",
              "</div>\n",
              "    </div>\n",
              "  </div>\n"
            ]
          },
          "metadata": {},
          "execution_count": 49
        }
      ],
      "source": [
        "df.head()"
      ]
    },
    {
      "cell_type": "code",
      "execution_count": 50,
      "id": "5170a41c",
      "metadata": {
        "scrolled": false,
        "id": "5170a41c",
        "outputId": "d0085aaa-5326-4d2c-e3c0-dd5dcede850d",
        "colab": {
          "base_uri": "https://localhost:8080/"
        }
      },
      "outputs": [
        {
          "output_type": "stream",
          "name": "stdout",
          "text": [
            "<class 'pandas.core.frame.DataFrame'>\n",
            "RangeIndex: 1210789 entries, 0 to 1210788\n",
            "Data columns (total 20 columns):\n",
            " #   Column                      Non-Null Count    Dtype  \n",
            "---  ------                      --------------    -----  \n",
            " 0   L4_SRC_PORT                 1210789 non-null  int64  \n",
            " 1   L4_DST_PORT                 1210789 non-null  int64  \n",
            " 2   PROTOCOL                    1210789 non-null  int64  \n",
            " 3   L7_PROTO                    1210789 non-null  float64\n",
            " 4   IN_BYTES                    1210789 non-null  int64  \n",
            " 5   OUT_BYTES                   1210789 non-null  int64  \n",
            " 6   IN_PKTS                     1210789 non-null  int64  \n",
            " 7   OUT_PKTS                    1210789 non-null  int64  \n",
            " 8   TCP_FLAGS                   1210789 non-null  int64  \n",
            " 9   FLOW_DURATION_MILLISECONDS  1210789 non-null  int64  \n",
            " 10  Label                       1210789 non-null  int64  \n",
            " 11  Attack                      1210789 non-null  object \n",
            " 12  IPV4_SRC_ADDR_0             1210789 non-null  int64  \n",
            " 13  IPV4_SRC_ADDR_1             1210789 non-null  int64  \n",
            " 14  IPV4_SRC_ADDR_2             1210789 non-null  int64  \n",
            " 15  IPV4_SRC_ADDR_3             1210789 non-null  int64  \n",
            " 16  IPV4_DST_ADDR_0             1210789 non-null  int64  \n",
            " 17  IPV4_DST_ADDR_1             1210789 non-null  int64  \n",
            " 18  IPV4_DST_ADDR_2             1210789 non-null  int64  \n",
            " 19  IPV4_DST_ADDR_3             1210789 non-null  int64  \n",
            "dtypes: float64(1), int64(18), object(1)\n",
            "memory usage: 184.8+ MB\n"
          ]
        }
      ],
      "source": [
        "df.info()"
      ]
    },
    {
      "cell_type": "code",
      "execution_count": 51,
      "id": "377ad286",
      "metadata": {
        "id": "377ad286"
      },
      "outputs": [],
      "source": [
        "df.drop(columns='Attack',inplace=True)"
      ]
    },
    {
      "cell_type": "code",
      "execution_count": 52,
      "id": "520a3225",
      "metadata": {
        "id": "520a3225"
      },
      "outputs": [],
      "source": [
        "df['PROTOCOL'] = df['PROTOCOL'].astype(\"category\")\n",
        "df['TCP_FLAGS'] = df['TCP_FLAGS'].astype(\"category\")"
      ]
    },
    {
      "cell_type": "code",
      "execution_count": 53,
      "id": "ce685ef0",
      "metadata": {
        "id": "ce685ef0"
      },
      "outputs": [],
      "source": [
        "df = pd.get_dummies(df,columns=['PROTOCOL','TCP_FLAGS'])"
      ]
    },
    {
      "cell_type": "code",
      "execution_count": 54,
      "id": "6c28a538",
      "metadata": {
        "id": "6c28a538",
        "outputId": "361bf254-9f05-44fd-d64d-ff042b8d55ad",
        "colab": {
          "base_uri": "https://localhost:8080/"
        }
      },
      "outputs": [
        {
          "output_type": "execute_result",
          "data": {
            "text/plain": [
              "(1210789, 46)"
            ]
          },
          "metadata": {},
          "execution_count": 54
        }
      ],
      "source": [
        "df.shape"
      ]
    },
    {
      "cell_type": "code",
      "execution_count": 55,
      "id": "4be0b345",
      "metadata": {
        "id": "4be0b345",
        "outputId": "31567186-cad5-4641-d69b-2e057c286018",
        "colab": {
          "base_uri": "https://localhost:8080/",
          "height": 226
        }
      },
      "outputs": [
        {
          "output_type": "execute_result",
          "data": {
            "text/plain": [
              "   L4_SRC_PORT  L4_DST_PORT  L7_PROTO  IN_BYTES  OUT_BYTES  IN_PKTS  OUT_PKTS  \\\n",
              "0        63318          443     91.00       181        165        2         1   \n",
              "1        57442        15600      0.00        63          0        1         0   \n",
              "2        57452        15600      0.00        63          0        1         0   \n",
              "3        51989        15600      0.00        63          0        1         0   \n",
              "4        53927         1900    153.12       459          0        3         0   \n",
              "\n",
              "   FLOW_DURATION_MILLISECONDS  Label  IPV4_SRC_ADDR_0  IPV4_SRC_ADDR_1  \\\n",
              "0                         327      0              192              168   \n",
              "1                           0      0              192              168   \n",
              "2                           0      0              192              168   \n",
              "3                           0      0              192              168   \n",
              "4                         614      0              192              168   \n",
              "\n",
              "   IPV4_SRC_ADDR_2  IPV4_SRC_ADDR_3  IPV4_DST_ADDR_0  IPV4_DST_ADDR_1  \\\n",
              "0                1              195               52              139   \n",
              "1                1               79              192              168   \n",
              "2                1               79              239              255   \n",
              "3                1               79              192              168   \n",
              "4                1                6              239              255   \n",
              "\n",
              "   IPV4_DST_ADDR_2  IPV4_DST_ADDR_3  PROTOCOL_1  PROTOCOL_2  PROTOCOL_6  \\\n",
              "0              250              253           0           0           1   \n",
              "1                1              255           0           0           0   \n",
              "2              255              250           0           0           0   \n",
              "3                1              255           0           0           0   \n",
              "4              255              250           0           0           0   \n",
              "\n",
              "   PROTOCOL_17  PROTOCOL_58  TCP_FLAGS_0  TCP_FLAGS_2  TCP_FLAGS_4  \\\n",
              "0            0            0            0            0            0   \n",
              "1            1            0            1            0            0   \n",
              "2            1            0            1            0            0   \n",
              "3            1            0            1            0            0   \n",
              "4            1            0            1            0            0   \n",
              "\n",
              "   TCP_FLAGS_6  TCP_FLAGS_16  TCP_FLAGS_17  TCP_FLAGS_18  TCP_FLAGS_19  \\\n",
              "0            0             0             0             0             0   \n",
              "1            0             0             0             0             0   \n",
              "2            0             0             0             0             0   \n",
              "3            0             0             0             0             0   \n",
              "4            0             0             0             0             0   \n",
              "\n",
              "   TCP_FLAGS_20  TCP_FLAGS_21  TCP_FLAGS_22  TCP_FLAGS_23  TCP_FLAGS_24  \\\n",
              "0             0             0             0             0             1   \n",
              "1             0             0             0             0             0   \n",
              "2             0             0             0             0             0   \n",
              "3             0             0             0             0             0   \n",
              "4             0             0             0             0             0   \n",
              "\n",
              "   TCP_FLAGS_25  TCP_FLAGS_26  TCP_FLAGS_27  TCP_FLAGS_28  TCP_FLAGS_29  \\\n",
              "0             0             0             0             0             0   \n",
              "1             0             0             0             0             0   \n",
              "2             0             0             0             0             0   \n",
              "3             0             0             0             0             0   \n",
              "4             0             0             0             0             0   \n",
              "\n",
              "   TCP_FLAGS_30  TCP_FLAGS_31  TCP_FLAGS_211  TCP_FLAGS_214  TCP_FLAGS_215  \\\n",
              "0             0             0              0              0              0   \n",
              "1             0             0              0              0              0   \n",
              "2             0             0              0              0              0   \n",
              "3             0             0              0              0              0   \n",
              "4             0             0              0              0              0   \n",
              "\n",
              "   TCP_FLAGS_219  \n",
              "0              0  \n",
              "1              0  \n",
              "2              0  \n",
              "3              0  \n",
              "4              0  "
            ],
            "text/html": [
              "\n",
              "  <div id=\"df-c33a4dfa-5a57-4ec0-b858-670a0190cb63\" class=\"colab-df-container\">\n",
              "    <div>\n",
              "<style scoped>\n",
              "    .dataframe tbody tr th:only-of-type {\n",
              "        vertical-align: middle;\n",
              "    }\n",
              "\n",
              "    .dataframe tbody tr th {\n",
              "        vertical-align: top;\n",
              "    }\n",
              "\n",
              "    .dataframe thead th {\n",
              "        text-align: right;\n",
              "    }\n",
              "</style>\n",
              "<table border=\"1\" class=\"dataframe\">\n",
              "  <thead>\n",
              "    <tr style=\"text-align: right;\">\n",
              "      <th></th>\n",
              "      <th>L4_SRC_PORT</th>\n",
              "      <th>L4_DST_PORT</th>\n",
              "      <th>L7_PROTO</th>\n",
              "      <th>IN_BYTES</th>\n",
              "      <th>OUT_BYTES</th>\n",
              "      <th>IN_PKTS</th>\n",
              "      <th>OUT_PKTS</th>\n",
              "      <th>FLOW_DURATION_MILLISECONDS</th>\n",
              "      <th>Label</th>\n",
              "      <th>IPV4_SRC_ADDR_0</th>\n",
              "      <th>IPV4_SRC_ADDR_1</th>\n",
              "      <th>IPV4_SRC_ADDR_2</th>\n",
              "      <th>IPV4_SRC_ADDR_3</th>\n",
              "      <th>IPV4_DST_ADDR_0</th>\n",
              "      <th>IPV4_DST_ADDR_1</th>\n",
              "      <th>IPV4_DST_ADDR_2</th>\n",
              "      <th>IPV4_DST_ADDR_3</th>\n",
              "      <th>PROTOCOL_1</th>\n",
              "      <th>PROTOCOL_2</th>\n",
              "      <th>PROTOCOL_6</th>\n",
              "      <th>PROTOCOL_17</th>\n",
              "      <th>PROTOCOL_58</th>\n",
              "      <th>TCP_FLAGS_0</th>\n",
              "      <th>TCP_FLAGS_2</th>\n",
              "      <th>TCP_FLAGS_4</th>\n",
              "      <th>TCP_FLAGS_6</th>\n",
              "      <th>TCP_FLAGS_16</th>\n",
              "      <th>TCP_FLAGS_17</th>\n",
              "      <th>TCP_FLAGS_18</th>\n",
              "      <th>TCP_FLAGS_19</th>\n",
              "      <th>TCP_FLAGS_20</th>\n",
              "      <th>TCP_FLAGS_21</th>\n",
              "      <th>TCP_FLAGS_22</th>\n",
              "      <th>TCP_FLAGS_23</th>\n",
              "      <th>TCP_FLAGS_24</th>\n",
              "      <th>TCP_FLAGS_25</th>\n",
              "      <th>TCP_FLAGS_26</th>\n",
              "      <th>TCP_FLAGS_27</th>\n",
              "      <th>TCP_FLAGS_28</th>\n",
              "      <th>TCP_FLAGS_29</th>\n",
              "      <th>TCP_FLAGS_30</th>\n",
              "      <th>TCP_FLAGS_31</th>\n",
              "      <th>TCP_FLAGS_211</th>\n",
              "      <th>TCP_FLAGS_214</th>\n",
              "      <th>TCP_FLAGS_215</th>\n",
              "      <th>TCP_FLAGS_219</th>\n",
              "    </tr>\n",
              "  </thead>\n",
              "  <tbody>\n",
              "    <tr>\n",
              "      <th>0</th>\n",
              "      <td>63318</td>\n",
              "      <td>443</td>\n",
              "      <td>91.00</td>\n",
              "      <td>181</td>\n",
              "      <td>165</td>\n",
              "      <td>2</td>\n",
              "      <td>1</td>\n",
              "      <td>327</td>\n",
              "      <td>0</td>\n",
              "      <td>192</td>\n",
              "      <td>168</td>\n",
              "      <td>1</td>\n",
              "      <td>195</td>\n",
              "      <td>52</td>\n",
              "      <td>139</td>\n",
              "      <td>250</td>\n",
              "      <td>253</td>\n",
              "      <td>0</td>\n",
              "      <td>0</td>\n",
              "      <td>1</td>\n",
              "      <td>0</td>\n",
              "      <td>0</td>\n",
              "      <td>0</td>\n",
              "      <td>0</td>\n",
              "      <td>0</td>\n",
              "      <td>0</td>\n",
              "      <td>0</td>\n",
              "      <td>0</td>\n",
              "      <td>0</td>\n",
              "      <td>0</td>\n",
              "      <td>0</td>\n",
              "      <td>0</td>\n",
              "      <td>0</td>\n",
              "      <td>0</td>\n",
              "      <td>1</td>\n",
              "      <td>0</td>\n",
              "      <td>0</td>\n",
              "      <td>0</td>\n",
              "      <td>0</td>\n",
              "      <td>0</td>\n",
              "      <td>0</td>\n",
              "      <td>0</td>\n",
              "      <td>0</td>\n",
              "      <td>0</td>\n",
              "      <td>0</td>\n",
              "      <td>0</td>\n",
              "    </tr>\n",
              "    <tr>\n",
              "      <th>1</th>\n",
              "      <td>57442</td>\n",
              "      <td>15600</td>\n",
              "      <td>0.00</td>\n",
              "      <td>63</td>\n",
              "      <td>0</td>\n",
              "      <td>1</td>\n",
              "      <td>0</td>\n",
              "      <td>0</td>\n",
              "      <td>0</td>\n",
              "      <td>192</td>\n",
              "      <td>168</td>\n",
              "      <td>1</td>\n",
              "      <td>79</td>\n",
              "      <td>192</td>\n",
              "      <td>168</td>\n",
              "      <td>1</td>\n",
              "      <td>255</td>\n",
              "      <td>0</td>\n",
              "      <td>0</td>\n",
              "      <td>0</td>\n",
              "      <td>1</td>\n",
              "      <td>0</td>\n",
              "      <td>1</td>\n",
              "      <td>0</td>\n",
              "      <td>0</td>\n",
              "      <td>0</td>\n",
              "      <td>0</td>\n",
              "      <td>0</td>\n",
              "      <td>0</td>\n",
              "      <td>0</td>\n",
              "      <td>0</td>\n",
              "      <td>0</td>\n",
              "      <td>0</td>\n",
              "      <td>0</td>\n",
              "      <td>0</td>\n",
              "      <td>0</td>\n",
              "      <td>0</td>\n",
              "      <td>0</td>\n",
              "      <td>0</td>\n",
              "      <td>0</td>\n",
              "      <td>0</td>\n",
              "      <td>0</td>\n",
              "      <td>0</td>\n",
              "      <td>0</td>\n",
              "      <td>0</td>\n",
              "      <td>0</td>\n",
              "    </tr>\n",
              "    <tr>\n",
              "      <th>2</th>\n",
              "      <td>57452</td>\n",
              "      <td>15600</td>\n",
              "      <td>0.00</td>\n",
              "      <td>63</td>\n",
              "      <td>0</td>\n",
              "      <td>1</td>\n",
              "      <td>0</td>\n",
              "      <td>0</td>\n",
              "      <td>0</td>\n",
              "      <td>192</td>\n",
              "      <td>168</td>\n",
              "      <td>1</td>\n",
              "      <td>79</td>\n",
              "      <td>239</td>\n",
              "      <td>255</td>\n",
              "      <td>255</td>\n",
              "      <td>250</td>\n",
              "      <td>0</td>\n",
              "      <td>0</td>\n",
              "      <td>0</td>\n",
              "      <td>1</td>\n",
              "      <td>0</td>\n",
              "      <td>1</td>\n",
              "      <td>0</td>\n",
              "      <td>0</td>\n",
              "      <td>0</td>\n",
              "      <td>0</td>\n",
              "      <td>0</td>\n",
              "      <td>0</td>\n",
              "      <td>0</td>\n",
              "      <td>0</td>\n",
              "      <td>0</td>\n",
              "      <td>0</td>\n",
              "      <td>0</td>\n",
              "      <td>0</td>\n",
              "      <td>0</td>\n",
              "      <td>0</td>\n",
              "      <td>0</td>\n",
              "      <td>0</td>\n",
              "      <td>0</td>\n",
              "      <td>0</td>\n",
              "      <td>0</td>\n",
              "      <td>0</td>\n",
              "      <td>0</td>\n",
              "      <td>0</td>\n",
              "      <td>0</td>\n",
              "    </tr>\n",
              "    <tr>\n",
              "      <th>3</th>\n",
              "      <td>51989</td>\n",
              "      <td>15600</td>\n",
              "      <td>0.00</td>\n",
              "      <td>63</td>\n",
              "      <td>0</td>\n",
              "      <td>1</td>\n",
              "      <td>0</td>\n",
              "      <td>0</td>\n",
              "      <td>0</td>\n",
              "      <td>192</td>\n",
              "      <td>168</td>\n",
              "      <td>1</td>\n",
              "      <td>79</td>\n",
              "      <td>192</td>\n",
              "      <td>168</td>\n",
              "      <td>1</td>\n",
              "      <td>255</td>\n",
              "      <td>0</td>\n",
              "      <td>0</td>\n",
              "      <td>0</td>\n",
              "      <td>1</td>\n",
              "      <td>0</td>\n",
              "      <td>1</td>\n",
              "      <td>0</td>\n",
              "      <td>0</td>\n",
              "      <td>0</td>\n",
              "      <td>0</td>\n",
              "      <td>0</td>\n",
              "      <td>0</td>\n",
              "      <td>0</td>\n",
              "      <td>0</td>\n",
              "      <td>0</td>\n",
              "      <td>0</td>\n",
              "      <td>0</td>\n",
              "      <td>0</td>\n",
              "      <td>0</td>\n",
              "      <td>0</td>\n",
              "      <td>0</td>\n",
              "      <td>0</td>\n",
              "      <td>0</td>\n",
              "      <td>0</td>\n",
              "      <td>0</td>\n",
              "      <td>0</td>\n",
              "      <td>0</td>\n",
              "      <td>0</td>\n",
              "      <td>0</td>\n",
              "    </tr>\n",
              "    <tr>\n",
              "      <th>4</th>\n",
              "      <td>53927</td>\n",
              "      <td>1900</td>\n",
              "      <td>153.12</td>\n",
              "      <td>459</td>\n",
              "      <td>0</td>\n",
              "      <td>3</td>\n",
              "      <td>0</td>\n",
              "      <td>614</td>\n",
              "      <td>0</td>\n",
              "      <td>192</td>\n",
              "      <td>168</td>\n",
              "      <td>1</td>\n",
              "      <td>6</td>\n",
              "      <td>239</td>\n",
              "      <td>255</td>\n",
              "      <td>255</td>\n",
              "      <td>250</td>\n",
              "      <td>0</td>\n",
              "      <td>0</td>\n",
              "      <td>0</td>\n",
              "      <td>1</td>\n",
              "      <td>0</td>\n",
              "      <td>1</td>\n",
              "      <td>0</td>\n",
              "      <td>0</td>\n",
              "      <td>0</td>\n",
              "      <td>0</td>\n",
              "      <td>0</td>\n",
              "      <td>0</td>\n",
              "      <td>0</td>\n",
              "      <td>0</td>\n",
              "      <td>0</td>\n",
              "      <td>0</td>\n",
              "      <td>0</td>\n",
              "      <td>0</td>\n",
              "      <td>0</td>\n",
              "      <td>0</td>\n",
              "      <td>0</td>\n",
              "      <td>0</td>\n",
              "      <td>0</td>\n",
              "      <td>0</td>\n",
              "      <td>0</td>\n",
              "      <td>0</td>\n",
              "      <td>0</td>\n",
              "      <td>0</td>\n",
              "      <td>0</td>\n",
              "    </tr>\n",
              "  </tbody>\n",
              "</table>\n",
              "</div>\n",
              "    <div class=\"colab-df-buttons\">\n",
              "\n",
              "  <div class=\"colab-df-container\">\n",
              "    <button class=\"colab-df-convert\" onclick=\"convertToInteractive('df-c33a4dfa-5a57-4ec0-b858-670a0190cb63')\"\n",
              "            title=\"Convert this dataframe to an interactive table.\"\n",
              "            style=\"display:none;\">\n",
              "\n",
              "  <svg xmlns=\"http://www.w3.org/2000/svg\" height=\"24px\" viewBox=\"0 -960 960 960\">\n",
              "    <path d=\"M120-120v-720h720v720H120Zm60-500h600v-160H180v160Zm220 220h160v-160H400v160Zm0 220h160v-160H400v160ZM180-400h160v-160H180v160Zm440 0h160v-160H620v160ZM180-180h160v-160H180v160Zm440 0h160v-160H620v160Z\"/>\n",
              "  </svg>\n",
              "    </button>\n",
              "\n",
              "  <style>\n",
              "    .colab-df-container {\n",
              "      display:flex;\n",
              "      gap: 12px;\n",
              "    }\n",
              "\n",
              "    .colab-df-convert {\n",
              "      background-color: #E8F0FE;\n",
              "      border: none;\n",
              "      border-radius: 50%;\n",
              "      cursor: pointer;\n",
              "      display: none;\n",
              "      fill: #1967D2;\n",
              "      height: 32px;\n",
              "      padding: 0 0 0 0;\n",
              "      width: 32px;\n",
              "    }\n",
              "\n",
              "    .colab-df-convert:hover {\n",
              "      background-color: #E2EBFA;\n",
              "      box-shadow: 0px 1px 2px rgba(60, 64, 67, 0.3), 0px 1px 3px 1px rgba(60, 64, 67, 0.15);\n",
              "      fill: #174EA6;\n",
              "    }\n",
              "\n",
              "    .colab-df-buttons div {\n",
              "      margin-bottom: 4px;\n",
              "    }\n",
              "\n",
              "    [theme=dark] .colab-df-convert {\n",
              "      background-color: #3B4455;\n",
              "      fill: #D2E3FC;\n",
              "    }\n",
              "\n",
              "    [theme=dark] .colab-df-convert:hover {\n",
              "      background-color: #434B5C;\n",
              "      box-shadow: 0px 1px 3px 1px rgba(0, 0, 0, 0.15);\n",
              "      filter: drop-shadow(0px 1px 2px rgba(0, 0, 0, 0.3));\n",
              "      fill: #FFFFFF;\n",
              "    }\n",
              "  </style>\n",
              "\n",
              "    <script>\n",
              "      const buttonEl =\n",
              "        document.querySelector('#df-c33a4dfa-5a57-4ec0-b858-670a0190cb63 button.colab-df-convert');\n",
              "      buttonEl.style.display =\n",
              "        google.colab.kernel.accessAllowed ? 'block' : 'none';\n",
              "\n",
              "      async function convertToInteractive(key) {\n",
              "        const element = document.querySelector('#df-c33a4dfa-5a57-4ec0-b858-670a0190cb63');\n",
              "        const dataTable =\n",
              "          await google.colab.kernel.invokeFunction('convertToInteractive',\n",
              "                                                    [key], {});\n",
              "        if (!dataTable) return;\n",
              "\n",
              "        const docLinkHtml = 'Like what you see? Visit the ' +\n",
              "          '<a target=\"_blank\" href=https://colab.research.google.com/notebooks/data_table.ipynb>data table notebook</a>'\n",
              "          + ' to learn more about interactive tables.';\n",
              "        element.innerHTML = '';\n",
              "        dataTable['output_type'] = 'display_data';\n",
              "        await google.colab.output.renderOutput(dataTable, element);\n",
              "        const docLink = document.createElement('div');\n",
              "        docLink.innerHTML = docLinkHtml;\n",
              "        element.appendChild(docLink);\n",
              "      }\n",
              "    </script>\n",
              "  </div>\n",
              "\n",
              "\n",
              "<div id=\"df-25f53f7f-e689-4532-9bc6-44ce07cec2fb\">\n",
              "  <button class=\"colab-df-quickchart\" onclick=\"quickchart('df-25f53f7f-e689-4532-9bc6-44ce07cec2fb')\"\n",
              "            title=\"Suggest charts.\"\n",
              "            style=\"display:none;\">\n",
              "\n",
              "<svg xmlns=\"http://www.w3.org/2000/svg\" height=\"24px\"viewBox=\"0 0 24 24\"\n",
              "     width=\"24px\">\n",
              "    <g>\n",
              "        <path d=\"M19 3H5c-1.1 0-2 .9-2 2v14c0 1.1.9 2 2 2h14c1.1 0 2-.9 2-2V5c0-1.1-.9-2-2-2zM9 17H7v-7h2v7zm4 0h-2V7h2v10zm4 0h-2v-4h2v4z\"/>\n",
              "    </g>\n",
              "</svg>\n",
              "  </button>\n",
              "\n",
              "<style>\n",
              "  .colab-df-quickchart {\n",
              "    background-color: #E8F0FE;\n",
              "    border: none;\n",
              "    border-radius: 50%;\n",
              "    cursor: pointer;\n",
              "    display: none;\n",
              "    fill: #1967D2;\n",
              "    height: 32px;\n",
              "    padding: 0 0 0 0;\n",
              "    width: 32px;\n",
              "  }\n",
              "\n",
              "  .colab-df-quickchart:hover {\n",
              "    background-color: #E2EBFA;\n",
              "    box-shadow: 0px 1px 2px rgba(60, 64, 67, 0.3), 0px 1px 3px 1px rgba(60, 64, 67, 0.15);\n",
              "    fill: #174EA6;\n",
              "  }\n",
              "\n",
              "  [theme=dark] .colab-df-quickchart {\n",
              "    background-color: #3B4455;\n",
              "    fill: #D2E3FC;\n",
              "  }\n",
              "\n",
              "  [theme=dark] .colab-df-quickchart:hover {\n",
              "    background-color: #434B5C;\n",
              "    box-shadow: 0px 1px 3px 1px rgba(0, 0, 0, 0.15);\n",
              "    filter: drop-shadow(0px 1px 2px rgba(0, 0, 0, 0.3));\n",
              "    fill: #FFFFFF;\n",
              "  }\n",
              "</style>\n",
              "\n",
              "  <script>\n",
              "    async function quickchart(key) {\n",
              "      const charts = await google.colab.kernel.invokeFunction(\n",
              "          'suggestCharts', [key], {});\n",
              "    }\n",
              "    (() => {\n",
              "      let quickchartButtonEl =\n",
              "        document.querySelector('#df-25f53f7f-e689-4532-9bc6-44ce07cec2fb button');\n",
              "      quickchartButtonEl.style.display =\n",
              "        google.colab.kernel.accessAllowed ? 'block' : 'none';\n",
              "    })();\n",
              "  </script>\n",
              "</div>\n",
              "    </div>\n",
              "  </div>\n"
            ]
          },
          "metadata": {},
          "execution_count": 55
        }
      ],
      "source": [
        "df.head()"
      ]
    },
    {
      "cell_type": "code",
      "execution_count": 56,
      "id": "6158b2d9",
      "metadata": {
        "id": "6158b2d9",
        "outputId": "54cc5014-4af1-4a40-fe8b-33c5744e0cc7",
        "colab": {
          "base_uri": "https://localhost:8080/"
        }
      },
      "outputs": [
        {
          "output_type": "stream",
          "name": "stdout",
          "text": [
            "<class 'pandas.core.frame.DataFrame'>\n",
            "RangeIndex: 1210789 entries, 0 to 1210788\n",
            "Data columns (total 46 columns):\n",
            " #   Column                      Non-Null Count    Dtype  \n",
            "---  ------                      --------------    -----  \n",
            " 0   L4_SRC_PORT                 1210789 non-null  int64  \n",
            " 1   L4_DST_PORT                 1210789 non-null  int64  \n",
            " 2   L7_PROTO                    1210789 non-null  float64\n",
            " 3   IN_BYTES                    1210789 non-null  int64  \n",
            " 4   OUT_BYTES                   1210789 non-null  int64  \n",
            " 5   IN_PKTS                     1210789 non-null  int64  \n",
            " 6   OUT_PKTS                    1210789 non-null  int64  \n",
            " 7   FLOW_DURATION_MILLISECONDS  1210789 non-null  int64  \n",
            " 8   Label                       1210789 non-null  int64  \n",
            " 9   IPV4_SRC_ADDR_0             1210789 non-null  int64  \n",
            " 10  IPV4_SRC_ADDR_1             1210789 non-null  int64  \n",
            " 11  IPV4_SRC_ADDR_2             1210789 non-null  int64  \n",
            " 12  IPV4_SRC_ADDR_3             1210789 non-null  int64  \n",
            " 13  IPV4_DST_ADDR_0             1210789 non-null  int64  \n",
            " 14  IPV4_DST_ADDR_1             1210789 non-null  int64  \n",
            " 15  IPV4_DST_ADDR_2             1210789 non-null  int64  \n",
            " 16  IPV4_DST_ADDR_3             1210789 non-null  int64  \n",
            " 17  PROTOCOL_1                  1210789 non-null  uint8  \n",
            " 18  PROTOCOL_2                  1210789 non-null  uint8  \n",
            " 19  PROTOCOL_6                  1210789 non-null  uint8  \n",
            " 20  PROTOCOL_17                 1210789 non-null  uint8  \n",
            " 21  PROTOCOL_58                 1210789 non-null  uint8  \n",
            " 22  TCP_FLAGS_0                 1210789 non-null  uint8  \n",
            " 23  TCP_FLAGS_2                 1210789 non-null  uint8  \n",
            " 24  TCP_FLAGS_4                 1210789 non-null  uint8  \n",
            " 25  TCP_FLAGS_6                 1210789 non-null  uint8  \n",
            " 26  TCP_FLAGS_16                1210789 non-null  uint8  \n",
            " 27  TCP_FLAGS_17                1210789 non-null  uint8  \n",
            " 28  TCP_FLAGS_18                1210789 non-null  uint8  \n",
            " 29  TCP_FLAGS_19                1210789 non-null  uint8  \n",
            " 30  TCP_FLAGS_20                1210789 non-null  uint8  \n",
            " 31  TCP_FLAGS_21                1210789 non-null  uint8  \n",
            " 32  TCP_FLAGS_22                1210789 non-null  uint8  \n",
            " 33  TCP_FLAGS_23                1210789 non-null  uint8  \n",
            " 34  TCP_FLAGS_24                1210789 non-null  uint8  \n",
            " 35  TCP_FLAGS_25                1210789 non-null  uint8  \n",
            " 36  TCP_FLAGS_26                1210789 non-null  uint8  \n",
            " 37  TCP_FLAGS_27                1210789 non-null  uint8  \n",
            " 38  TCP_FLAGS_28                1210789 non-null  uint8  \n",
            " 39  TCP_FLAGS_29                1210789 non-null  uint8  \n",
            " 40  TCP_FLAGS_30                1210789 non-null  uint8  \n",
            " 41  TCP_FLAGS_31                1210789 non-null  uint8  \n",
            " 42  TCP_FLAGS_211               1210789 non-null  uint8  \n",
            " 43  TCP_FLAGS_214               1210789 non-null  uint8  \n",
            " 44  TCP_FLAGS_215               1210789 non-null  uint8  \n",
            " 45  TCP_FLAGS_219               1210789 non-null  uint8  \n",
            "dtypes: float64(1), int64(16), uint8(29)\n",
            "memory usage: 190.5 MB\n"
          ]
        }
      ],
      "source": [
        "df.info()"
      ]
    },
    {
      "cell_type": "code",
      "execution_count": 57,
      "id": "870af6c6",
      "metadata": {
        "id": "870af6c6"
      },
      "outputs": [],
      "source": [
        "df = df_shrink(df, obj2cat=False, int2uint=False)"
      ]
    },
    {
      "cell_type": "code",
      "execution_count": 58,
      "id": "0bb7d69b",
      "metadata": {
        "id": "0bb7d69b",
        "outputId": "2b2edbad-6bfe-4032-9f6f-d27dbe59e41e",
        "colab": {
          "base_uri": "https://localhost:8080/"
        }
      },
      "outputs": [
        {
          "output_type": "stream",
          "name": "stdout",
          "text": [
            "<class 'pandas.core.frame.DataFrame'>\n",
            "RangeIndex: 1210789 entries, 0 to 1210788\n",
            "Data columns (total 46 columns):\n",
            " #   Column                      Non-Null Count    Dtype  \n",
            "---  ------                      --------------    -----  \n",
            " 0   L4_SRC_PORT                 1210789 non-null  int32  \n",
            " 1   L4_DST_PORT                 1210789 non-null  int32  \n",
            " 2   L7_PROTO                    1210789 non-null  float32\n",
            " 3   IN_BYTES                    1210789 non-null  int32  \n",
            " 4   OUT_BYTES                   1210789 non-null  int32  \n",
            " 5   IN_PKTS                     1210789 non-null  int32  \n",
            " 6   OUT_PKTS                    1210789 non-null  int32  \n",
            " 7   FLOW_DURATION_MILLISECONDS  1210789 non-null  int32  \n",
            " 8   Label                       1210789 non-null  int8   \n",
            " 9   IPV4_SRC_ADDR_0             1210789 non-null  int16  \n",
            " 10  IPV4_SRC_ADDR_1             1210789 non-null  int16  \n",
            " 11  IPV4_SRC_ADDR_2             1210789 non-null  int16  \n",
            " 12  IPV4_SRC_ADDR_3             1210789 non-null  int16  \n",
            " 13  IPV4_DST_ADDR_0             1210789 non-null  int16  \n",
            " 14  IPV4_DST_ADDR_1             1210789 non-null  int16  \n",
            " 15  IPV4_DST_ADDR_2             1210789 non-null  int16  \n",
            " 16  IPV4_DST_ADDR_3             1210789 non-null  int16  \n",
            " 17  PROTOCOL_1                  1210789 non-null  uint8  \n",
            " 18  PROTOCOL_2                  1210789 non-null  uint8  \n",
            " 19  PROTOCOL_6                  1210789 non-null  uint8  \n",
            " 20  PROTOCOL_17                 1210789 non-null  uint8  \n",
            " 21  PROTOCOL_58                 1210789 non-null  uint8  \n",
            " 22  TCP_FLAGS_0                 1210789 non-null  uint8  \n",
            " 23  TCP_FLAGS_2                 1210789 non-null  uint8  \n",
            " 24  TCP_FLAGS_4                 1210789 non-null  uint8  \n",
            " 25  TCP_FLAGS_6                 1210789 non-null  uint8  \n",
            " 26  TCP_FLAGS_16                1210789 non-null  uint8  \n",
            " 27  TCP_FLAGS_17                1210789 non-null  uint8  \n",
            " 28  TCP_FLAGS_18                1210789 non-null  uint8  \n",
            " 29  TCP_FLAGS_19                1210789 non-null  uint8  \n",
            " 30  TCP_FLAGS_20                1210789 non-null  uint8  \n",
            " 31  TCP_FLAGS_21                1210789 non-null  uint8  \n",
            " 32  TCP_FLAGS_22                1210789 non-null  uint8  \n",
            " 33  TCP_FLAGS_23                1210789 non-null  uint8  \n",
            " 34  TCP_FLAGS_24                1210789 non-null  uint8  \n",
            " 35  TCP_FLAGS_25                1210789 non-null  uint8  \n",
            " 36  TCP_FLAGS_26                1210789 non-null  uint8  \n",
            " 37  TCP_FLAGS_27                1210789 non-null  uint8  \n",
            " 38  TCP_FLAGS_28                1210789 non-null  uint8  \n",
            " 39  TCP_FLAGS_29                1210789 non-null  uint8  \n",
            " 40  TCP_FLAGS_30                1210789 non-null  uint8  \n",
            " 41  TCP_FLAGS_31                1210789 non-null  uint8  \n",
            " 42  TCP_FLAGS_211               1210789 non-null  uint8  \n",
            " 43  TCP_FLAGS_214               1210789 non-null  uint8  \n",
            " 44  TCP_FLAGS_215               1210789 non-null  uint8  \n",
            " 45  TCP_FLAGS_219               1210789 non-null  uint8  \n",
            "dtypes: float32(1), int16(8), int32(7), int8(1), uint8(29)\n",
            "memory usage: 90.1 MB\n"
          ]
        }
      ],
      "source": [
        "df.info(memory_usage='deep')"
      ]
    },
    {
      "cell_type": "code",
      "execution_count": 59,
      "id": "8bb33c80",
      "metadata": {
        "id": "8bb33c80"
      },
      "outputs": [],
      "source": [
        "X = df.drop(columns='Label',axis=1)\n",
        "y = df['Label']"
      ]
    },
    {
      "cell_type": "code",
      "execution_count": 60,
      "id": "634e5ed1",
      "metadata": {
        "id": "634e5ed1"
      },
      "outputs": [],
      "source": [
        "X_train , X_test , y_train ,y_test = train_test_split(X, y, random_state=42, test_size=0.25)"
      ]
    },
    {
      "cell_type": "code",
      "source": [
        "pipe1 = make_pipeline(\n",
        "    StandardScaler(),\n",
        "    LogisticRegression(max_iter=1000)\n",
        ")"
      ],
      "metadata": {
        "id": "lJ0u3k6_7rUW"
      },
      "id": "lJ0u3k6_7rUW",
      "execution_count": 62,
      "outputs": []
    },
    {
      "cell_type": "code",
      "execution_count": 63,
      "id": "014e0bc5",
      "metadata": {
        "id": "014e0bc5",
        "outputId": "7f2e3292-b4b1-43ec-93c5-32692fe2ac03",
        "colab": {
          "base_uri": "https://localhost:8080/",
          "height": 172
        }
      },
      "outputs": [
        {
          "output_type": "execute_result",
          "data": {
            "text/plain": [
              "Pipeline(steps=[('standardscaler', StandardScaler()),\n",
              "                ('logisticregression', LogisticRegression(max_iter=1000))])"
            ],
            "text/html": [
              "<style>#sk-container-id-3 {color: black;background-color: white;}#sk-container-id-3 pre{padding: 0;}#sk-container-id-3 div.sk-toggleable {background-color: white;}#sk-container-id-3 label.sk-toggleable__label {cursor: pointer;display: block;width: 100%;margin-bottom: 0;padding: 0.3em;box-sizing: border-box;text-align: center;}#sk-container-id-3 label.sk-toggleable__label-arrow:before {content: \"▸\";float: left;margin-right: 0.25em;color: #696969;}#sk-container-id-3 label.sk-toggleable__label-arrow:hover:before {color: black;}#sk-container-id-3 div.sk-estimator:hover label.sk-toggleable__label-arrow:before {color: black;}#sk-container-id-3 div.sk-toggleable__content {max-height: 0;max-width: 0;overflow: hidden;text-align: left;background-color: #f0f8ff;}#sk-container-id-3 div.sk-toggleable__content pre {margin: 0.2em;color: black;border-radius: 0.25em;background-color: #f0f8ff;}#sk-container-id-3 input.sk-toggleable__control:checked~div.sk-toggleable__content {max-height: 200px;max-width: 100%;overflow: auto;}#sk-container-id-3 input.sk-toggleable__control:checked~label.sk-toggleable__label-arrow:before {content: \"▾\";}#sk-container-id-3 div.sk-estimator input.sk-toggleable__control:checked~label.sk-toggleable__label {background-color: #d4ebff;}#sk-container-id-3 div.sk-label input.sk-toggleable__control:checked~label.sk-toggleable__label {background-color: #d4ebff;}#sk-container-id-3 input.sk-hidden--visually {border: 0;clip: rect(1px 1px 1px 1px);clip: rect(1px, 1px, 1px, 1px);height: 1px;margin: -1px;overflow: hidden;padding: 0;position: absolute;width: 1px;}#sk-container-id-3 div.sk-estimator {font-family: monospace;background-color: #f0f8ff;border: 1px dotted black;border-radius: 0.25em;box-sizing: border-box;margin-bottom: 0.5em;}#sk-container-id-3 div.sk-estimator:hover {background-color: #d4ebff;}#sk-container-id-3 div.sk-parallel-item::after {content: \"\";width: 100%;border-bottom: 1px solid gray;flex-grow: 1;}#sk-container-id-3 div.sk-label:hover label.sk-toggleable__label {background-color: #d4ebff;}#sk-container-id-3 div.sk-serial::before {content: \"\";position: absolute;border-left: 1px solid gray;box-sizing: border-box;top: 0;bottom: 0;left: 50%;z-index: 0;}#sk-container-id-3 div.sk-serial {display: flex;flex-direction: column;align-items: center;background-color: white;padding-right: 0.2em;padding-left: 0.2em;position: relative;}#sk-container-id-3 div.sk-item {position: relative;z-index: 1;}#sk-container-id-3 div.sk-parallel {display: flex;align-items: stretch;justify-content: center;background-color: white;position: relative;}#sk-container-id-3 div.sk-item::before, #sk-container-id-3 div.sk-parallel-item::before {content: \"\";position: absolute;border-left: 1px solid gray;box-sizing: border-box;top: 0;bottom: 0;left: 50%;z-index: -1;}#sk-container-id-3 div.sk-parallel-item {display: flex;flex-direction: column;z-index: 1;position: relative;background-color: white;}#sk-container-id-3 div.sk-parallel-item:first-child::after {align-self: flex-end;width: 50%;}#sk-container-id-3 div.sk-parallel-item:last-child::after {align-self: flex-start;width: 50%;}#sk-container-id-3 div.sk-parallel-item:only-child::after {width: 0;}#sk-container-id-3 div.sk-dashed-wrapped {border: 1px dashed gray;margin: 0 0.4em 0.5em 0.4em;box-sizing: border-box;padding-bottom: 0.4em;background-color: white;}#sk-container-id-3 div.sk-label label {font-family: monospace;font-weight: bold;display: inline-block;line-height: 1.2em;}#sk-container-id-3 div.sk-label-container {text-align: center;}#sk-container-id-3 div.sk-container {/* jupyter's `normalize.less` sets `[hidden] { display: none; }` but bootstrap.min.css set `[hidden] { display: none !important; }` so we also need the `!important` here to be able to override the default hidden behavior on the sphinx rendered scikit-learn.org. See: https://github.com/scikit-learn/scikit-learn/issues/21755 */display: inline-block !important;position: relative;}#sk-container-id-3 div.sk-text-repr-fallback {display: none;}</style><div id=\"sk-container-id-3\" class=\"sk-top-container\"><div class=\"sk-text-repr-fallback\"><pre>Pipeline(steps=[(&#x27;standardscaler&#x27;, StandardScaler()),\n",
              "                (&#x27;logisticregression&#x27;, LogisticRegression(max_iter=1000))])</pre><b>In a Jupyter environment, please rerun this cell to show the HTML representation or trust the notebook. <br />On GitHub, the HTML representation is unable to render, please try loading this page with nbviewer.org.</b></div><div class=\"sk-container\" hidden><div class=\"sk-item sk-dashed-wrapped\"><div class=\"sk-label-container\"><div class=\"sk-label sk-toggleable\"><input class=\"sk-toggleable__control sk-hidden--visually\" id=\"sk-estimator-id-3\" type=\"checkbox\" ><label for=\"sk-estimator-id-3\" class=\"sk-toggleable__label sk-toggleable__label-arrow\">Pipeline</label><div class=\"sk-toggleable__content\"><pre>Pipeline(steps=[(&#x27;standardscaler&#x27;, StandardScaler()),\n",
              "                (&#x27;logisticregression&#x27;, LogisticRegression(max_iter=1000))])</pre></div></div></div><div class=\"sk-serial\"><div class=\"sk-item\"><div class=\"sk-estimator sk-toggleable\"><input class=\"sk-toggleable__control sk-hidden--visually\" id=\"sk-estimator-id-4\" type=\"checkbox\" ><label for=\"sk-estimator-id-4\" class=\"sk-toggleable__label sk-toggleable__label-arrow\">StandardScaler</label><div class=\"sk-toggleable__content\"><pre>StandardScaler()</pre></div></div></div><div class=\"sk-item\"><div class=\"sk-estimator sk-toggleable\"><input class=\"sk-toggleable__control sk-hidden--visually\" id=\"sk-estimator-id-5\" type=\"checkbox\" ><label for=\"sk-estimator-id-5\" class=\"sk-toggleable__label sk-toggleable__label-arrow\">LogisticRegression</label><div class=\"sk-toggleable__content\"><pre>LogisticRegression(max_iter=1000)</pre></div></div></div></div></div></div></div>"
            ]
          },
          "metadata": {},
          "execution_count": 63
        }
      ],
      "source": [
        "pipe1.fit(X_train, y_train)"
      ]
    },
    {
      "cell_type": "code",
      "execution_count": 64,
      "id": "430edf52",
      "metadata": {
        "id": "430edf52"
      },
      "outputs": [],
      "source": [
        "score = pipe1.score(X_test,y_test)"
      ]
    },
    {
      "cell_type": "code",
      "execution_count": 65,
      "id": "420180cb",
      "metadata": {
        "id": "420180cb",
        "outputId": "1c01fe08-8f18-49bc-bf32-034440f78291",
        "colab": {
          "base_uri": "https://localhost:8080/"
        }
      },
      "outputs": [
        {
          "output_type": "execute_result",
          "data": {
            "text/plain": [
              "0.9991047182340155"
            ]
          },
          "metadata": {},
          "execution_count": 65
        }
      ],
      "source": [
        "score"
      ]
    },
    {
      "cell_type": "code",
      "execution_count": 66,
      "id": "2bd8a03a",
      "metadata": {
        "id": "2bd8a03a"
      },
      "outputs": [],
      "source": [
        "pred = pipe1.predict(X_test)"
      ]
    },
    {
      "cell_type": "code",
      "execution_count": 68,
      "id": "b7831ba6",
      "metadata": {
        "id": "b7831ba6",
        "outputId": "69b8fbc2-0e07-467e-bce4-58052c51def5",
        "colab": {
          "base_uri": "https://localhost:8080/",
          "height": 466
        }
      },
      "outputs": [
        {
          "output_type": "execute_result",
          "data": {
            "text/plain": [
              "<sklearn.metrics._plot.confusion_matrix.ConfusionMatrixDisplay at 0x781b7530aaa0>"
            ]
          },
          "metadata": {},
          "execution_count": 68
        },
        {
          "output_type": "display_data",
          "data": {
            "text/plain": [
              "<Figure size 640x480 with 2 Axes>"
            ],
            "image/png": "[encoded data removed]"
          },
          "metadata": {}
        }
      ],
      "source": [
        "ConfusionMatrixDisplay.from_estimator(pipe1,X_test , y_test)"
      ]
    },
    {
      "cell_type": "code",
      "execution_count": 69,
      "id": "343f7b74",
      "metadata": {
        "id": "343f7b74",
        "outputId": "5a39c694-f062-47c2-b0b0-06fe5948eeb4",
        "colab": {
          "base_uri": "https://localhost:8080/"
        }
      },
      "outputs": [
        {
          "output_type": "stream",
          "name": "stdout",
          "text": [
            "              precision    recall  f1-score   support\n",
            "\n",
            "           0       1.00      1.00      1.00     53046\n",
            "           1       1.00      1.00      1.00    249652\n",
            "\n",
            "    accuracy                           1.00    302698\n",
            "   macro avg       1.00      1.00      1.00    302698\n",
            "weighted avg       1.00      1.00      1.00    302698\n",
            "\n"
          ]
        }
      ],
      "source": [
        "print(classification_report(y_test, pred))"
      ]
    },
    {
      "cell_type": "code",
      "execution_count": null,
      "id": "9c8465c3",
      "metadata": {
        "id": "9c8465c3"
      },
      "outputs": [],
      "source": []
    },
    {
      "cell_type": "code",
      "source": [
        "pipe2 = make_pipeline(\n",
        "    StandardScaler(),\n",
        "    RandomForestClassifier(random_state=42)\n",
        ")"
      ],
      "metadata": {
        "id": "nT51fWaO6poO"
      },
      "id": "nT51fWaO6poO",
      "execution_count": 70,
      "outputs": []
    },
    {
      "cell_type": "code",
      "source": [
        "# Number of trees in random forest\n",
        "n_estimators = [int(x) for x in np.linspace(start =100 , stop=1200 , num=6)]\n",
        "\n",
        "# Number of features to consider at every split\n",
        "max_features = [\"auto\", \"sqrt\"]\n",
        "\n",
        "# Maximum number of levels in tree\n",
        "max_depth = [int(x) for x in np.linspace(start =5 , stop=30 , num=4)]\n",
        "\n",
        "# Minimum number of samples required to split a node\n",
        "min_samples_split = [5,10,15,100]"
      ],
      "metadata": {
        "id": "JwEciLmq-aHg"
      },
      "id": "JwEciLmq-aHg",
      "execution_count": 83,
      "outputs": []
    },
    {
      "cell_type": "code",
      "source": [
        "params = {\n",
        "    'randomforestclassifier__n_estimators' : n_estimators ,\n",
        "    'randomforestclassifier__max_features' : max_features ,\n",
        "    'randomforestclassifier__max_depth' : max_depth ,\n",
        "    'randomforestclassifier__min_samples_split' : min_samples_split\n",
        "}"
      ],
      "metadata": {
        "id": "wrpXl9-z66JB"
      },
      "id": "wrpXl9-z66JB",
      "execution_count": 85,
      "outputs": []
    },
    {
      "cell_type": "code",
      "source": [
        "rf_random = RandomizedSearchCV(\n",
        "    pipe2,\n",
        "    params,\n",
        "    cv=5,\n",
        "    verbose=1,\n",
        "    n_jobs=-1\n",
        ")"
      ],
      "metadata": {
        "id": "MADsvU4w7E0g"
      },
      "id": "MADsvU4w7E0g",
      "execution_count": 86,
      "outputs": []
    },
    {
      "cell_type": "code",
      "source": [
        "rf_random.fit(X_train,y_train)"
      ],
      "metadata": {
        "colab": {
          "base_uri": "https://localhost:8080/",
          "height": 193
        },
        "id": "eLxD23SZ8vgy",
        "outputId": "55475089-06eb-4e3c-b9e6-fb5e033c5c3f"
      },
      "id": "eLxD23SZ8vgy",
      "execution_count": 87,
      "outputs": [
        {
          "output_type": "stream",
          "name": "stdout",
          "text": [
            "Fitting 5 folds for each of 10 candidates, totalling 50 fits\n"
          ]
        },
        {
          "output_type": "execute_result",
          "data": {
            "text/plain": [
              "RandomizedSearchCV(cv=5,\n",
              "                   estimator=Pipeline(steps=[('standardscaler',\n",
              "                                              StandardScaler()),\n",
              "                                             ('randomforestclassifier',\n",
              "                                              RandomForestClassifier(random_state=42))]),\n",
              "                   n_jobs=-1,\n",
              "                   param_distributions={'randomforestclassifier__max_depth': [5,\n",
              "                                                                              13,\n",
              "                                                                              21,\n",
              "                                                                              30],\n",
              "                                        'randomforestclassifier__max_features': ['auto',\n",
              "                                                                                 'sqrt'],\n",
              "                                        'randomforestclassifier__min_samples_split': [5,\n",
              "                                                                                      10,\n",
              "                                                                                      15,\n",
              "                                                                                      100],\n",
              "                                        'randomforestclassifier__n_estimators': [100,\n",
              "                                                                                 320,\n",
              "                                                                                 540,\n",
              "                                                                                 760,\n",
              "                                                                                 980,\n",
              "                                                                                 1200]},\n",
              "                   verbose=1)"
            ],
            "text/html": [
              "<style>#sk-container-id-4 {color: black;background-color: white;}#sk-container-id-4 pre{padding: 0;}#sk-container-id-4 div.sk-toggleable {background-color: white;}#sk-container-id-4 label.sk-toggleable__label {cursor: pointer;display: block;width: 100%;margin-bottom: 0;padding: 0.3em;box-sizing: border-box;text-align: center;}#sk-container-id-4 label.sk-toggleable__label-arrow:before {content: \"▸\";float: left;margin-right: 0.25em;color: #696969;}#sk-container-id-4 label.sk-toggleable__label-arrow:hover:before {color: black;}#sk-container-id-4 div.sk-estimator:hover label.sk-toggleable__label-arrow:before {color: black;}#sk-container-id-4 div.sk-toggleable__content {max-height: 0;max-width: 0;overflow: hidden;text-align: left;background-color: #f0f8ff;}#sk-container-id-4 div.sk-toggleable__content pre {margin: 0.2em;color: black;border-radius: 0.25em;background-color: #f0f8ff;}#sk-container-id-4 input.sk-toggleable__control:checked~div.sk-toggleable__content {max-height: 200px;max-width: 100%;overflow: auto;}#sk-container-id-4 input.sk-toggleable__control:checked~label.sk-toggleable__label-arrow:before {content: \"▾\";}#sk-container-id-4 div.sk-estimator input.sk-toggleable__control:checked~label.sk-toggleable__label {background-color: #d4ebff;}#sk-container-id-4 div.sk-label input.sk-toggleable__control:checked~label.sk-toggleable__label {background-color: #d4ebff;}#sk-container-id-4 input.sk-hidden--visually {border: 0;clip: rect(1px 1px 1px 1px);clip: rect(1px, 1px, 1px, 1px);height: 1px;margin: -1px;overflow: hidden;padding: 0;position: absolute;width: 1px;}#sk-container-id-4 div.sk-estimator {font-family: monospace;background-color: #f0f8ff;border: 1px dotted black;border-radius: 0.25em;box-sizing: border-box;margin-bottom: 0.5em;}#sk-container-id-4 div.sk-estimator:hover {background-color: #d4ebff;}#sk-container-id-4 div.sk-parallel-item::after {content: \"\";width: 100%;border-bottom: 1px solid gray;flex-grow: 1;}#sk-container-id-4 div.sk-label:hover label.sk-toggleable__label {background-color: #d4ebff;}#sk-container-id-4 div.sk-serial::before {content: \"\";position: absolute;border-left: 1px solid gray;box-sizing: border-box;top: 0;bottom: 0;left: 50%;z-index: 0;}#sk-container-id-4 div.sk-serial {display: flex;flex-direction: column;align-items: center;background-color: white;padding-right: 0.2em;padding-left: 0.2em;position: relative;}#sk-container-id-4 div.sk-item {position: relative;z-index: 1;}#sk-container-id-4 div.sk-parallel {display: flex;align-items: stretch;justify-content: center;background-color: white;position: relative;}#sk-container-id-4 div.sk-item::before, #sk-container-id-4 div.sk-parallel-item::before {content: \"\";position: absolute;border-left: 1px solid gray;box-sizing: border-box;top: 0;bottom: 0;left: 50%;z-index: -1;}#sk-container-id-4 div.sk-parallel-item {display: flex;flex-direction: column;z-index: 1;position: relative;background-color: white;}#sk-container-id-4 div.sk-parallel-item:first-child::after {align-self: flex-end;width: 50%;}#sk-container-id-4 div.sk-parallel-item:last-child::after {align-self: flex-start;width: 50%;}#sk-container-id-4 div.sk-parallel-item:only-child::after {width: 0;}#sk-container-id-4 div.sk-dashed-wrapped {border: 1px dashed gray;margin: 0 0.4em 0.5em 0.4em;box-sizing: border-box;padding-bottom: 0.4em;background-color: white;}#sk-container-id-4 div.sk-label label {font-family: monospace;font-weight: bold;display: inline-block;line-height: 1.2em;}#sk-container-id-4 div.sk-label-container {text-align: center;}#sk-container-id-4 div.sk-container {/* jupyter's `normalize.less` sets `[hidden] { display: none; }` but bootstrap.min.css set `[hidden] { display: none !important; }` so we also need the `!important` here to be able to override the default hidden behavior on the sphinx rendered scikit-learn.org. See: https://github.com/scikit-learn/scikit-learn/issues/21755 */display: inline-block !important;position: relative;}#sk-container-id-4 div.sk-text-repr-fallback {display: none;}</style><div id=\"sk-container-id-4\" class=\"sk-top-container\"><div class=\"sk-text-repr-fallback\"><pre>RandomizedSearchCV(cv=5,\n",
              "                   estimator=Pipeline(steps=[(&#x27;standardscaler&#x27;,\n",
              "                                              StandardScaler()),\n",
              "                                             (&#x27;randomforestclassifier&#x27;,\n",
              "                                              RandomForestClassifier(random_state=42))]),\n",
              "                   n_jobs=-1,\n",
              "                   param_distributions={&#x27;randomforestclassifier__max_depth&#x27;: [5,\n",
              "                                                                              13,\n",
              "                                                                              21,\n",
              "                                                                              30],\n",
              "                                        &#x27;randomforestclassifier__max_features&#x27;: [&#x27;auto&#x27;,\n",
              "                                                                                 &#x27;sqrt&#x27;],\n",
              "                                        &#x27;randomforestclassifier__min_samples_split&#x27;: [5,\n",
              "                                                                                      10,\n",
              "                                                                                      15,\n",
              "                                                                                      100],\n",
              "                                        &#x27;randomforestclassifier__n_estimators&#x27;: [100,\n",
              "                                                                                 320,\n",
              "                                                                                 540,\n",
              "                                                                                 760,\n",
              "                                                                                 980,\n",
              "                                                                                 1200]},\n",
              "                   verbose=1)</pre><b>In a Jupyter environment, please rerun this cell to show the HTML representation or trust the notebook. <br />On GitHub, the HTML representation is unable to render, please try loading this page with nbviewer.org.</b></div><div class=\"sk-container\" hidden><div class=\"sk-item sk-dashed-wrapped\"><div class=\"sk-label-container\"><div class=\"sk-label sk-toggleable\"><input class=\"sk-toggleable__control sk-hidden--visually\" id=\"sk-estimator-id-6\" type=\"checkbox\" ><label for=\"sk-estimator-id-6\" class=\"sk-toggleable__label sk-toggleable__label-arrow\">RandomizedSearchCV</label><div class=\"sk-toggleable__content\"><pre>RandomizedSearchCV(cv=5,\n",
              "                   estimator=Pipeline(steps=[(&#x27;standardscaler&#x27;,\n",
              "                                              StandardScaler()),\n",
              "                                             (&#x27;randomforestclassifier&#x27;,\n",
              "                                              RandomForestClassifier(random_state=42))]),\n",
              "                   n_jobs=-1,\n",
              "                   param_distributions={&#x27;randomforestclassifier__max_depth&#x27;: [5,\n",
              "                                                                              13,\n",
              "                                                                              21,\n",
              "                                                                              30],\n",
              "                                        &#x27;randomforestclassifier__max_features&#x27;: [&#x27;auto&#x27;,\n",
              "                                                                                 &#x27;sqrt&#x27;],\n",
              "                                        &#x27;randomforestclassifier__min_samples_split&#x27;: [5,\n",
              "                                                                                      10,\n",
              "                                                                                      15,\n",
              "                                                                                      100],\n",
              "                                        &#x27;randomforestclassifier__n_estimators&#x27;: [100,\n",
              "                                                                                 320,\n",
              "                                                                                 540,\n",
              "                                                                                 760,\n",
              "                                                                                 980,\n",
              "                                                                                 1200]},\n",
              "                   verbose=1)</pre></div></div></div><div class=\"sk-parallel\"><div class=\"sk-parallel-item\"><div class=\"sk-item\"><div class=\"sk-label-container\"><div class=\"sk-label sk-toggleable\"><input class=\"sk-toggleable__control sk-hidden--visually\" id=\"sk-estimator-id-7\" type=\"checkbox\" ><label for=\"sk-estimator-id-7\" class=\"sk-toggleable__label sk-toggleable__label-arrow\">estimator: Pipeline</label><div class=\"sk-toggleable__content\"><pre>Pipeline(steps=[(&#x27;standardscaler&#x27;, StandardScaler()),\n",
              "                (&#x27;randomforestclassifier&#x27;,\n",
              "                 RandomForestClassifier(random_state=42))])</pre></div></div></div><div class=\"sk-serial\"><div class=\"sk-item\"><div class=\"sk-serial\"><div class=\"sk-item\"><div class=\"sk-estimator sk-toggleable\"><input class=\"sk-toggleable__control sk-hidden--visually\" id=\"sk-estimator-id-8\" type=\"checkbox\" ><label for=\"sk-estimator-id-8\" class=\"sk-toggleable__label sk-toggleable__label-arrow\">StandardScaler</label><div class=\"sk-toggleable__content\"><pre>StandardScaler()</pre></div></div></div><div class=\"sk-item\"><div class=\"sk-estimator sk-toggleable\"><input class=\"sk-toggleable__control sk-hidden--visually\" id=\"sk-estimator-id-9\" type=\"checkbox\" ><label for=\"sk-estimator-id-9\" class=\"sk-toggleable__label sk-toggleable__label-arrow\">RandomForestClassifier</label><div class=\"sk-toggleable__content\"><pre>RandomForestClassifier(random_state=42)</pre></div></div></div></div></div></div></div></div></div></div></div></div>"
            ]
          },
          "metadata": {},
          "execution_count": 87
        }
      ]
    },
    {
      "cell_type": "code",
      "source": [
        "rf_random.best_estimator_"
      ],
      "metadata": {
        "colab": {
          "base_uri": "https://localhost:8080/",
          "height": 190
        },
        "id": "iDVZsIND89b3",
        "outputId": "5f818e24-b2d0-4916-cd87-9b09e00acce5"
      },
      "id": "iDVZsIND89b3",
      "execution_count": 88,
      "outputs": [
        {
          "output_type": "execute_result",
          "data": {
            "text/plain": [
              "Pipeline(steps=[('standardscaler', StandardScaler()),\n",
              "                ('randomforestclassifier',\n",
              "                 RandomForestClassifier(max_depth=21, min_samples_split=10,\n",
              "                                        n_estimators=1200, random_state=42))])"
            ],
            "text/html": [
              "<style>#sk-container-id-5 {color: black;background-color: white;}#sk-container-id-5 pre{padding: 0;}#sk-container-id-5 div.sk-toggleable {background-color: white;}#sk-container-id-5 label.sk-toggleable__label {cursor: pointer;display: block;width: 100%;margin-bottom: 0;padding: 0.3em;box-sizing: border-box;text-align: center;}#sk-container-id-5 label.sk-toggleable__label-arrow:before {content: \"▸\";float: left;margin-right: 0.25em;color: #696969;}#sk-container-id-5 label.sk-toggleable__label-arrow:hover:before {color: black;}#sk-container-id-5 div.sk-estimator:hover label.sk-toggleable__label-arrow:before {color: black;}#sk-container-id-5 div.sk-toggleable__content {max-height: 0;max-width: 0;overflow: hidden;text-align: left;background-color: #f0f8ff;}#sk-container-id-5 div.sk-toggleable__content pre {margin: 0.2em;color: black;border-radius: 0.25em;background-color: #f0f8ff;}#sk-container-id-5 input.sk-toggleable__control:checked~div.sk-toggleable__content {max-height: 200px;max-width: 100%;overflow: auto;}#sk-container-id-5 input.sk-toggleable__control:checked~label.sk-toggleable__label-arrow:before {content: \"▾\";}#sk-container-id-5 div.sk-estimator input.sk-toggleable__control:checked~label.sk-toggleable__label {background-color: #d4ebff;}#sk-container-id-5 div.sk-label input.sk-toggleable__control:checked~label.sk-toggleable__label {background-color: #d4ebff;}#sk-container-id-5 input.sk-hidden--visually {border: 0;clip: rect(1px 1px 1px 1px);clip: rect(1px, 1px, 1px, 1px);height: 1px;margin: -1px;overflow: hidden;padding: 0;position: absolute;width: 1px;}#sk-container-id-5 div.sk-estimator {font-family: monospace;background-color: #f0f8ff;border: 1px dotted black;border-radius: 0.25em;box-sizing: border-box;margin-bottom: 0.5em;}#sk-container-id-5 div.sk-estimator:hover {background-color: #d4ebff;}#sk-container-id-5 div.sk-parallel-item::after {content: \"\";width: 100%;border-bottom: 1px solid gray;flex-grow: 1;}#sk-container-id-5 div.sk-label:hover label.sk-toggleable__label {background-color: #d4ebff;}#sk-container-id-5 div.sk-serial::before {content: \"\";position: absolute;border-left: 1px solid gray;box-sizing: border-box;top: 0;bottom: 0;left: 50%;z-index: 0;}#sk-container-id-5 div.sk-serial {display: flex;flex-direction: column;align-items: center;background-color: white;padding-right: 0.2em;padding-left: 0.2em;position: relative;}#sk-container-id-5 div.sk-item {position: relative;z-index: 1;}#sk-container-id-5 div.sk-parallel {display: flex;align-items: stretch;justify-content: center;background-color: white;position: relative;}#sk-container-id-5 div.sk-item::before, #sk-container-id-5 div.sk-parallel-item::before {content: \"\";position: absolute;border-left: 1px solid gray;box-sizing: border-box;top: 0;bottom: 0;left: 50%;z-index: -1;}#sk-container-id-5 div.sk-parallel-item {display: flex;flex-direction: column;z-index: 1;position: relative;background-color: white;}#sk-container-id-5 div.sk-parallel-item:first-child::after {align-self: flex-end;width: 50%;}#sk-container-id-5 div.sk-parallel-item:last-child::after {align-self: flex-start;width: 50%;}#sk-container-id-5 div.sk-parallel-item:only-child::after {width: 0;}#sk-container-id-5 div.sk-dashed-wrapped {border: 1px dashed gray;margin: 0 0.4em 0.5em 0.4em;box-sizing: border-box;padding-bottom: 0.4em;background-color: white;}#sk-container-id-5 div.sk-label label {font-family: monospace;font-weight: bold;display: inline-block;line-height: 1.2em;}#sk-container-id-5 div.sk-label-container {text-align: center;}#sk-container-id-5 div.sk-container {/* jupyter's `normalize.less` sets `[hidden] { display: none; }` but bootstrap.min.css set `[hidden] { display: none !important; }` so we also need the `!important` here to be able to override the default hidden behavior on the sphinx rendered scikit-learn.org. See: https://github.com/scikit-learn/scikit-learn/issues/21755 */display: inline-block !important;position: relative;}#sk-container-id-5 div.sk-text-repr-fallback {display: none;}</style><div id=\"sk-container-id-5\" class=\"sk-top-container\"><div class=\"sk-text-repr-fallback\"><pre>Pipeline(steps=[(&#x27;standardscaler&#x27;, StandardScaler()),\n",
              "                (&#x27;randomforestclassifier&#x27;,\n",
              "                 RandomForestClassifier(max_depth=21, min_samples_split=10,\n",
              "                                        n_estimators=1200, random_state=42))])</pre><b>In a Jupyter environment, please rerun this cell to show the HTML representation or trust the notebook. <br />On GitHub, the HTML representation is unable to render, please try loading this page with nbviewer.org.</b></div><div class=\"sk-container\" hidden><div class=\"sk-item sk-dashed-wrapped\"><div class=\"sk-label-container\"><div class=\"sk-label sk-toggleable\"><input class=\"sk-toggleable__control sk-hidden--visually\" id=\"sk-estimator-id-10\" type=\"checkbox\" ><label for=\"sk-estimator-id-10\" class=\"sk-toggleable__label sk-toggleable__label-arrow\">Pipeline</label><div class=\"sk-toggleable__content\"><pre>Pipeline(steps=[(&#x27;standardscaler&#x27;, StandardScaler()),\n",
              "                (&#x27;randomforestclassifier&#x27;,\n",
              "                 RandomForestClassifier(max_depth=21, min_samples_split=10,\n",
              "                                        n_estimators=1200, random_state=42))])</pre></div></div></div><div class=\"sk-serial\"><div class=\"sk-item\"><div class=\"sk-estimator sk-toggleable\"><input class=\"sk-toggleable__control sk-hidden--visually\" id=\"sk-estimator-id-11\" type=\"checkbox\" ><label for=\"sk-estimator-id-11\" class=\"sk-toggleable__label sk-toggleable__label-arrow\">StandardScaler</label><div class=\"sk-toggleable__content\"><pre>StandardScaler()</pre></div></div></div><div class=\"sk-item\"><div class=\"sk-estimator sk-toggleable\"><input class=\"sk-toggleable__control sk-hidden--visually\" id=\"sk-estimator-id-12\" type=\"checkbox\" ><label for=\"sk-estimator-id-12\" class=\"sk-toggleable__label sk-toggleable__label-arrow\">RandomForestClassifier</label><div class=\"sk-toggleable__content\"><pre>RandomForestClassifier(max_depth=21, min_samples_split=10, n_estimators=1200,\n",
              "                       random_state=42)</pre></div></div></div></div></div></div></div>"
            ]
          },
          "metadata": {},
          "execution_count": 88
        }
      ]
    },
    {
      "cell_type": "code",
      "source": [
        "rf_random.best_score_"
      ],
      "metadata": {
        "colab": {
          "base_uri": "https://localhost:8080/"
        },
        "id": "Juy_sshKwKXj",
        "outputId": "fdcfc7a2-80a2-4312-d515-aafe8b522a5d"
      },
      "id": "Juy_sshKwKXj",
      "execution_count": 89,
      "outputs": [
        {
          "output_type": "execute_result",
          "data": {
            "text/plain": [
              "0.9998777655288666"
            ]
          },
          "metadata": {},
          "execution_count": 89
        }
      ]
    },
    {
      "cell_type": "code",
      "source": [
        "rf_final = rf_random.best_estimator_"
      ],
      "metadata": {
        "id": "QYAEYyW-wSkc"
      },
      "id": "QYAEYyW-wSkc",
      "execution_count": 90,
      "outputs": []
    },
    {
      "cell_type": "code",
      "source": [
        "file = r\"D:\\Anomaly Detection Project\\PDF\\rf_model_binary_NoOver.pkl\""
      ],
      "metadata": {
        "id": "gfAjcz01wdcc"
      },
      "id": "gfAjcz01wdcc",
      "execution_count": 91,
      "outputs": []
    },
    {
      "cell_type": "code",
      "source": [
        "with open(file,\"wb\") as f:\n",
        "    pickle.dump(rf_final, f)"
      ],
      "metadata": {
        "id": "vGIWQw_JwaDj"
      },
      "id": "vGIWQw_JwaDj",
      "execution_count": 92,
      "outputs": []
    },
    {
      "cell_type": "code",
      "source": [
        "clf = make_pipeline(\n",
        "    StandardScaler(),\n",
        "    GradientBoostingClassifier()\n",
        ")"
      ],
      "metadata": {
        "id": "GmXvqmf2w2za"
      },
      "id": "GmXvqmf2w2za",
      "execution_count": 93,
      "outputs": []
    },
    {
      "cell_type": "code",
      "source": [
        "params = {\n",
        "    \"gradientboostingclassifier__n_estimators\":range(20,31,5),\n",
        "    \"gradientboostingclassifier__max_depth\":range(2,5)\n",
        "}\n",
        "params"
      ],
      "metadata": {
        "colab": {
          "base_uri": "https://localhost:8080/"
        },
        "id": "iYRAMs4Bydop",
        "outputId": "c6eedd62-251f-404a-f949-c0f72d0fa5f6"
      },
      "id": "iYRAMs4Bydop",
      "execution_count": 95,
      "outputs": [
        {
          "output_type": "execute_result",
          "data": {
            "text/plain": [
              "{'gradientboostingclassifier__n_estimators': range(20, 31, 5),\n",
              " 'gradientboostingclassifier__max_depth': range(2, 5)}"
            ]
          },
          "metadata": {},
          "execution_count": 95
        }
      ]
    },
    {
      "cell_type": "code",
      "source": [
        "xg_model = RandomizedSearchCV(\n",
        "    clf,\n",
        "    params,\n",
        "    cv=5,\n",
        "    n_jobs=-1,\n",
        "    verbose=1\n",
        ")"
      ],
      "metadata": {
        "id": "g7Hz4SICyhuz"
      },
      "id": "g7Hz4SICyhuz",
      "execution_count": 97,
      "outputs": []
    },
    {
      "cell_type": "code",
      "source": [
        "xg_model.fit(X_train, y_train)"
      ],
      "metadata": {
        "colab": {
          "base_uri": "https://localhost:8080/",
          "height": 256
        },
        "id": "wmMuT3M2yw9z",
        "outputId": "cf4b8239-af15-40ec-9f18-22ff3e7fdeaa"
      },
      "id": "wmMuT3M2yw9z",
      "execution_count": 98,
      "outputs": [
        {
          "output_type": "stream",
          "name": "stdout",
          "text": [
            "Fitting 5 folds for each of 9 candidates, totalling 45 fits\n"
          ]
        },
        {
          "output_type": "execute_result",
          "data": {
            "text/plain": [
              "RandomizedSearchCV(cv=5,\n",
              "                   estimator=Pipeline(steps=[('standardscaler',\n",
              "                                              StandardScaler()),\n",
              "                                             ('gradientboostingclassifier',\n",
              "                                              GradientBoostingClassifier())]),\n",
              "                   n_jobs=-1,\n",
              "                   param_distributions={'gradientboostingclassifier__max_depth': range(2, 5),\n",
              "                                        'gradientboostingclassifier__n_estimators': range(20, 31, 5)},\n",
              "                   verbose=1)"
            ],
            "text/html": [
              "<style>#sk-container-id-6 {color: black;background-color: white;}#sk-container-id-6 pre{padding: 0;}#sk-container-id-6 div.sk-toggleable {background-color: white;}#sk-container-id-6 label.sk-toggleable__label {cursor: pointer;display: block;width: 100%;margin-bottom: 0;padding: 0.3em;box-sizing: border-box;text-align: center;}#sk-container-id-6 label.sk-toggleable__label-arrow:before {content: \"▸\";float: left;margin-right: 0.25em;color: #696969;}#sk-container-id-6 label.sk-toggleable__label-arrow:hover:before {color: black;}#sk-container-id-6 div.sk-estimator:hover label.sk-toggleable__label-arrow:before {color: black;}#sk-container-id-6 div.sk-toggleable__content {max-height: 0;max-width: 0;overflow: hidden;text-align: left;background-color: #f0f8ff;}#sk-container-id-6 div.sk-toggleable__content pre {margin: 0.2em;color: black;border-radius: 0.25em;background-color: #f0f8ff;}#sk-container-id-6 input.sk-toggleable__control:checked~div.sk-toggleable__content {max-height: 200px;max-width: 100%;overflow: auto;}#sk-container-id-6 input.sk-toggleable__control:checked~label.sk-toggleable__label-arrow:before {content: \"▾\";}#sk-container-id-6 div.sk-estimator input.sk-toggleable__control:checked~label.sk-toggleable__label {background-color: #d4ebff;}#sk-container-id-6 div.sk-label input.sk-toggleable__control:checked~label.sk-toggleable__label {background-color: #d4ebff;}#sk-container-id-6 input.sk-hidden--visually {border: 0;clip: rect(1px 1px 1px 1px);clip: rect(1px, 1px, 1px, 1px);height: 1px;margin: -1px;overflow: hidden;padding: 0;position: absolute;width: 1px;}#sk-container-id-6 div.sk-estimator {font-family: monospace;background-color: #f0f8ff;border: 1px dotted black;border-radius: 0.25em;box-sizing: border-box;margin-bottom: 0.5em;}#sk-container-id-6 div.sk-estimator:hover {background-color: #d4ebff;}#sk-container-id-6 div.sk-parallel-item::after {content: \"\";width: 100%;border-bottom: 1px solid gray;flex-grow: 1;}#sk-container-id-6 div.sk-label:hover label.sk-toggleable__label {background-color: #d4ebff;}#sk-container-id-6 div.sk-serial::before {content: \"\";position: absolute;border-left: 1px solid gray;box-sizing: border-box;top: 0;bottom: 0;left: 50%;z-index: 0;}#sk-container-id-6 div.sk-serial {display: flex;flex-direction: column;align-items: center;background-color: white;padding-right: 0.2em;padding-left: 0.2em;position: relative;}#sk-container-id-6 div.sk-item {position: relative;z-index: 1;}#sk-container-id-6 div.sk-parallel {display: flex;align-items: stretch;justify-content: center;background-color: white;position: relative;}#sk-container-id-6 div.sk-item::before, #sk-container-id-6 div.sk-parallel-item::before {content: \"\";position: absolute;border-left: 1px solid gray;box-sizing: border-box;top: 0;bottom: 0;left: 50%;z-index: -1;}#sk-container-id-6 div.sk-parallel-item {display: flex;flex-direction: column;z-index: 1;position: relative;background-color: white;}#sk-container-id-6 div.sk-parallel-item:first-child::after {align-self: flex-end;width: 50%;}#sk-container-id-6 div.sk-parallel-item:last-child::after {align-self: flex-start;width: 50%;}#sk-container-id-6 div.sk-parallel-item:only-child::after {width: 0;}#sk-container-id-6 div.sk-dashed-wrapped {border: 1px dashed gray;margin: 0 0.4em 0.5em 0.4em;box-sizing: border-box;padding-bottom: 0.4em;background-color: white;}#sk-container-id-6 div.sk-label label {font-family: monospace;font-weight: bold;display: inline-block;line-height: 1.2em;}#sk-container-id-6 div.sk-label-container {text-align: center;}#sk-container-id-6 div.sk-container {/* jupyter's `normalize.less` sets `[hidden] { display: none; }` but bootstrap.min.css set `[hidden] { display: none !important; }` so we also need the `!important` here to be able to override the default hidden behavior on the sphinx rendered scikit-learn.org. See: https://github.com/scikit-learn/scikit-learn/issues/21755 */display: inline-block !important;position: relative;}#sk-container-id-6 div.sk-text-repr-fallback {display: none;}</style><div id=\"sk-container-id-6\" class=\"sk-top-container\"><div class=\"sk-text-repr-fallback\"><pre>RandomizedSearchCV(cv=5,\n",
              "                   estimator=Pipeline(steps=[(&#x27;standardscaler&#x27;,\n",
              "                                              StandardScaler()),\n",
              "                                             (&#x27;gradientboostingclassifier&#x27;,\n",
              "                                              GradientBoostingClassifier())]),\n",
              "                   n_jobs=-1,\n",
              "                   param_distributions={&#x27;gradientboostingclassifier__max_depth&#x27;: range(2, 5),\n",
              "                                        &#x27;gradientboostingclassifier__n_estimators&#x27;: range(20, 31, 5)},\n",
              "                   verbose=1)</pre><b>In a Jupyter environment, please rerun this cell to show the HTML representation or trust the notebook. <br />On GitHub, the HTML representation is unable to render, please try loading this page with nbviewer.org.</b></div><div class=\"sk-container\" hidden><div class=\"sk-item sk-dashed-wrapped\"><div class=\"sk-label-container\"><div class=\"sk-label sk-toggleable\"><input class=\"sk-toggleable__control sk-hidden--visually\" id=\"sk-estimator-id-13\" type=\"checkbox\" ><label for=\"sk-estimator-id-13\" class=\"sk-toggleable__label sk-toggleable__label-arrow\">RandomizedSearchCV</label><div class=\"sk-toggleable__content\"><pre>RandomizedSearchCV(cv=5,\n",
              "                   estimator=Pipeline(steps=[(&#x27;standardscaler&#x27;,\n",
              "                                              StandardScaler()),\n",
              "                                             (&#x27;gradientboostingclassifier&#x27;,\n",
              "                                              GradientBoostingClassifier())]),\n",
              "                   n_jobs=-1,\n",
              "                   param_distributions={&#x27;gradientboostingclassifier__max_depth&#x27;: range(2, 5),\n",
              "                                        &#x27;gradientboostingclassifier__n_estimators&#x27;: range(20, 31, 5)},\n",
              "                   verbose=1)</pre></div></div></div><div class=\"sk-parallel\"><div class=\"sk-parallel-item\"><div class=\"sk-item\"><div class=\"sk-label-container\"><div class=\"sk-label sk-toggleable\"><input class=\"sk-toggleable__control sk-hidden--visually\" id=\"sk-estimator-id-14\" type=\"checkbox\" ><label for=\"sk-estimator-id-14\" class=\"sk-toggleable__label sk-toggleable__label-arrow\">estimator: Pipeline</label><div class=\"sk-toggleable__content\"><pre>Pipeline(steps=[(&#x27;standardscaler&#x27;, StandardScaler()),\n",
              "                (&#x27;gradientboostingclassifier&#x27;, GradientBoostingClassifier())])</pre></div></div></div><div class=\"sk-serial\"><div class=\"sk-item\"><div class=\"sk-serial\"><div class=\"sk-item\"><div class=\"sk-estimator sk-toggleable\"><input class=\"sk-toggleable__control sk-hidden--visually\" id=\"sk-estimator-id-15\" type=\"checkbox\" ><label for=\"sk-estimator-id-15\" class=\"sk-toggleable__label sk-toggleable__label-arrow\">StandardScaler</label><div class=\"sk-toggleable__content\"><pre>StandardScaler()</pre></div></div></div><div class=\"sk-item\"><div class=\"sk-estimator sk-toggleable\"><input class=\"sk-toggleable__control sk-hidden--visually\" id=\"sk-estimator-id-16\" type=\"checkbox\" ><label for=\"sk-estimator-id-16\" class=\"sk-toggleable__label sk-toggleable__label-arrow\">GradientBoostingClassifier</label><div class=\"sk-toggleable__content\"><pre>GradientBoostingClassifier()</pre></div></div></div></div></div></div></div></div></div></div></div></div>"
            ]
          },
          "metadata": {},
          "execution_count": 98
        }
      ]
    },
    {
      "cell_type": "code",
      "source": [
        "xg_model.best_estimator_"
      ],
      "metadata": {
        "colab": {
          "base_uri": "https://localhost:8080/",
          "height": 149
        },
        "id": "VFScXNfgy5SM",
        "outputId": "d5350a85-d891-4437-ba98-97ddcc83fba5"
      },
      "id": "VFScXNfgy5SM",
      "execution_count": 99,
      "outputs": [
        {
          "output_type": "execute_result",
          "data": {
            "text/plain": [
              "Pipeline(steps=[('standardscaler', StandardScaler()),\n",
              "                ('gradientboostingclassifier',\n",
              "                 GradientBoostingClassifier(max_depth=4, n_estimators=30))])"
            ],
            "text/html": [
              "<style>#sk-container-id-7 {color: black;background-color: white;}#sk-container-id-7 pre{padding: 0;}#sk-container-id-7 div.sk-toggleable {background-color: white;}#sk-container-id-7 label.sk-toggleable__label {cursor: pointer;display: block;width: 100%;margin-bottom: 0;padding: 0.3em;box-sizing: border-box;text-align: center;}#sk-container-id-7 label.sk-toggleable__label-arrow:before {content: \"▸\";float: left;margin-right: 0.25em;color: #696969;}#sk-container-id-7 label.sk-toggleable__label-arrow:hover:before {color: black;}#sk-container-id-7 div.sk-estimator:hover label.sk-toggleable__label-arrow:before {color: black;}#sk-container-id-7 div.sk-toggleable__content {max-height: 0;max-width: 0;overflow: hidden;text-align: left;background-color: #f0f8ff;}#sk-container-id-7 div.sk-toggleable__content pre {margin: 0.2em;color: black;border-radius: 0.25em;background-color: #f0f8ff;}#sk-container-id-7 input.sk-toggleable__control:checked~div.sk-toggleable__content {max-height: 200px;max-width: 100%;overflow: auto;}#sk-container-id-7 input.sk-toggleable__control:checked~label.sk-toggleable__label-arrow:before {content: \"▾\";}#sk-container-id-7 div.sk-estimator input.sk-toggleable__control:checked~label.sk-toggleable__label {background-color: #d4ebff;}#sk-container-id-7 div.sk-label input.sk-toggleable__control:checked~label.sk-toggleable__label {background-color: #d4ebff;}#sk-container-id-7 input.sk-hidden--visually {border: 0;clip: rect(1px 1px 1px 1px);clip: rect(1px, 1px, 1px, 1px);height: 1px;margin: -1px;overflow: hidden;padding: 0;position: absolute;width: 1px;}#sk-container-id-7 div.sk-estimator {font-family: monospace;background-color: #f0f8ff;border: 1px dotted black;border-radius: 0.25em;box-sizing: border-box;margin-bottom: 0.5em;}#sk-container-id-7 div.sk-estimator:hover {background-color: #d4ebff;}#sk-container-id-7 div.sk-parallel-item::after {content: \"\";width: 100%;border-bottom: 1px solid gray;flex-grow: 1;}#sk-container-id-7 div.sk-label:hover label.sk-toggleable__label {background-color: #d4ebff;}#sk-container-id-7 div.sk-serial::before {content: \"\";position: absolute;border-left: 1px solid gray;box-sizing: border-box;top: 0;bottom: 0;left: 50%;z-index: 0;}#sk-container-id-7 div.sk-serial {display: flex;flex-direction: column;align-items: center;background-color: white;padding-right: 0.2em;padding-left: 0.2em;position: relative;}#sk-container-id-7 div.sk-item {position: relative;z-index: 1;}#sk-container-id-7 div.sk-parallel {display: flex;align-items: stretch;justify-content: center;background-color: white;position: relative;}#sk-container-id-7 div.sk-item::before, #sk-container-id-7 div.sk-parallel-item::before {content: \"\";position: absolute;border-left: 1px solid gray;box-sizing: border-box;top: 0;bottom: 0;left: 50%;z-index: -1;}#sk-container-id-7 div.sk-parallel-item {display: flex;flex-direction: column;z-index: 1;position: relative;background-color: white;}#sk-container-id-7 div.sk-parallel-item:first-child::after {align-self: flex-end;width: 50%;}#sk-container-id-7 div.sk-parallel-item:last-child::after {align-self: flex-start;width: 50%;}#sk-container-id-7 div.sk-parallel-item:only-child::after {width: 0;}#sk-container-id-7 div.sk-dashed-wrapped {border: 1px dashed gray;margin: 0 0.4em 0.5em 0.4em;box-sizing: border-box;padding-bottom: 0.4em;background-color: white;}#sk-container-id-7 div.sk-label label {font-family: monospace;font-weight: bold;display: inline-block;line-height: 1.2em;}#sk-container-id-7 div.sk-label-container {text-align: center;}#sk-container-id-7 div.sk-container {/* jupyter's `normalize.less` sets `[hidden] { display: none; }` but bootstrap.min.css set `[hidden] { display: none !important; }` so we also need the `!important` here to be able to override the default hidden behavior on the sphinx rendered scikit-learn.org. See: https://github.com/scikit-learn/scikit-learn/issues/21755 */display: inline-block !important;position: relative;}#sk-container-id-7 div.sk-text-repr-fallback {display: none;}</style><div id=\"sk-container-id-7\" class=\"sk-top-container\"><div class=\"sk-text-repr-fallback\"><pre>Pipeline(steps=[(&#x27;standardscaler&#x27;, StandardScaler()),\n",
              "                (&#x27;gradientboostingclassifier&#x27;,\n",
              "                 GradientBoostingClassifier(max_depth=4, n_estimators=30))])</pre><b>In a Jupyter environment, please rerun this cell to show the HTML representation or trust the notebook. <br />On GitHub, the HTML representation is unable to render, please try loading this page with nbviewer.org.</b></div><div class=\"sk-container\" hidden><div class=\"sk-item sk-dashed-wrapped\"><div class=\"sk-label-container\"><div class=\"sk-label sk-toggleable\"><input class=\"sk-toggleable__control sk-hidden--visually\" id=\"sk-estimator-id-17\" type=\"checkbox\" ><label for=\"sk-estimator-id-17\" class=\"sk-toggleable__label sk-toggleable__label-arrow\">Pipeline</label><div class=\"sk-toggleable__content\"><pre>Pipeline(steps=[(&#x27;standardscaler&#x27;, StandardScaler()),\n",
              "                (&#x27;gradientboostingclassifier&#x27;,\n",
              "                 GradientBoostingClassifier(max_depth=4, n_estimators=30))])</pre></div></div></div><div class=\"sk-serial\"><div class=\"sk-item\"><div class=\"sk-estimator sk-toggleable\"><input class=\"sk-toggleable__control sk-hidden--visually\" id=\"sk-estimator-id-18\" type=\"checkbox\" ><label for=\"sk-estimator-id-18\" class=\"sk-toggleable__label sk-toggleable__label-arrow\">StandardScaler</label><div class=\"sk-toggleable__content\"><pre>StandardScaler()</pre></div></div></div><div class=\"sk-item\"><div class=\"sk-estimator sk-toggleable\"><input class=\"sk-toggleable__control sk-hidden--visually\" id=\"sk-estimator-id-19\" type=\"checkbox\" ><label for=\"sk-estimator-id-19\" class=\"sk-toggleable__label sk-toggleable__label-arrow\">GradientBoostingClassifier</label><div class=\"sk-toggleable__content\"><pre>GradientBoostingClassifier(max_depth=4, n_estimators=30)</pre></div></div></div></div></div></div></div>"
            ]
          },
          "metadata": {},
          "execution_count": 99
        }
      ]
    },
    {
      "cell_type": "code",
      "source": [
        "xg_model.best_score_"
      ],
      "metadata": {
        "colab": {
          "base_uri": "https://localhost:8080/"
        },
        "id": "ILJ0pYhcITuA",
        "outputId": "9861ef1e-9d0c-44d0-9f80-ee7437e5c063"
      },
      "id": "ILJ0pYhcITuA",
      "execution_count": 100,
      "outputs": [
        {
          "output_type": "execute_result",
          "data": {
            "text/plain": [
              "0.9997753528815615"
            ]
          },
          "metadata": {},
          "execution_count": 100
        }
      ]
    },
    {
      "cell_type": "code",
      "source": [
        "xg_final = xg_model.best_estimator_"
      ],
      "metadata": {
        "id": "eRwbaoK1I0Dk"
      },
      "id": "eRwbaoK1I0Dk",
      "execution_count": 102,
      "outputs": []
    },
    {
      "cell_type": "code",
      "source": [
        "file = r\"D:\\Anomaly Detection Project\\PDF\\xg_model_binary_NoOver.pkl\""
      ],
      "metadata": {
        "id": "aFpXeMM5IX3Q"
      },
      "id": "aFpXeMM5IX3Q",
      "execution_count": 103,
      "outputs": []
    },
    {
      "cell_type": "code",
      "source": [
        "with open(file,\"wb\") as f:\n",
        "    pickle.dump(xg_final, f)"
      ],
      "metadata": {
        "id": "EKaWnMiHIwav"
      },
      "id": "EKaWnMiHIwav",
      "execution_count": 104,
      "outputs": []
    },
    {
      "cell_type": "code",
      "source": [],
      "metadata": {
        "id": "2D-VLtIvI5PQ"
      },
      "id": "2D-VLtIvI5PQ",
      "execution_count": null,
      "outputs": []
    }
  ],
  "metadata": {
    "kernelspec": {
      "display_name": "Python 3 (ipykernel)",
      "language": "python",
      "name": "python3"
    },
    "language_info": {
      "codemirror_mode": {
        "name": "ipython",
        "version": 3
      },
      "file_extension": ".py",
      "mimetype": "text/x-python",
      "name": "python",
      "nbconvert_exporter": "python",
      "pygments_lexer": "ipython3",
      "version": "3.9.12"
    },
    "colab": {
      "provenance": []
    }
  },
  "nbformat": 4,
  "nbformat_minor": 5
}