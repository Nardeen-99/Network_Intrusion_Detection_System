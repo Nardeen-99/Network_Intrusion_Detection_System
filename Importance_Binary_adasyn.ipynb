{
  "nbformat": 4,
  "nbformat_minor": 0,
  "metadata": {
    "colab": {
      "provenance": []
    },
    "kernelspec": {
      "name": "python3",
      "display_name": "Python 3"
    },
    "language_info": {
      "name": "python"
    }
  },
  "cells": [
    {
      "cell_type": "code",
      "execution_count": 1,
      "metadata": {
        "id": "JZOqcnKD4n8m"
      },
      "outputs": [],
      "source": [
        "from imblearn.over_sampling import SMOTE, ADASYN\n",
        "import numpy as np\n",
        "import pandas as pd\n",
        "import matplotlib.pyplot as plt\n",
        "import seaborn as sns\n",
        "from fastai.tabular.all import df_shrink\n",
        "from scipy import stats\n",
        "from sklearn.model_selection import train_test_split\n",
        "from sklearn.linear_model import LogisticRegression\n",
        "from sklearn.preprocessing import StandardScaler\n",
        "from sklearn.ensemble import RandomForestClassifier\n",
        "from sklearn.ensemble import GradientBoostingClassifier\n",
        "from sklearn.metrics import classification_report, confusion_matrix, ConfusionMatrixDisplay\n",
        "from sklearn.model_selection import RandomizedSearchCV\n",
        "from sklearn.utils.validation import check_is_fitted\n",
        "from sklearn.pipeline import make_pipeline\n",
        "import pickle"
      ]
    },
    {
      "cell_type": "code",
      "source": [
        "from google.colab import drive\n",
        "drive.mount('/content/drive')"
      ],
      "metadata": {
        "colab": {
          "base_uri": "https://localhost:8080/"
        },
        "id": "oivpOYcU41Rn",
        "outputId": "7ba2241c-7ad9-4ba7-8d28-248002648208"
      },
      "execution_count": 2,
      "outputs": [
        {
          "output_type": "stream",
          "name": "stdout",
          "text": [
            "Mounted at /content/drive\n"
          ]
        }
      ]
    },
    {
      "cell_type": "code",
      "source": [
        "df = pd.read_csv(r\"/content/drive/MyDrive/Colab Notebooks/Capstone/TON_IOT_pre.unknown\")"
      ],
      "metadata": {
        "id": "-pqlecd_40N6"
      },
      "execution_count": 3,
      "outputs": []
    },
    {
      "cell_type": "code",
      "source": [
        "\n",
        "print(df.shape)\n",
        "df.head()"
      ],
      "metadata": {
        "colab": {
          "base_uri": "https://localhost:8080/",
          "height": 244
        },
        "id": "PXteQM9246II",
        "outputId": "2d910a30-333d-43d8-af5b-dbd6d27cc05c"
      },
      "execution_count": 4,
      "outputs": [
        {
          "output_type": "stream",
          "name": "stdout",
          "text": [
            "(1210789, 20)\n"
          ]
        },
        {
          "output_type": "execute_result",
          "data": {
            "text/plain": [
              "   L4_SRC_PORT  L4_DST_PORT  PROTOCOL  L7_PROTO  IN_BYTES  OUT_BYTES  IN_PKTS  \\\n",
              "0        63318          443         6     91.00       181        165        2   \n",
              "1        57442        15600        17      0.00        63          0        1   \n",
              "2        57452        15600        17      0.00        63          0        1   \n",
              "3        51989        15600        17      0.00        63          0        1   \n",
              "4        53927         1900        17    153.12       459          0        3   \n",
              "\n",
              "   OUT_PKTS  TCP_FLAGS  FLOW_DURATION_MILLISECONDS  Label  Attack  \\\n",
              "0         1         24                         327      0  Benign   \n",
              "1         0          0                           0      0  Benign   \n",
              "2         0          0                           0      0  Benign   \n",
              "3         0          0                           0      0  Benign   \n",
              "4         0          0                         614      0  Benign   \n",
              "\n",
              "   IPV4_SRC_ADDR_0  IPV4_SRC_ADDR_1  IPV4_SRC_ADDR_2  IPV4_SRC_ADDR_3  \\\n",
              "0              192              168                1              195   \n",
              "1              192              168                1               79   \n",
              "2              192              168                1               79   \n",
              "3              192              168                1               79   \n",
              "4              192              168                1                6   \n",
              "\n",
              "   IPV4_DST_ADDR_0  IPV4_DST_ADDR_1  IPV4_DST_ADDR_2  IPV4_DST_ADDR_3  \n",
              "0               52              139              250              253  \n",
              "1              192              168                1              255  \n",
              "2              239              255              255              250  \n",
              "3              192              168                1              255  \n",
              "4              239              255              255              250  "
            ],
            "text/html": [
              "\n",
              "  <div id=\"df-853c2e05-0464-41be-b08c-5a0321634854\" class=\"colab-df-container\">\n",
              "    <div>\n",
              "<style scoped>\n",
              "    .dataframe tbody tr th:only-of-type {\n",
              "        vertical-align: middle;\n",
              "    }\n",
              "\n",
              "    .dataframe tbody tr th {\n",
              "        vertical-align: top;\n",
              "    }\n",
              "\n",
              "    .dataframe thead th {\n",
              "        text-align: right;\n",
              "    }\n",
              "</style>\n",
              "<table border=\"1\" class=\"dataframe\">\n",
              "  <thead>\n",
              "    <tr style=\"text-align: right;\">\n",
              "      <th></th>\n",
              "      <th>L4_SRC_PORT</th>\n",
              "      <th>L4_DST_PORT</th>\n",
              "      <th>PROTOCOL</th>\n",
              "      <th>L7_PROTO</th>\n",
              "      <th>IN_BYTES</th>\n",
              "      <th>OUT_BYTES</th>\n",
              "      <th>IN_PKTS</th>\n",
              "      <th>OUT_PKTS</th>\n",
              "      <th>TCP_FLAGS</th>\n",
              "      <th>FLOW_DURATION_MILLISECONDS</th>\n",
              "      <th>Label</th>\n",
              "      <th>Attack</th>\n",
              "      <th>IPV4_SRC_ADDR_0</th>\n",
              "      <th>IPV4_SRC_ADDR_1</th>\n",
              "      <th>IPV4_SRC_ADDR_2</th>\n",
              "      <th>IPV4_SRC_ADDR_3</th>\n",
              "      <th>IPV4_DST_ADDR_0</th>\n",
              "      <th>IPV4_DST_ADDR_1</th>\n",
              "      <th>IPV4_DST_ADDR_2</th>\n",
              "      <th>IPV4_DST_ADDR_3</th>\n",
              "    </tr>\n",
              "  </thead>\n",
              "  <tbody>\n",
              "    <tr>\n",
              "      <th>0</th>\n",
              "      <td>63318</td>\n",
              "      <td>443</td>\n",
              "      <td>6</td>\n",
              "      <td>91.00</td>\n",
              "      <td>181</td>\n",
              "      <td>165</td>\n",
              "      <td>2</td>\n",
              "      <td>1</td>\n",
              "      <td>24</td>\n",
              "      <td>327</td>\n",
              "      <td>0</td>\n",
              "      <td>Benign</td>\n",
              "      <td>192</td>\n",
              "      <td>168</td>\n",
              "      <td>1</td>\n",
              "      <td>195</td>\n",
              "      <td>52</td>\n",
              "      <td>139</td>\n",
              "      <td>250</td>\n",
              "      <td>253</td>\n",
              "    </tr>\n",
              "    <tr>\n",
              "      <th>1</th>\n",
              "      <td>57442</td>\n",
              "      <td>15600</td>\n",
              "      <td>17</td>\n",
              "      <td>0.00</td>\n",
              "      <td>63</td>\n",
              "      <td>0</td>\n",
              "      <td>1</td>\n",
              "      <td>0</td>\n",
              "      <td>0</td>\n",
              "      <td>0</td>\n",
              "      <td>0</td>\n",
              "      <td>Benign</td>\n",
              "      <td>192</td>\n",
              "      <td>168</td>\n",
              "      <td>1</td>\n",
              "      <td>79</td>\n",
              "      <td>192</td>\n",
              "      <td>168</td>\n",
              "      <td>1</td>\n",
              "      <td>255</td>\n",
              "    </tr>\n",
              "    <tr>\n",
              "      <th>2</th>\n",
              "      <td>57452</td>\n",
              "      <td>15600</td>\n",
              "      <td>17</td>\n",
              "      <td>0.00</td>\n",
              "      <td>63</td>\n",
              "      <td>0</td>\n",
              "      <td>1</td>\n",
              "      <td>0</td>\n",
              "      <td>0</td>\n",
              "      <td>0</td>\n",
              "      <td>0</td>\n",
              "      <td>Benign</td>\n",
              "      <td>192</td>\n",
              "      <td>168</td>\n",
              "      <td>1</td>\n",
              "      <td>79</td>\n",
              "      <td>239</td>\n",
              "      <td>255</td>\n",
              "      <td>255</td>\n",
              "      <td>250</td>\n",
              "    </tr>\n",
              "    <tr>\n",
              "      <th>3</th>\n",
              "      <td>51989</td>\n",
              "      <td>15600</td>\n",
              "      <td>17</td>\n",
              "      <td>0.00</td>\n",
              "      <td>63</td>\n",
              "      <td>0</td>\n",
              "      <td>1</td>\n",
              "      <td>0</td>\n",
              "      <td>0</td>\n",
              "      <td>0</td>\n",
              "      <td>0</td>\n",
              "      <td>Benign</td>\n",
              "      <td>192</td>\n",
              "      <td>168</td>\n",
              "      <td>1</td>\n",
              "      <td>79</td>\n",
              "      <td>192</td>\n",
              "      <td>168</td>\n",
              "      <td>1</td>\n",
              "      <td>255</td>\n",
              "    </tr>\n",
              "    <tr>\n",
              "      <th>4</th>\n",
              "      <td>53927</td>\n",
              "      <td>1900</td>\n",
              "      <td>17</td>\n",
              "      <td>153.12</td>\n",
              "      <td>459</td>\n",
              "      <td>0</td>\n",
              "      <td>3</td>\n",
              "      <td>0</td>\n",
              "      <td>0</td>\n",
              "      <td>614</td>\n",
              "      <td>0</td>\n",
              "      <td>Benign</td>\n",
              "      <td>192</td>\n",
              "      <td>168</td>\n",
              "      <td>1</td>\n",
              "      <td>6</td>\n",
              "      <td>239</td>\n",
              "      <td>255</td>\n",
              "      <td>255</td>\n",
              "      <td>250</td>\n",
              "    </tr>\n",
              "  </tbody>\n",
              "</table>\n",
              "</div>\n",
              "    <div class=\"colab-df-buttons\">\n",
              "\n",
              "  <div class=\"colab-df-container\">\n",
              "    <button class=\"colab-df-convert\" onclick=\"convertToInteractive('df-853c2e05-0464-41be-b08c-5a0321634854')\"\n",
              "            title=\"Convert this dataframe to an interactive table.\"\n",
              "            style=\"display:none;\">\n",
              "\n",
              "  <svg xmlns=\"http://www.w3.org/2000/svg\" height=\"24px\" viewBox=\"0 -960 960 960\">\n",
              "    <path d=\"M120-120v-720h720v720H120Zm60-500h600v-160H180v160Zm220 220h160v-160H400v160Zm0 220h160v-160H400v160ZM180-400h160v-160H180v160Zm440 0h160v-160H620v160ZM180-180h160v-160H180v160Zm440 0h160v-160H620v160Z\"/>\n",
              "  </svg>\n",
              "    </button>\n",
              "\n",
              "  <style>\n",
              "    .colab-df-container {\n",
              "      display:flex;\n",
              "      gap: 12px;\n",
              "    }\n",
              "\n",
              "    .colab-df-convert {\n",
              "      background-color: #E8F0FE;\n",
              "      border: none;\n",
              "      border-radius: 50%;\n",
              "      cursor: pointer;\n",
              "      display: none;\n",
              "      fill: #1967D2;\n",
              "      height: 32px;\n",
              "      padding: 0 0 0 0;\n",
              "      width: 32px;\n",
              "    }\n",
              "\n",
              "    .colab-df-convert:hover {\n",
              "      background-color: #E2EBFA;\n",
              "      box-shadow: 0px 1px 2px rgba(60, 64, 67, 0.3), 0px 1px 3px 1px rgba(60, 64, 67, 0.15);\n",
              "      fill: #174EA6;\n",
              "    }\n",
              "\n",
              "    .colab-df-buttons div {\n",
              "      margin-bottom: 4px;\n",
              "    }\n",
              "\n",
              "    [theme=dark] .colab-df-convert {\n",
              "      background-color: #3B4455;\n",
              "      fill: #D2E3FC;\n",
              "    }\n",
              "\n",
              "    [theme=dark] .colab-df-convert:hover {\n",
              "      background-color: #434B5C;\n",
              "      box-shadow: 0px 1px 3px 1px rgba(0, 0, 0, 0.15);\n",
              "      filter: drop-shadow(0px 1px 2px rgba(0, 0, 0, 0.3));\n",
              "      fill: #FFFFFF;\n",
              "    }\n",
              "  </style>\n",
              "\n",
              "    <script>\n",
              "      const buttonEl =\n",
              "        document.querySelector('#df-853c2e05-0464-41be-b08c-5a0321634854 button.colab-df-convert');\n",
              "      buttonEl.style.display =\n",
              "        google.colab.kernel.accessAllowed ? 'block' : 'none';\n",
              "\n",
              "      async function convertToInteractive(key) {\n",
              "        const element = document.querySelector('#df-853c2e05-0464-41be-b08c-5a0321634854');\n",
              "        const dataTable =\n",
              "          await google.colab.kernel.invokeFunction('convertToInteractive',\n",
              "                                                    [key], {});\n",
              "        if (!dataTable) return;\n",
              "\n",
              "        const docLinkHtml = 'Like what you see? Visit the ' +\n",
              "          '<a target=\"_blank\" href=https://colab.research.google.com/notebooks/data_table.ipynb>data table notebook</a>'\n",
              "          + ' to learn more about interactive tables.';\n",
              "        element.innerHTML = '';\n",
              "        dataTable['output_type'] = 'display_data';\n",
              "        await google.colab.output.renderOutput(dataTable, element);\n",
              "        const docLink = document.createElement('div');\n",
              "        docLink.innerHTML = docLinkHtml;\n",
              "        element.appendChild(docLink);\n",
              "      }\n",
              "    </script>\n",
              "  </div>\n",
              "\n",
              "\n",
              "<div id=\"df-8047b17b-76b4-49a2-b8e7-69c3db0a34da\">\n",
              "  <button class=\"colab-df-quickchart\" onclick=\"quickchart('df-8047b17b-76b4-49a2-b8e7-69c3db0a34da')\"\n",
              "            title=\"Suggest charts.\"\n",
              "            style=\"display:none;\">\n",
              "\n",
              "<svg xmlns=\"http://www.w3.org/2000/svg\" height=\"24px\"viewBox=\"0 0 24 24\"\n",
              "     width=\"24px\">\n",
              "    <g>\n",
              "        <path d=\"M19 3H5c-1.1 0-2 .9-2 2v14c0 1.1.9 2 2 2h14c1.1 0 2-.9 2-2V5c0-1.1-.9-2-2-2zM9 17H7v-7h2v7zm4 0h-2V7h2v10zm4 0h-2v-4h2v4z\"/>\n",
              "    </g>\n",
              "</svg>\n",
              "  </button>\n",
              "\n",
              "<style>\n",
              "  .colab-df-quickchart {\n",
              "    background-color: #E8F0FE;\n",
              "    border: none;\n",
              "    border-radius: 50%;\n",
              "    cursor: pointer;\n",
              "    display: none;\n",
              "    fill: #1967D2;\n",
              "    height: 32px;\n",
              "    padding: 0 0 0 0;\n",
              "    width: 32px;\n",
              "  }\n",
              "\n",
              "  .colab-df-quickchart:hover {\n",
              "    background-color: #E2EBFA;\n",
              "    box-shadow: 0px 1px 2px rgba(60, 64, 67, 0.3), 0px 1px 3px 1px rgba(60, 64, 67, 0.15);\n",
              "    fill: #174EA6;\n",
              "  }\n",
              "\n",
              "  [theme=dark] .colab-df-quickchart {\n",
              "    background-color: #3B4455;\n",
              "    fill: #D2E3FC;\n",
              "  }\n",
              "\n",
              "  [theme=dark] .colab-df-quickchart:hover {\n",
              "    background-color: #434B5C;\n",
              "    box-shadow: 0px 1px 3px 1px rgba(0, 0, 0, 0.15);\n",
              "    filter: drop-shadow(0px 1px 2px rgba(0, 0, 0, 0.3));\n",
              "    fill: #FFFFFF;\n",
              "  }\n",
              "</style>\n",
              "\n",
              "  <script>\n",
              "    async function quickchart(key) {\n",
              "      const charts = await google.colab.kernel.invokeFunction(\n",
              "          'suggestCharts', [key], {});\n",
              "    }\n",
              "    (() => {\n",
              "      let quickchartButtonEl =\n",
              "        document.querySelector('#df-8047b17b-76b4-49a2-b8e7-69c3db0a34da button');\n",
              "      quickchartButtonEl.style.display =\n",
              "        google.colab.kernel.accessAllowed ? 'block' : 'none';\n",
              "    })();\n",
              "  </script>\n",
              "</div>\n",
              "    </div>\n",
              "  </div>\n"
            ]
          },
          "metadata": {},
          "execution_count": 4
        }
      ]
    },
    {
      "cell_type": "code",
      "source": [
        "df = df_shrink(df, obj2cat=False, int2uint=False)"
      ],
      "metadata": {
        "id": "k8EkqC9f5VYV"
      },
      "execution_count": 5,
      "outputs": []
    },
    {
      "cell_type": "code",
      "source": [
        "df.info()"
      ],
      "metadata": {
        "colab": {
          "base_uri": "https://localhost:8080/"
        },
        "id": "3O-ZadqR5Zlt",
        "outputId": "514ec659-1310-4d1b-e91a-add638fa761f"
      },
      "execution_count": 7,
      "outputs": [
        {
          "output_type": "stream",
          "name": "stdout",
          "text": [
            "<class 'pandas.core.frame.DataFrame'>\n",
            "RangeIndex: 1210789 entries, 0 to 1210788\n",
            "Data columns (total 20 columns):\n",
            " #   Column                      Non-Null Count    Dtype  \n",
            "---  ------                      --------------    -----  \n",
            " 0   L4_SRC_PORT                 1210789 non-null  int32  \n",
            " 1   L4_DST_PORT                 1210789 non-null  int32  \n",
            " 2   PROTOCOL                    1210789 non-null  int8   \n",
            " 3   L7_PROTO                    1210789 non-null  float32\n",
            " 4   IN_BYTES                    1210789 non-null  int32  \n",
            " 5   OUT_BYTES                   1210789 non-null  int32  \n",
            " 6   IN_PKTS                     1210789 non-null  int32  \n",
            " 7   OUT_PKTS                    1210789 non-null  int32  \n",
            " 8   TCP_FLAGS                   1210789 non-null  int16  \n",
            " 9   FLOW_DURATION_MILLISECONDS  1210789 non-null  int32  \n",
            " 10  Label                       1210789 non-null  int8   \n",
            " 11  Attack                      1210789 non-null  object \n",
            " 12  IPV4_SRC_ADDR_0             1210789 non-null  int16  \n",
            " 13  IPV4_SRC_ADDR_1             1210789 non-null  int16  \n",
            " 14  IPV4_SRC_ADDR_2             1210789 non-null  int16  \n",
            " 15  IPV4_SRC_ADDR_3             1210789 non-null  int16  \n",
            " 16  IPV4_DST_ADDR_0             1210789 non-null  int16  \n",
            " 17  IPV4_DST_ADDR_1             1210789 non-null  int16  \n",
            " 18  IPV4_DST_ADDR_2             1210789 non-null  int16  \n",
            " 19  IPV4_DST_ADDR_3             1210789 non-null  int16  \n",
            "dtypes: float32(1), int16(9), int32(7), int8(2), object(1)\n",
            "memory usage: 69.3+ MB\n"
          ]
        }
      ]
    },
    {
      "cell_type": "code",
      "source": [
        "X = df.drop(columns='Attack')\n",
        "y = df['Attack'].astype('category')"
      ],
      "metadata": {
        "id": "sjEdezWo5bb1"
      },
      "execution_count": 9,
      "outputs": []
    },
    {
      "cell_type": "code",
      "source": [
        "X_train, X_test, y_train, y_test = train_test_split(X, y, test_size = 0.25, random_state = 0)"
      ],
      "metadata": {
        "id": "73HW0-DQ5fim"
      },
      "execution_count": 10,
      "outputs": []
    },
    {
      "cell_type": "code",
      "source": [
        "rf_model = pickle.load(open(\"/content/drive/MyDrive/Colab Notebooks/Capstone/rf_binary_adasyn.pkl\", \"rb\"))"
      ],
      "metadata": {
        "id": "bBX0rFDl5jN1"
      },
      "execution_count": 12,
      "outputs": []
    },
    {
      "cell_type": "code",
      "source": [
        "importances = rf_model.named_steps['randomforestclassifier'].feature_importances_"
      ],
      "metadata": {
        "id": "xhf8eagx6eok"
      },
      "execution_count": 21,
      "outputs": []
    },
    {
      "cell_type": "code",
      "source": [
        "columns = rf_model.named_steps['standardscaler'].get_feature_names_out()"
      ],
      "metadata": {
        "id": "cxZ_lzub7wEG"
      },
      "execution_count": 23,
      "outputs": []
    },
    {
      "cell_type": "code",
      "source": [
        "important = pd.DataFrame(importances, index=columns)"
      ],
      "metadata": {
        "id": "Ics9DrnK83zt"
      },
      "execution_count": 29,
      "outputs": []
    },
    {
      "cell_type": "code",
      "source": [
        "important.columns = ['importance']"
      ],
      "metadata": {
        "id": "Aoo1oNtb9F0t"
      },
      "execution_count": 32,
      "outputs": []
    },
    {
      "cell_type": "code",
      "source": [
        "important.index.name = 'name'"
      ],
      "metadata": {
        "id": "LWQINw1l9Ibk"
      },
      "execution_count": 33,
      "outputs": []
    },
    {
      "cell_type": "code",
      "source": [
        "important.sort_values(by='importance',ascending=True).plot(kind='barh');"
      ],
      "metadata": {
        "colab": {
          "base_uri": "https://localhost:8080/",
          "height": 430
        },
        "id": "7k-Vdb889nY0",
        "outputId": "2fc35466-0f28-4577-c9be-2188bd147b9a"
      },
      "execution_count": 43,
      "outputs": [
        {
          "output_type": "display_data",
          "data": {
            "text/plain": [
              "<Figure size 640x480 with 1 Axes>"
            ],
            "image/png": "[encoded data removed]"
          },
          "metadata": {}
        }
      ]
    },
    {
      "cell_type": "code",
      "source": [
        "xg_model = pickle.load(open(\"/content/drive/MyDrive/Colab Notebooks/Capstone/xg_binary_adasyn.pkl\", \"rb\"))"
      ],
      "metadata": {
        "id": "KjI3E9ag_LAU"
      },
      "execution_count": 45,
      "outputs": []
    },
    {
      "cell_type": "code",
      "source": [
        "xg_importances = xg_model.named_steps['gradientboostingclassifier'].feature_importances_"
      ],
      "metadata": {
        "id": "rZZmZh_LAOYs"
      },
      "execution_count": 46,
      "outputs": []
    },
    {
      "cell_type": "code",
      "source": [
        "xg_cols = xg_model.named_steps['standardscaler'].get_feature_names_out()"
      ],
      "metadata": {
        "id": "dsODeQoLAY0E"
      },
      "execution_count": 47,
      "outputs": []
    },
    {
      "cell_type": "code",
      "source": [
        "xg_df = pd.DataFrame(xg_importances,index=xg_cols)"
      ],
      "metadata": {
        "id": "ZZjnItnPAgGT"
      },
      "execution_count": 48,
      "outputs": []
    },
    {
      "cell_type": "code",
      "source": [
        "xg_df.columns = ['importance']"
      ],
      "metadata": {
        "id": "rDXOEciIAmUb"
      },
      "execution_count": 49,
      "outputs": []
    },
    {
      "cell_type": "code",
      "source": [
        "xg_df.index_name = 'name'"
      ],
      "metadata": {
        "id": "sV2XhApAAqRL"
      },
      "execution_count": 50,
      "outputs": []
    },
    {
      "cell_type": "code",
      "source": [
        "xg_df = round(xg_df,5)"
      ],
      "metadata": {
        "id": "J6_rKKS4AtJE"
      },
      "execution_count": 58,
      "outputs": []
    },
    {
      "cell_type": "code",
      "source": [
        "xg_df.sort_values(by='importance',ascending=True).plot(kind='barh')"
      ],
      "metadata": {
        "colab": {
          "base_uri": "https://localhost:8080/",
          "height": 447
        },
        "id": "1rUPT89jAuJT",
        "outputId": "13ec370e-6d88-4588-df30-b76a34282efd"
      },
      "execution_count": 60,
      "outputs": [
        {
          "output_type": "execute_result",
          "data": {
            "text/plain": [
              "<Axes: >"
            ]
          },
          "metadata": {},
          "execution_count": 60
        },
        {
          "output_type": "display_data",
          "data": {
            "text/plain": [
              "<Figure size 640x480 with 1 Axes>"
            ],
            "image/png": "[encoded data removed]"
          },
          "metadata": {}
        }
      ]
    },
    {
      "cell_type": "code",
      "source": [
        "test_data = pd.read_csv(\"/content/drive/MyDrive/Colab Notebooks/Capstone/TON_IOT_pre.unknown\")"
      ],
      "metadata": {
        "id": "5UgOZJv-BEwk"
      },
      "execution_count": 61,
      "outputs": []
    },
    {
      "cell_type": "code",
      "source": [
        "df.head()"
      ],
      "metadata": {
        "colab": {
          "base_uri": "https://localhost:8080/",
          "height": 226
        },
        "id": "XhPYBTIIBhrT",
        "outputId": "40ff0d07-dbf0-4749-9d2c-6616680402f6"
      },
      "execution_count": 62,
      "outputs": [
        {
          "output_type": "execute_result",
          "data": {
            "text/plain": [
              "   L4_SRC_PORT  L4_DST_PORT  PROTOCOL    L7_PROTO  IN_BYTES  OUT_BYTES  \\\n",
              "0        63318          443         6   91.000000       181        165   \n",
              "1        57442        15600        17    0.000000        63          0   \n",
              "2        57452        15600        17    0.000000        63          0   \n",
              "3        51989        15600        17    0.000000        63          0   \n",
              "4        53927         1900        17  153.119995       459          0   \n",
              "\n",
              "   IN_PKTS  OUT_PKTS  TCP_FLAGS  FLOW_DURATION_MILLISECONDS  Label  Attack  \\\n",
              "0        2         1         24                         327      0  Benign   \n",
              "1        1         0          0                           0      0  Benign   \n",
              "2        1         0          0                           0      0  Benign   \n",
              "3        1         0          0                           0      0  Benign   \n",
              "4        3         0          0                         614      0  Benign   \n",
              "\n",
              "   IPV4_SRC_ADDR_0  IPV4_SRC_ADDR_1  IPV4_SRC_ADDR_2  IPV4_SRC_ADDR_3  \\\n",
              "0              192              168                1              195   \n",
              "1              192              168                1               79   \n",
              "2              192              168                1               79   \n",
              "3              192              168                1               79   \n",
              "4              192              168                1                6   \n",
              "\n",
              "   IPV4_DST_ADDR_0  IPV4_DST_ADDR_1  IPV4_DST_ADDR_2  IPV4_DST_ADDR_3  \n",
              "0               52              139              250              253  \n",
              "1              192              168                1              255  \n",
              "2              239              255              255              250  \n",
              "3              192              168                1              255  \n",
              "4              239              255              255              250  "
            ],
            "text/html": [
              "\n",
              "  <div id=\"df-076e2577-3a00-4599-880a-26c7d6bb2bfb\" class=\"colab-df-container\">\n",
              "    <div>\n",
              "<style scoped>\n",
              "    .dataframe tbody tr th:only-of-type {\n",
              "        vertical-align: middle;\n",
              "    }\n",
              "\n",
              "    .dataframe tbody tr th {\n",
              "        vertical-align: top;\n",
              "    }\n",
              "\n",
              "    .dataframe thead th {\n",
              "        text-align: right;\n",
              "    }\n",
              "</style>\n",
              "<table border=\"1\" class=\"dataframe\">\n",
              "  <thead>\n",
              "    <tr style=\"text-align: right;\">\n",
              "      <th></th>\n",
              "      <th>L4_SRC_PORT</th>\n",
              "      <th>L4_DST_PORT</th>\n",
              "      <th>PROTOCOL</th>\n",
              "      <th>L7_PROTO</th>\n",
              "      <th>IN_BYTES</th>\n",
              "      <th>OUT_BYTES</th>\n",
              "      <th>IN_PKTS</th>\n",
              "      <th>OUT_PKTS</th>\n",
              "      <th>TCP_FLAGS</th>\n",
              "      <th>FLOW_DURATION_MILLISECONDS</th>\n",
              "      <th>Label</th>\n",
              "      <th>Attack</th>\n",
              "      <th>IPV4_SRC_ADDR_0</th>\n",
              "      <th>IPV4_SRC_ADDR_1</th>\n",
              "      <th>IPV4_SRC_ADDR_2</th>\n",
              "      <th>IPV4_SRC_ADDR_3</th>\n",
              "      <th>IPV4_DST_ADDR_0</th>\n",
              "      <th>IPV4_DST_ADDR_1</th>\n",
              "      <th>IPV4_DST_ADDR_2</th>\n",
              "      <th>IPV4_DST_ADDR_3</th>\n",
              "    </tr>\n",
              "  </thead>\n",
              "  <tbody>\n",
              "    <tr>\n",
              "      <th>0</th>\n",
              "      <td>63318</td>\n",
              "      <td>443</td>\n",
              "      <td>6</td>\n",
              "      <td>91.000000</td>\n",
              "      <td>181</td>\n",
              "      <td>165</td>\n",
              "      <td>2</td>\n",
              "      <td>1</td>\n",
              "      <td>24</td>\n",
              "      <td>327</td>\n",
              "      <td>0</td>\n",
              "      <td>Benign</td>\n",
              "      <td>192</td>\n",
              "      <td>168</td>\n",
              "      <td>1</td>\n",
              "      <td>195</td>\n",
              "      <td>52</td>\n",
              "      <td>139</td>\n",
              "      <td>250</td>\n",
              "      <td>253</td>\n",
              "    </tr>\n",
              "    <tr>\n",
              "      <th>1</th>\n",
              "      <td>57442</td>\n",
              "      <td>15600</td>\n",
              "      <td>17</td>\n",
              "      <td>0.000000</td>\n",
              "      <td>63</td>\n",
              "      <td>0</td>\n",
              "      <td>1</td>\n",
              "      <td>0</td>\n",
              "      <td>0</td>\n",
              "      <td>0</td>\n",
              "      <td>0</td>\n",
              "      <td>Benign</td>\n",
              "      <td>192</td>\n",
              "      <td>168</td>\n",
              "      <td>1</td>\n",
              "      <td>79</td>\n",
              "      <td>192</td>\n",
              "      <td>168</td>\n",
              "      <td>1</td>\n",
              "      <td>255</td>\n",
              "    </tr>\n",
              "    <tr>\n",
              "      <th>2</th>\n",
              "      <td>57452</td>\n",
              "      <td>15600</td>\n",
              "      <td>17</td>\n",
              "      <td>0.000000</td>\n",
              "      <td>63</td>\n",
              "      <td>0</td>\n",
              "      <td>1</td>\n",
              "      <td>0</td>\n",
              "      <td>0</td>\n",
              "      <td>0</td>\n",
              "      <td>0</td>\n",
              "      <td>Benign</td>\n",
              "      <td>192</td>\n",
              "      <td>168</td>\n",
              "      <td>1</td>\n",
              "      <td>79</td>\n",
              "      <td>239</td>\n",
              "      <td>255</td>\n",
              "      <td>255</td>\n",
              "      <td>250</td>\n",
              "    </tr>\n",
              "    <tr>\n",
              "      <th>3</th>\n",
              "      <td>51989</td>\n",
              "      <td>15600</td>\n",
              "      <td>17</td>\n",
              "      <td>0.000000</td>\n",
              "      <td>63</td>\n",
              "      <td>0</td>\n",
              "      <td>1</td>\n",
              "      <td>0</td>\n",
              "      <td>0</td>\n",
              "      <td>0</td>\n",
              "      <td>0</td>\n",
              "      <td>Benign</td>\n",
              "      <td>192</td>\n",
              "      <td>168</td>\n",
              "      <td>1</td>\n",
              "      <td>79</td>\n",
              "      <td>192</td>\n",
              "      <td>168</td>\n",
              "      <td>1</td>\n",
              "      <td>255</td>\n",
              "    </tr>\n",
              "    <tr>\n",
              "      <th>4</th>\n",
              "      <td>53927</td>\n",
              "      <td>1900</td>\n",
              "      <td>17</td>\n",
              "      <td>153.119995</td>\n",
              "      <td>459</td>\n",
              "      <td>0</td>\n",
              "      <td>3</td>\n",
              "      <td>0</td>\n",
              "      <td>0</td>\n",
              "      <td>614</td>\n",
              "      <td>0</td>\n",
              "      <td>Benign</td>\n",
              "      <td>192</td>\n",
              "      <td>168</td>\n",
              "      <td>1</td>\n",
              "      <td>6</td>\n",
              "      <td>239</td>\n",
              "      <td>255</td>\n",
              "      <td>255</td>\n",
              "      <td>250</td>\n",
              "    </tr>\n",
              "  </tbody>\n",
              "</table>\n",
              "</div>\n",
              "    <div class=\"colab-df-buttons\">\n",
              "\n",
              "  <div class=\"colab-df-container\">\n",
              "    <button class=\"colab-df-convert\" onclick=\"convertToInteractive('df-076e2577-3a00-4599-880a-26c7d6bb2bfb')\"\n",
              "            title=\"Convert this dataframe to an interactive table.\"\n",
              "            style=\"display:none;\">\n",
              "\n",
              "  <svg xmlns=\"http://www.w3.org/2000/svg\" height=\"24px\" viewBox=\"0 -960 960 960\">\n",
              "    <path d=\"M120-120v-720h720v720H120Zm60-500h600v-160H180v160Zm220 220h160v-160H400v160Zm0 220h160v-160H400v160ZM180-400h160v-160H180v160Zm440 0h160v-160H620v160ZM180-180h160v-160H180v160Zm440 0h160v-160H620v160Z\"/>\n",
              "  </svg>\n",
              "    </button>\n",
              "\n",
              "  <style>\n",
              "    .colab-df-container {\n",
              "      display:flex;\n",
              "      gap: 12px;\n",
              "    }\n",
              "\n",
              "    .colab-df-convert {\n",
              "      background-color: #E8F0FE;\n",
              "      border: none;\n",
              "      border-radius: 50%;\n",
              "      cursor: pointer;\n",
              "      display: none;\n",
              "      fill: #1967D2;\n",
              "      height: 32px;\n",
              "      padding: 0 0 0 0;\n",
              "      width: 32px;\n",
              "    }\n",
              "\n",
              "    .colab-df-convert:hover {\n",
              "      background-color: #E2EBFA;\n",
              "      box-shadow: 0px 1px 2px rgba(60, 64, 67, 0.3), 0px 1px 3px 1px rgba(60, 64, 67, 0.15);\n",
              "      fill: #174EA6;\n",
              "    }\n",
              "\n",
              "    .colab-df-buttons div {\n",
              "      margin-bottom: 4px;\n",
              "    }\n",
              "\n",
              "    [theme=dark] .colab-df-convert {\n",
              "      background-color: #3B4455;\n",
              "      fill: #D2E3FC;\n",
              "    }\n",
              "\n",
              "    [theme=dark] .colab-df-convert:hover {\n",
              "      background-color: #434B5C;\n",
              "      box-shadow: 0px 1px 3px 1px rgba(0, 0, 0, 0.15);\n",
              "      filter: drop-shadow(0px 1px 2px rgba(0, 0, 0, 0.3));\n",
              "      fill: #FFFFFF;\n",
              "    }\n",
              "  </style>\n",
              "\n",
              "    <script>\n",
              "      const buttonEl =\n",
              "        document.querySelector('#df-076e2577-3a00-4599-880a-26c7d6bb2bfb button.colab-df-convert');\n",
              "      buttonEl.style.display =\n",
              "        google.colab.kernel.accessAllowed ? 'block' : 'none';\n",
              "\n",
              "      async function convertToInteractive(key) {\n",
              "        const element = document.querySelector('#df-076e2577-3a00-4599-880a-26c7d6bb2bfb');\n",
              "        const dataTable =\n",
              "          await google.colab.kernel.invokeFunction('convertToInteractive',\n",
              "                                                    [key], {});\n",
              "        if (!dataTable) return;\n",
              "\n",
              "        const docLinkHtml = 'Like what you see? Visit the ' +\n",
              "          '<a target=\"_blank\" href=https://colab.research.google.com/notebooks/data_table.ipynb>data table notebook</a>'\n",
              "          + ' to learn more about interactive tables.';\n",
              "        element.innerHTML = '';\n",
              "        dataTable['output_type'] = 'display_data';\n",
              "        await google.colab.output.renderOutput(dataTable, element);\n",
              "        const docLink = document.createElement('div');\n",
              "        docLink.innerHTML = docLinkHtml;\n",
              "        element.appendChild(docLink);\n",
              "      }\n",
              "    </script>\n",
              "  </div>\n",
              "\n",
              "\n",
              "<div id=\"df-353d5421-13c1-479d-a16a-aa4ec20dc6f4\">\n",
              "  <button class=\"colab-df-quickchart\" onclick=\"quickchart('df-353d5421-13c1-479d-a16a-aa4ec20dc6f4')\"\n",
              "            title=\"Suggest charts.\"\n",
              "            style=\"display:none;\">\n",
              "\n",
              "<svg xmlns=\"http://www.w3.org/2000/svg\" height=\"24px\"viewBox=\"0 0 24 24\"\n",
              "     width=\"24px\">\n",
              "    <g>\n",
              "        <path d=\"M19 3H5c-1.1 0-2 .9-2 2v14c0 1.1.9 2 2 2h14c1.1 0 2-.9 2-2V5c0-1.1-.9-2-2-2zM9 17H7v-7h2v7zm4 0h-2V7h2v10zm4 0h-2v-4h2v4z\"/>\n",
              "    </g>\n",
              "</svg>\n",
              "  </button>\n",
              "\n",
              "<style>\n",
              "  .colab-df-quickchart {\n",
              "    background-color: #E8F0FE;\n",
              "    border: none;\n",
              "    border-radius: 50%;\n",
              "    cursor: pointer;\n",
              "    display: none;\n",
              "    fill: #1967D2;\n",
              "    height: 32px;\n",
              "    padding: 0 0 0 0;\n",
              "    width: 32px;\n",
              "  }\n",
              "\n",
              "  .colab-df-quickchart:hover {\n",
              "    background-color: #E2EBFA;\n",
              "    box-shadow: 0px 1px 2px rgba(60, 64, 67, 0.3), 0px 1px 3px 1px rgba(60, 64, 67, 0.15);\n",
              "    fill: #174EA6;\n",
              "  }\n",
              "\n",
              "  [theme=dark] .colab-df-quickchart {\n",
              "    background-color: #3B4455;\n",
              "    fill: #D2E3FC;\n",
              "  }\n",
              "\n",
              "  [theme=dark] .colab-df-quickchart:hover {\n",
              "    background-color: #434B5C;\n",
              "    box-shadow: 0px 1px 3px 1px rgba(0, 0, 0, 0.15);\n",
              "    filter: drop-shadow(0px 1px 2px rgba(0, 0, 0, 0.3));\n",
              "    fill: #FFFFFF;\n",
              "  }\n",
              "</style>\n",
              "\n",
              "  <script>\n",
              "    async function quickchart(key) {\n",
              "      const charts = await google.colab.kernel.invokeFunction(\n",
              "          'suggestCharts', [key], {});\n",
              "    }\n",
              "    (() => {\n",
              "      let quickchartButtonEl =\n",
              "        document.querySelector('#df-353d5421-13c1-479d-a16a-aa4ec20dc6f4 button');\n",
              "      quickchartButtonEl.style.display =\n",
              "        google.colab.kernel.accessAllowed ? 'block' : 'none';\n",
              "    })();\n",
              "  </script>\n",
              "</div>\n",
              "    </div>\n",
              "  </div>\n"
            ]
          },
          "metadata": {},
          "execution_count": 62
        }
      ]
    },
    {
      "cell_type": "code",
      "source": [
        "new_test = df.drop(['Label','Attack'],axis=1)\n",
        "new_target = df['Label']"
      ],
      "metadata": {
        "id": "4q0h4m40Bjzz"
      },
      "execution_count": 66,
      "outputs": []
    },
    {
      "cell_type": "code",
      "source": [
        "pred = rf_model.predict(new_test)"
      ],
      "metadata": {
        "id": "37quZ9wHB6RL"
      },
      "execution_count": 67,
      "outputs": []
    },
    {
      "cell_type": "code",
      "source": [
        "print(classification_report(pred, new_target))"
      ],
      "metadata": {
        "colab": {
          "base_uri": "https://localhost:8080/"
        },
        "id": "FB3dxHt9Cc4b",
        "outputId": "006855a0-cc15-4b6c-942a-f0dbbde09e83"
      },
      "execution_count": 68,
      "outputs": [
        {
          "output_type": "stream",
          "name": "stdout",
          "text": [
            "              precision    recall  f1-score   support\n",
            "\n",
            "           0       1.00      1.00      1.00    212779\n",
            "           1       1.00      1.00      1.00    998010\n",
            "\n",
            "    accuracy                           1.00   1210789\n",
            "   macro avg       1.00      1.00      1.00   1210789\n",
            "weighted avg       1.00      1.00      1.00   1210789\n",
            "\n"
          ]
        }
      ]
    },
    {
      "cell_type": "code",
      "source": [
        "pred1 = xg_model.predict(new_test)"
      ],
      "metadata": {
        "id": "PePKH6YkC0h9"
      },
      "execution_count": 69,
      "outputs": []
    },
    {
      "cell_type": "code",
      "source": [
        "print(classification_report(pred1, new_target))"
      ],
      "metadata": {
        "colab": {
          "base_uri": "https://localhost:8080/"
        },
        "id": "IdTaLSY_DKWj",
        "outputId": "7c4f60f3-a299-4b7b-fc2b-de2efb3b0700"
      },
      "execution_count": 70,
      "outputs": [
        {
          "output_type": "stream",
          "name": "stdout",
          "text": [
            "              precision    recall  f1-score   support\n",
            "\n",
            "           0       1.00      1.00      1.00    212677\n",
            "           1       1.00      1.00      1.00    998112\n",
            "\n",
            "    accuracy                           1.00   1210789\n",
            "   macro avg       1.00      1.00      1.00   1210789\n",
            "weighted avg       1.00      1.00      1.00   1210789\n",
            "\n"
          ]
        }
      ]
    },
    {
      "cell_type": "code",
      "source": [
        "log_model = pickle.load(open(\"/content/drive/MyDrive/Colab Notebooks/Capstone/log_bianry_adasyn.pkl\",\"rb\"))"
      ],
      "metadata": {
        "id": "PRRuH6pwDneU"
      },
      "execution_count": 71,
      "outputs": []
    },
    {
      "cell_type": "code",
      "source": [
        "importances =  log_model.coef_[0]"
      ],
      "metadata": {
        "id": "bTx4hcVzJWxT"
      },
      "execution_count": 73,
      "outputs": []
    },
    {
      "cell_type": "code",
      "source": [
        "ocols=  log_model.feature_names_in_"
      ],
      "metadata": {
        "id": "bqbSIctcJiqi"
      },
      "execution_count": 79,
      "outputs": []
    },
    {
      "cell_type": "code",
      "source": [
        "lof_df = pd.DataFrame(importances, index=ocols)"
      ],
      "metadata": {
        "id": "hPYNh7RRJt_m"
      },
      "execution_count": 80,
      "outputs": []
    },
    {
      "cell_type": "code",
      "source": [
        "lof_df.columns= ['importance']"
      ],
      "metadata": {
        "id": "wesKCvJ8LMcL"
      },
      "execution_count": 81,
      "outputs": []
    },
    {
      "cell_type": "code",
      "source": [
        "lof_df.index.name = 'name'"
      ],
      "metadata": {
        "id": "47bQHR9ILQ6K"
      },
      "execution_count": 82,
      "outputs": []
    },
    {
      "cell_type": "code",
      "source": [
        "lof_df.sort_values(by='importance', ascending=True).plot(kind='barh');"
      ],
      "metadata": {
        "colab": {
          "base_uri": "https://localhost:8080/",
          "height": 430
        },
        "id": "q7WZnYm2LW7q",
        "outputId": "6c181781-975f-490d-8b79-c6243346c689"
      },
      "execution_count": 85,
      "outputs": [
        {
          "output_type": "display_data",
          "data": {
            "text/plain": [
              "<Figure size 640x480 with 1 Axes>"
            ],
            "image/png": "[encoded data removed]"
          },
          "metadata": {}
        }
      ]
    },
    {
      "cell_type": "code",
      "source": [],
      "metadata": {
        "id": "drscic0XLc77"
      },
      "execution_count": null,
      "outputs": []
    }
  ]
}