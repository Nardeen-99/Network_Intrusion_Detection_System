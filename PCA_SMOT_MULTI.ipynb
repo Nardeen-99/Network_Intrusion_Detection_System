{
  "nbformat": 4,
  "nbformat_minor": 0,
  "metadata": {
    "colab": {
      "provenance": []
    },
    "kernelspec": {
      "name": "python3",
      "display_name": "Python 3"
    },
    "language_info": {
      "name": "python"
    }
  },
  "cells": [
    {
      "cell_type": "code",
      "execution_count": 61,
      "metadata": {
        "colab": {
          "base_uri": "https://localhost:8080/"
        },
        "id": "QAYA6y-kIKFX",
        "outputId": "4aeec9c4-55cb-4eeb-80af-b65d3795d9d9"
      },
      "outputs": [
        {
          "output_type": "stream",
          "name": "stdout",
          "text": [
            "Requirement already satisfied: xgboost in /usr/local/lib/python3.10/dist-packages (1.7.6)\n",
            "Requirement already satisfied: numpy in /usr/local/lib/python3.10/dist-packages (from xgboost) (1.23.5)\n",
            "Requirement already satisfied: scipy in /usr/local/lib/python3.10/dist-packages (from xgboost) (1.10.1)\n"
          ]
        }
      ],
      "source": [
        "! pip install xgboost\n",
        "from imblearn.over_sampling import SMOTE, ADASYN\n",
        "import numpy as np\n",
        "import pandas as pd\n",
        "import matplotlib.pyplot as plt\n",
        "import seaborn as sns\n",
        "from fastai.tabular.all import df_shrink\n",
        "from scipy import stats\n",
        "from sklearn.model_selection import train_test_split\n",
        "from sklearn.linear_model import LogisticRegression\n",
        "from sklearn.preprocessing import StandardScaler\n",
        "from sklearn.ensemble import RandomForestClassifier\n",
        "from sklearn.ensemble import GradientBoostingClassifier\n",
        "from sklearn.metrics import classification_report, confusion_matrix, ConfusionMatrixDisplay\n",
        "from sklearn.model_selection import RandomizedSearchCV\n",
        "from sklearn.utils.validation import check_is_fitted\n",
        "from sklearn.pipeline import make_pipeline\n",
        "import pickle\n",
        "from xgboost import XGBClassifier\n",
        "from sklearn.decomposition import PCA"
      ]
    },
    {
      "cell_type": "code",
      "source": [
        "df = pd.read_csv('/content/TON_IOT_pre.unknown')\n",
        "df.head()"
      ],
      "metadata": {
        "colab": {
          "base_uri": "https://localhost:8080/",
          "height": 226
        },
        "id": "JxsDSMoPJjHm",
        "outputId": "1e1cbd1e-1174-405b-c572-9e847e8fc0b3"
      },
      "execution_count": 62,
      "outputs": [
        {
          "output_type": "execute_result",
          "data": {
            "text/plain": [
              "   L4_SRC_PORT  L4_DST_PORT  PROTOCOL  L7_PROTO  IN_BYTES  OUT_BYTES  IN_PKTS  \\\n",
              "0        63318          443         6     91.00       181        165        2   \n",
              "1        57442        15600        17      0.00        63          0        1   \n",
              "2        57452        15600        17      0.00        63          0        1   \n",
              "3        51989        15600        17      0.00        63          0        1   \n",
              "4        53927         1900        17    153.12       459          0        3   \n",
              "\n",
              "   OUT_PKTS  TCP_FLAGS  FLOW_DURATION_MILLISECONDS  Label  Attack  \\\n",
              "0         1         24                         327      0  Benign   \n",
              "1         0          0                           0      0  Benign   \n",
              "2         0          0                           0      0  Benign   \n",
              "3         0          0                           0      0  Benign   \n",
              "4         0          0                         614      0  Benign   \n",
              "\n",
              "   IPV4_SRC_ADDR_0  IPV4_SRC_ADDR_1  IPV4_SRC_ADDR_2  IPV4_SRC_ADDR_3  \\\n",
              "0              192              168                1              195   \n",
              "1              192              168                1               79   \n",
              "2              192              168                1               79   \n",
              "3              192              168                1               79   \n",
              "4              192              168                1                6   \n",
              "\n",
              "   IPV4_DST_ADDR_0  IPV4_DST_ADDR_1  IPV4_DST_ADDR_2  IPV4_DST_ADDR_3  \n",
              "0               52              139              250              253  \n",
              "1              192              168                1              255  \n",
              "2              239              255              255              250  \n",
              "3              192              168                1              255  \n",
              "4              239              255              255              250  "
            ],
            "text/html": [
              "\n",
              "  <div id=\"df-165baae6-0e49-41f2-850f-361b0c25095d\" class=\"colab-df-container\">\n",
              "    <div>\n",
              "<style scoped>\n",
              "    .dataframe tbody tr th:only-of-type {\n",
              "        vertical-align: middle;\n",
              "    }\n",
              "\n",
              "    .dataframe tbody tr th {\n",
              "        vertical-align: top;\n",
              "    }\n",
              "\n",
              "    .dataframe thead th {\n",
              "        text-align: right;\n",
              "    }\n",
              "</style>\n",
              "<table border=\"1\" class=\"dataframe\">\n",
              "  <thead>\n",
              "    <tr style=\"text-align: right;\">\n",
              "      <th></th>\n",
              "      <th>L4_SRC_PORT</th>\n",
              "      <th>L4_DST_PORT</th>\n",
              "      <th>PROTOCOL</th>\n",
              "      <th>L7_PROTO</th>\n",
              "      <th>IN_BYTES</th>\n",
              "      <th>OUT_BYTES</th>\n",
              "      <th>IN_PKTS</th>\n",
              "      <th>OUT_PKTS</th>\n",
              "      <th>TCP_FLAGS</th>\n",
              "      <th>FLOW_DURATION_MILLISECONDS</th>\n",
              "      <th>Label</th>\n",
              "      <th>Attack</th>\n",
              "      <th>IPV4_SRC_ADDR_0</th>\n",
              "      <th>IPV4_SRC_ADDR_1</th>\n",
              "      <th>IPV4_SRC_ADDR_2</th>\n",
              "      <th>IPV4_SRC_ADDR_3</th>\n",
              "      <th>IPV4_DST_ADDR_0</th>\n",
              "      <th>IPV4_DST_ADDR_1</th>\n",
              "      <th>IPV4_DST_ADDR_2</th>\n",
              "      <th>IPV4_DST_ADDR_3</th>\n",
              "    </tr>\n",
              "  </thead>\n",
              "  <tbody>\n",
              "    <tr>\n",
              "      <th>0</th>\n",
              "      <td>63318</td>\n",
              "      <td>443</td>\n",
              "      <td>6</td>\n",
              "      <td>91.00</td>\n",
              "      <td>181</td>\n",
              "      <td>165</td>\n",
              "      <td>2</td>\n",
              "      <td>1</td>\n",
              "      <td>24</td>\n",
              "      <td>327</td>\n",
              "      <td>0</td>\n",
              "      <td>Benign</td>\n",
              "      <td>192</td>\n",
              "      <td>168</td>\n",
              "      <td>1</td>\n",
              "      <td>195</td>\n",
              "      <td>52</td>\n",
              "      <td>139</td>\n",
              "      <td>250</td>\n",
              "      <td>253</td>\n",
              "    </tr>\n",
              "    <tr>\n",
              "      <th>1</th>\n",
              "      <td>57442</td>\n",
              "      <td>15600</td>\n",
              "      <td>17</td>\n",
              "      <td>0.00</td>\n",
              "      <td>63</td>\n",
              "      <td>0</td>\n",
              "      <td>1</td>\n",
              "      <td>0</td>\n",
              "      <td>0</td>\n",
              "      <td>0</td>\n",
              "      <td>0</td>\n",
              "      <td>Benign</td>\n",
              "      <td>192</td>\n",
              "      <td>168</td>\n",
              "      <td>1</td>\n",
              "      <td>79</td>\n",
              "      <td>192</td>\n",
              "      <td>168</td>\n",
              "      <td>1</td>\n",
              "      <td>255</td>\n",
              "    </tr>\n",
              "    <tr>\n",
              "      <th>2</th>\n",
              "      <td>57452</td>\n",
              "      <td>15600</td>\n",
              "      <td>17</td>\n",
              "      <td>0.00</td>\n",
              "      <td>63</td>\n",
              "      <td>0</td>\n",
              "      <td>1</td>\n",
              "      <td>0</td>\n",
              "      <td>0</td>\n",
              "      <td>0</td>\n",
              "      <td>0</td>\n",
              "      <td>Benign</td>\n",
              "      <td>192</td>\n",
              "      <td>168</td>\n",
              "      <td>1</td>\n",
              "      <td>79</td>\n",
              "      <td>239</td>\n",
              "      <td>255</td>\n",
              "      <td>255</td>\n",
              "      <td>250</td>\n",
              "    </tr>\n",
              "    <tr>\n",
              "      <th>3</th>\n",
              "      <td>51989</td>\n",
              "      <td>15600</td>\n",
              "      <td>17</td>\n",
              "      <td>0.00</td>\n",
              "      <td>63</td>\n",
              "      <td>0</td>\n",
              "      <td>1</td>\n",
              "      <td>0</td>\n",
              "      <td>0</td>\n",
              "      <td>0</td>\n",
              "      <td>0</td>\n",
              "      <td>Benign</td>\n",
              "      <td>192</td>\n",
              "      <td>168</td>\n",
              "      <td>1</td>\n",
              "      <td>79</td>\n",
              "      <td>192</td>\n",
              "      <td>168</td>\n",
              "      <td>1</td>\n",
              "      <td>255</td>\n",
              "    </tr>\n",
              "    <tr>\n",
              "      <th>4</th>\n",
              "      <td>53927</td>\n",
              "      <td>1900</td>\n",
              "      <td>17</td>\n",
              "      <td>153.12</td>\n",
              "      <td>459</td>\n",
              "      <td>0</td>\n",
              "      <td>3</td>\n",
              "      <td>0</td>\n",
              "      <td>0</td>\n",
              "      <td>614</td>\n",
              "      <td>0</td>\n",
              "      <td>Benign</td>\n",
              "      <td>192</td>\n",
              "      <td>168</td>\n",
              "      <td>1</td>\n",
              "      <td>6</td>\n",
              "      <td>239</td>\n",
              "      <td>255</td>\n",
              "      <td>255</td>\n",
              "      <td>250</td>\n",
              "    </tr>\n",
              "  </tbody>\n",
              "</table>\n",
              "</div>\n",
              "    <div class=\"colab-df-buttons\">\n",
              "\n",
              "  <div class=\"colab-df-container\">\n",
              "    <button class=\"colab-df-convert\" onclick=\"convertToInteractive('df-165baae6-0e49-41f2-850f-361b0c25095d')\"\n",
              "            title=\"Convert this dataframe to an interactive table.\"\n",
              "            style=\"display:none;\">\n",
              "\n",
              "  <svg xmlns=\"http://www.w3.org/2000/svg\" height=\"24px\" viewBox=\"0 -960 960 960\">\n",
              "    <path d=\"M120-120v-720h720v720H120Zm60-500h600v-160H180v160Zm220 220h160v-160H400v160Zm0 220h160v-160H400v160ZM180-400h160v-160H180v160Zm440 0h160v-160H620v160ZM180-180h160v-160H180v160Zm440 0h160v-160H620v160Z\"/>\n",
              "  </svg>\n",
              "    </button>\n",
              "\n",
              "  <style>\n",
              "    .colab-df-container {\n",
              "      display:flex;\n",
              "      gap: 12px;\n",
              "    }\n",
              "\n",
              "    .colab-df-convert {\n",
              "      background-color: #E8F0FE;\n",
              "      border: none;\n",
              "      border-radius: 50%;\n",
              "      cursor: pointer;\n",
              "      display: none;\n",
              "      fill: #1967D2;\n",
              "      height: 32px;\n",
              "      padding: 0 0 0 0;\n",
              "      width: 32px;\n",
              "    }\n",
              "\n",
              "    .colab-df-convert:hover {\n",
              "      background-color: #E2EBFA;\n",
              "      box-shadow: 0px 1px 2px rgba(60, 64, 67, 0.3), 0px 1px 3px 1px rgba(60, 64, 67, 0.15);\n",
              "      fill: #174EA6;\n",
              "    }\n",
              "\n",
              "    .colab-df-buttons div {\n",
              "      margin-bottom: 4px;\n",
              "    }\n",
              "\n",
              "    [theme=dark] .colab-df-convert {\n",
              "      background-color: #3B4455;\n",
              "      fill: #D2E3FC;\n",
              "    }\n",
              "\n",
              "    [theme=dark] .colab-df-convert:hover {\n",
              "      background-color: #434B5C;\n",
              "      box-shadow: 0px 1px 3px 1px rgba(0, 0, 0, 0.15);\n",
              "      filter: drop-shadow(0px 1px 2px rgba(0, 0, 0, 0.3));\n",
              "      fill: #FFFFFF;\n",
              "    }\n",
              "  </style>\n",
              "\n",
              "    <script>\n",
              "      const buttonEl =\n",
              "        document.querySelector('#df-165baae6-0e49-41f2-850f-361b0c25095d button.colab-df-convert');\n",
              "      buttonEl.style.display =\n",
              "        google.colab.kernel.accessAllowed ? 'block' : 'none';\n",
              "\n",
              "      async function convertToInteractive(key) {\n",
              "        const element = document.querySelector('#df-165baae6-0e49-41f2-850f-361b0c25095d');\n",
              "        const dataTable =\n",
              "          await google.colab.kernel.invokeFunction('convertToInteractive',\n",
              "                                                    [key], {});\n",
              "        if (!dataTable) return;\n",
              "\n",
              "        const docLinkHtml = 'Like what you see? Visit the ' +\n",
              "          '<a target=\"_blank\" href=https://colab.research.google.com/notebooks/data_table.ipynb>data table notebook</a>'\n",
              "          + ' to learn more about interactive tables.';\n",
              "        element.innerHTML = '';\n",
              "        dataTable['output_type'] = 'display_data';\n",
              "        await google.colab.output.renderOutput(dataTable, element);\n",
              "        const docLink = document.createElement('div');\n",
              "        docLink.innerHTML = docLinkHtml;\n",
              "        element.appendChild(docLink);\n",
              "      }\n",
              "    </script>\n",
              "  </div>\n",
              "\n",
              "\n",
              "<div id=\"df-61b15afb-20af-4625-b86c-b43383d5328e\">\n",
              "  <button class=\"colab-df-quickchart\" onclick=\"quickchart('df-61b15afb-20af-4625-b86c-b43383d5328e')\"\n",
              "            title=\"Suggest charts.\"\n",
              "            style=\"display:none;\">\n",
              "\n",
              "<svg xmlns=\"http://www.w3.org/2000/svg\" height=\"24px\"viewBox=\"0 0 24 24\"\n",
              "     width=\"24px\">\n",
              "    <g>\n",
              "        <path d=\"M19 3H5c-1.1 0-2 .9-2 2v14c0 1.1.9 2 2 2h14c1.1 0 2-.9 2-2V5c0-1.1-.9-2-2-2zM9 17H7v-7h2v7zm4 0h-2V7h2v10zm4 0h-2v-4h2v4z\"/>\n",
              "    </g>\n",
              "</svg>\n",
              "  </button>\n",
              "\n",
              "<style>\n",
              "  .colab-df-quickchart {\n",
              "    background-color: #E8F0FE;\n",
              "    border: none;\n",
              "    border-radius: 50%;\n",
              "    cursor: pointer;\n",
              "    display: none;\n",
              "    fill: #1967D2;\n",
              "    height: 32px;\n",
              "    padding: 0 0 0 0;\n",
              "    width: 32px;\n",
              "  }\n",
              "\n",
              "  .colab-df-quickchart:hover {\n",
              "    background-color: #E2EBFA;\n",
              "    box-shadow: 0px 1px 2px rgba(60, 64, 67, 0.3), 0px 1px 3px 1px rgba(60, 64, 67, 0.15);\n",
              "    fill: #174EA6;\n",
              "  }\n",
              "\n",
              "  [theme=dark] .colab-df-quickchart {\n",
              "    background-color: #3B4455;\n",
              "    fill: #D2E3FC;\n",
              "  }\n",
              "\n",
              "  [theme=dark] .colab-df-quickchart:hover {\n",
              "    background-color: #434B5C;\n",
              "    box-shadow: 0px 1px 3px 1px rgba(0, 0, 0, 0.15);\n",
              "    filter: drop-shadow(0px 1px 2px rgba(0, 0, 0, 0.3));\n",
              "    fill: #FFFFFF;\n",
              "  }\n",
              "</style>\n",
              "\n",
              "  <script>\n",
              "    async function quickchart(key) {\n",
              "      const charts = await google.colab.kernel.invokeFunction(\n",
              "          'suggestCharts', [key], {});\n",
              "    }\n",
              "    (() => {\n",
              "      let quickchartButtonEl =\n",
              "        document.querySelector('#df-61b15afb-20af-4625-b86c-b43383d5328e button');\n",
              "      quickchartButtonEl.style.display =\n",
              "        google.colab.kernel.accessAllowed ? 'block' : 'none';\n",
              "    })();\n",
              "  </script>\n",
              "</div>\n",
              "    </div>\n",
              "  </div>\n"
            ]
          },
          "metadata": {},
          "execution_count": 62
        }
      ]
    },
    {
      "cell_type": "code",
      "source": [
        "df.info()"
      ],
      "metadata": {
        "colab": {
          "base_uri": "https://localhost:8080/"
        },
        "id": "Xspw2bFIMWmn",
        "outputId": "19aac457-c47c-4d1c-a532-20704dade030"
      },
      "execution_count": 63,
      "outputs": [
        {
          "output_type": "stream",
          "name": "stdout",
          "text": [
            "<class 'pandas.core.frame.DataFrame'>\n",
            "RangeIndex: 1210789 entries, 0 to 1210788\n",
            "Data columns (total 20 columns):\n",
            " #   Column                      Non-Null Count    Dtype  \n",
            "---  ------                      --------------    -----  \n",
            " 0   L4_SRC_PORT                 1210789 non-null  int64  \n",
            " 1   L4_DST_PORT                 1210789 non-null  int64  \n",
            " 2   PROTOCOL                    1210789 non-null  int64  \n",
            " 3   L7_PROTO                    1210789 non-null  float64\n",
            " 4   IN_BYTES                    1210789 non-null  int64  \n",
            " 5   OUT_BYTES                   1210789 non-null  int64  \n",
            " 6   IN_PKTS                     1210789 non-null  int64  \n",
            " 7   OUT_PKTS                    1210789 non-null  int64  \n",
            " 8   TCP_FLAGS                   1210789 non-null  int64  \n",
            " 9   FLOW_DURATION_MILLISECONDS  1210789 non-null  int64  \n",
            " 10  Label                       1210789 non-null  int64  \n",
            " 11  Attack                      1210789 non-null  object \n",
            " 12  IPV4_SRC_ADDR_0             1210789 non-null  int64  \n",
            " 13  IPV4_SRC_ADDR_1             1210789 non-null  int64  \n",
            " 14  IPV4_SRC_ADDR_2             1210789 non-null  int64  \n",
            " 15  IPV4_SRC_ADDR_3             1210789 non-null  int64  \n",
            " 16  IPV4_DST_ADDR_0             1210789 non-null  int64  \n",
            " 17  IPV4_DST_ADDR_1             1210789 non-null  int64  \n",
            " 18  IPV4_DST_ADDR_2             1210789 non-null  int64  \n",
            " 19  IPV4_DST_ADDR_3             1210789 non-null  int64  \n",
            "dtypes: float64(1), int64(18), object(1)\n",
            "memory usage: 184.8+ MB\n"
          ]
        }
      ]
    },
    {
      "cell_type": "code",
      "source": [
        "df = df[df['Attack']!=\"Benign\"]"
      ],
      "metadata": {
        "id": "p4ElkoBnhCVz"
      },
      "execution_count": 64,
      "outputs": []
    },
    {
      "cell_type": "code",
      "source": [
        "df = df_shrink(df, obj2cat=False, int2uint=False)"
      ],
      "metadata": {
        "id": "H__S75LHu99i"
      },
      "execution_count": 65,
      "outputs": []
    },
    {
      "cell_type": "code",
      "source": [
        "df.dropna(inplace=True)"
      ],
      "metadata": {
        "id": "CmVSfoZZMhej"
      },
      "execution_count": 66,
      "outputs": []
    },
    {
      "cell_type": "code",
      "source": [
        "df.isnull().sum()"
      ],
      "metadata": {
        "colab": {
          "base_uri": "https://localhost:8080/"
        },
        "id": "jIpU6OtwNH5n",
        "outputId": "63fb4a98-b773-482d-b051-422277a90380"
      },
      "execution_count": 67,
      "outputs": [
        {
          "output_type": "execute_result",
          "data": {
            "text/plain": [
              "L4_SRC_PORT                   0\n",
              "L4_DST_PORT                   0\n",
              "PROTOCOL                      0\n",
              "L7_PROTO                      0\n",
              "IN_BYTES                      0\n",
              "OUT_BYTES                     0\n",
              "IN_PKTS                       0\n",
              "OUT_PKTS                      0\n",
              "TCP_FLAGS                     0\n",
              "FLOW_DURATION_MILLISECONDS    0\n",
              "Label                         0\n",
              "Attack                        0\n",
              "IPV4_SRC_ADDR_0               0\n",
              "IPV4_SRC_ADDR_1               0\n",
              "IPV4_SRC_ADDR_2               0\n",
              "IPV4_SRC_ADDR_3               0\n",
              "IPV4_DST_ADDR_0               0\n",
              "IPV4_DST_ADDR_1               0\n",
              "IPV4_DST_ADDR_2               0\n",
              "IPV4_DST_ADDR_3               0\n",
              "dtype: int64"
            ]
          },
          "metadata": {},
          "execution_count": 67
        }
      ]
    },
    {
      "cell_type": "code",
      "source": [
        "X = df.drop(columns='Attack')\n",
        "y = df['Attack']"
      ],
      "metadata": {
        "id": "AeBvoLNLNQoU"
      },
      "execution_count": 68,
      "outputs": []
    },
    {
      "cell_type": "code",
      "source": [
        "from imblearn.over_sampling import SMOTE"
      ],
      "metadata": {
        "id": "ojqlS7v9vEe-"
      },
      "execution_count": 69,
      "outputs": []
    },
    {
      "cell_type": "code",
      "source": [
        "oversample = SMOTE()"
      ],
      "metadata": {
        "id": "a34wsch4vEl6"
      },
      "execution_count": 70,
      "outputs": []
    },
    {
      "cell_type": "code",
      "source": [
        "X, y = oversample.fit_resample(X, y)"
      ],
      "metadata": {
        "id": "a8t0H2WdvNSR"
      },
      "execution_count": 71,
      "outputs": []
    },
    {
      "cell_type": "code",
      "source": [
        "print(X.shape)\n",
        "print(y.shape)"
      ],
      "metadata": {
        "colab": {
          "base_uri": "https://localhost:8080/"
        },
        "id": "Go1PV_RCvNVV",
        "outputId": "b4a76cbc-d2c3-41c3-f02a-1156ceec29c9"
      },
      "execution_count": 72,
      "outputs": [
        {
          "output_type": "stream",
          "name": "stdout",
          "text": [
            "(4179987, 19)\n",
            "(4179987,)\n"
          ]
        }
      ]
    },
    {
      "cell_type": "code",
      "source": [
        "import pickle\n",
        "with open('SMOT-multi.pkl', 'wb') as f:\n",
        "    pickle.dump(oversample, f)"
      ],
      "metadata": {
        "id": "r0EraIaAbV21"
      },
      "execution_count": 73,
      "outputs": []
    },
    {
      "cell_type": "code",
      "source": [
        "from sklearn.preprocessing import LabelEncoder,MinMaxScaler\n",
        "label_encoder = LabelEncoder()\n",
        "y = label_encoder.fit_transform(y)\n"
      ],
      "metadata": {
        "id": "dRBwHn5anKzI"
      },
      "execution_count": 74,
      "outputs": []
    },
    {
      "cell_type": "code",
      "source": [
        "pca = PCA(n_components = 10)\n",
        "x10D = pca.fit_transform(X)\n",
        "x10D = pd.DataFrame(x10D)\n",
        "x10D.head(1)"
      ],
      "metadata": {
        "colab": {
          "base_uri": "https://localhost:8080/",
          "height": 101
        },
        "id": "D8r0Bf9_JjLd",
        "outputId": "2141a9e2-ca02-4d93-9ed6-ad448b7cf1b7"
      },
      "execution_count": 75,
      "outputs": [
        {
          "output_type": "execute_result",
          "data": {
            "text/plain": [
              "            0            1             2            3            4  \\\n",
              "0 -938.914428 -3453.801804 -13092.209559  2200.431871  1364.280575   \n",
              "\n",
              "            5          6         7          8         9  \n",
              "0  105.334768 -26.062891  12.10792  37.546077  0.667339  "
            ],
            "text/html": [
              "\n",
              "  <div id=\"df-661a39d2-d7d0-464d-875c-728741e209f3\" class=\"colab-df-container\">\n",
              "    <div>\n",
              "<style scoped>\n",
              "    .dataframe tbody tr th:only-of-type {\n",
              "        vertical-align: middle;\n",
              "    }\n",
              "\n",
              "    .dataframe tbody tr th {\n",
              "        vertical-align: top;\n",
              "    }\n",
              "\n",
              "    .dataframe thead th {\n",
              "        text-align: right;\n",
              "    }\n",
              "</style>\n",
              "<table border=\"1\" class=\"dataframe\">\n",
              "  <thead>\n",
              "    <tr style=\"text-align: right;\">\n",
              "      <th></th>\n",
              "      <th>0</th>\n",
              "      <th>1</th>\n",
              "      <th>2</th>\n",
              "      <th>3</th>\n",
              "      <th>4</th>\n",
              "      <th>5</th>\n",
              "      <th>6</th>\n",
              "      <th>7</th>\n",
              "      <th>8</th>\n",
              "      <th>9</th>\n",
              "    </tr>\n",
              "  </thead>\n",
              "  <tbody>\n",
              "    <tr>\n",
              "      <th>0</th>\n",
              "      <td>-938.914428</td>\n",
              "      <td>-3453.801804</td>\n",
              "      <td>-13092.209559</td>\n",
              "      <td>2200.431871</td>\n",
              "      <td>1364.280575</td>\n",
              "      <td>105.334768</td>\n",
              "      <td>-26.062891</td>\n",
              "      <td>12.10792</td>\n",
              "      <td>37.546077</td>\n",
              "      <td>0.667339</td>\n",
              "    </tr>\n",
              "  </tbody>\n",
              "</table>\n",
              "</div>\n",
              "    <div class=\"colab-df-buttons\">\n",
              "\n",
              "  <div class=\"colab-df-container\">\n",
              "    <button class=\"colab-df-convert\" onclick=\"convertToInteractive('df-661a39d2-d7d0-464d-875c-728741e209f3')\"\n",
              "            title=\"Convert this dataframe to an interactive table.\"\n",
              "            style=\"display:none;\">\n",
              "\n",
              "  <svg xmlns=\"http://www.w3.org/2000/svg\" height=\"24px\" viewBox=\"0 -960 960 960\">\n",
              "    <path d=\"M120-120v-720h720v720H120Zm60-500h600v-160H180v160Zm220 220h160v-160H400v160Zm0 220h160v-160H400v160ZM180-400h160v-160H180v160Zm440 0h160v-160H620v160ZM180-180h160v-160H180v160Zm440 0h160v-160H620v160Z\"/>\n",
              "  </svg>\n",
              "    </button>\n",
              "\n",
              "  <style>\n",
              "    .colab-df-container {\n",
              "      display:flex;\n",
              "      gap: 12px;\n",
              "    }\n",
              "\n",
              "    .colab-df-convert {\n",
              "      background-color: #E8F0FE;\n",
              "      border: none;\n",
              "      border-radius: 50%;\n",
              "      cursor: pointer;\n",
              "      display: none;\n",
              "      fill: #1967D2;\n",
              "      height: 32px;\n",
              "      padding: 0 0 0 0;\n",
              "      width: 32px;\n",
              "    }\n",
              "\n",
              "    .colab-df-convert:hover {\n",
              "      background-color: #E2EBFA;\n",
              "      box-shadow: 0px 1px 2px rgba(60, 64, 67, 0.3), 0px 1px 3px 1px rgba(60, 64, 67, 0.15);\n",
              "      fill: #174EA6;\n",
              "    }\n",
              "\n",
              "    .colab-df-buttons div {\n",
              "      margin-bottom: 4px;\n",
              "    }\n",
              "\n",
              "    [theme=dark] .colab-df-convert {\n",
              "      background-color: #3B4455;\n",
              "      fill: #D2E3FC;\n",
              "    }\n",
              "\n",
              "    [theme=dark] .colab-df-convert:hover {\n",
              "      background-color: #434B5C;\n",
              "      box-shadow: 0px 1px 3px 1px rgba(0, 0, 0, 0.15);\n",
              "      filter: drop-shadow(0px 1px 2px rgba(0, 0, 0, 0.3));\n",
              "      fill: #FFFFFF;\n",
              "    }\n",
              "  </style>\n",
              "\n",
              "    <script>\n",
              "      const buttonEl =\n",
              "        document.querySelector('#df-661a39d2-d7d0-464d-875c-728741e209f3 button.colab-df-convert');\n",
              "      buttonEl.style.display =\n",
              "        google.colab.kernel.accessAllowed ? 'block' : 'none';\n",
              "\n",
              "      async function convertToInteractive(key) {\n",
              "        const element = document.querySelector('#df-661a39d2-d7d0-464d-875c-728741e209f3');\n",
              "        const dataTable =\n",
              "          await google.colab.kernel.invokeFunction('convertToInteractive',\n",
              "                                                    [key], {});\n",
              "        if (!dataTable) return;\n",
              "\n",
              "        const docLinkHtml = 'Like what you see? Visit the ' +\n",
              "          '<a target=\"_blank\" href=https://colab.research.google.com/notebooks/data_table.ipynb>data table notebook</a>'\n",
              "          + ' to learn more about interactive tables.';\n",
              "        element.innerHTML = '';\n",
              "        dataTable['output_type'] = 'display_data';\n",
              "        await google.colab.output.renderOutput(dataTable, element);\n",
              "        const docLink = document.createElement('div');\n",
              "        docLink.innerHTML = docLinkHtml;\n",
              "        element.appendChild(docLink);\n",
              "      }\n",
              "    </script>\n",
              "  </div>\n",
              "\n",
              "    </div>\n",
              "  </div>\n"
            ]
          },
          "metadata": {},
          "execution_count": 75
        }
      ]
    },
    {
      "cell_type": "code",
      "source": [
        "pca.components_.T[:,0]"
      ],
      "metadata": {
        "colab": {
          "base_uri": "https://localhost:8080/"
        },
        "id": "7INCveCeJjPJ",
        "outputId": "941f2e70-032f-49f9-f396-f8c65f1a5132"
      },
      "execution_count": 76,
      "outputs": [
        {
          "output_type": "execute_result",
          "data": {
            "text/plain": [
              "array([ 1.92049726e-01,  3.24914134e-02, -5.25484250e-05,  6.27608099e-04,\n",
              "        5.44310746e-02,  1.27013998e-01,  7.89778189e-04,  4.57524867e-04,\n",
              "        7.46926387e-05,  9.71061956e-01, -0.00000000e+00, -1.10740935e-09,\n",
              "        4.12970136e-10, -8.54503115e-09,  1.04086385e-03, -5.86800453e-04,\n",
              "       -5.23506474e-04,  6.16068465e-04, -1.12845947e-03])"
            ]
          },
          "metadata": {},
          "execution_count": 76
        }
      ]
    },
    {
      "cell_type": "markdown",
      "source": [
        "\n",
        "these are the first principle component contents"
      ],
      "metadata": {
        "id": "H8zpsLONNgKi"
      }
    },
    {
      "cell_type": "code",
      "source": [
        " pca.explained_variance_ratio_"
      ],
      "metadata": {
        "colab": {
          "base_uri": "https://localhost:8080/"
        },
        "id": "xAEhf-_kNb0x",
        "outputId": "db7ccd1a-7e51-48f9-9e33-a41d7c721c49"
      },
      "execution_count": 77,
      "outputs": [
        {
          "output_type": "execute_result",
          "data": {
            "text/plain": [
              "array([4.06797674e-01, 2.62215911e-01, 2.05649712e-01, 1.15121989e-01,\n",
              "       1.01716675e-02, 1.78877444e-05, 1.24701432e-05, 6.21686587e-06,\n",
              "       2.83606566e-06, 1.48065665e-06])"
            ]
          },
          "metadata": {},
          "execution_count": 77
        }
      ]
    },
    {
      "cell_type": "code",
      "source": [
        "pca = PCA(n_components = 10)\n",
        "x10D = pca.fit_transform(X)\n",
        "cumsum = np.cumsum(pca.explained_variance_ratio_)\n",
        "cumsum"
      ],
      "metadata": {
        "colab": {
          "base_uri": "https://localhost:8080/"
        },
        "id": "83mPjDdeNkoM",
        "outputId": "5ff09d39-f729-4f72-bab9-c28ab8d5e3fd"
      },
      "execution_count": 78,
      "outputs": [
        {
          "output_type": "execute_result",
          "data": {
            "text/plain": [
              "array([0.40679767, 0.66901359, 0.8746633 , 0.98978529, 0.99995695,\n",
              "       0.99997484, 0.99998731, 0.99999353, 0.99999637, 0.99999785])"
            ]
          },
          "metadata": {},
          "execution_count": 78
        }
      ]
    },
    {
      "cell_type": "markdown",
      "source": [
        "Every attribute gave us the enough varianve that we need to start our model , so It will be enough to choose only those 10 principle components to represent the rest of the dataset"
      ],
      "metadata": {
        "id": "rteo2Xh7Vb0B"
      }
    },
    {
      "cell_type": "code",
      "source": [
        "cumsum = np.cumsum(pca.explained_variance_ratio_)"
      ],
      "metadata": {
        "id": "r8J33U6BNt6L"
      },
      "execution_count": 79,
      "outputs": []
    },
    {
      "cell_type": "code",
      "source": [
        "plt.plot(cumsum)"
      ],
      "metadata": {
        "colab": {
          "base_uri": "https://localhost:8080/",
          "height": 447
        },
        "id": "t8jLubpvVh7T",
        "outputId": "63ac5e7c-0619-474c-d37d-6e1386e9ab08"
      },
      "execution_count": 80,
      "outputs": [
        {
          "output_type": "execute_result",
          "data": {
            "text/plain": [
              "[<matplotlib.lines.Line2D at 0x7e9df7341d50>]"
            ]
          },
          "metadata": {},
          "execution_count": 80
        },
        {
          "output_type": "display_data",
          "data": {
            "text/plain": [
              "<Figure size 640x480 with 1 Axes>"
            ],
            "image/png": "[encoded data removed]"
          },
          "metadata": {}
        }
      ]
    },
    {
      "cell_type": "markdown",
      "source": [
        "An elbow methods one of the techniques that could prove my prespective"
      ],
      "metadata": {
        "id": "7YFqU_3GVoax"
      }
    },
    {
      "cell_type": "code",
      "source": [
        "pca = PCA(n_components = 6)\n",
        "x10D = pca.fit_transform(X)\n",
        "cumsum = np.cumsum(pca.explained_variance_ratio_)\n",
        "cumsum"
      ],
      "metadata": {
        "colab": {
          "base_uri": "https://localhost:8080/"
        },
        "id": "EqTGivqbbOCN",
        "outputId": "883a27a2-e19d-4cc7-b015-5294908cfe4d"
      },
      "execution_count": 81,
      "outputs": [
        {
          "output_type": "execute_result",
          "data": {
            "text/plain": [
              "array([0.40679767, 0.66901359, 0.8746633 , 0.98978529, 0.99995695,\n",
              "       0.99997484])"
            ]
          },
          "metadata": {},
          "execution_count": 81
        }
      ]
    },
    {
      "cell_type": "code",
      "source": [
        "df.info()"
      ],
      "metadata": {
        "colab": {
          "base_uri": "https://localhost:8080/"
        },
        "id": "AV2LrEiyYe9t",
        "outputId": "af3a4329-3314-453e-83d1-6b3f1abbfbd4"
      },
      "execution_count": 82,
      "outputs": [
        {
          "output_type": "stream",
          "name": "stdout",
          "text": [
            "<class 'pandas.core.frame.DataFrame'>\n",
            "Int64Index: 998115 entries, 8 to 1210788\n",
            "Data columns (total 20 columns):\n",
            " #   Column                      Non-Null Count   Dtype  \n",
            "---  ------                      --------------   -----  \n",
            " 0   L4_SRC_PORT                 998115 non-null  int32  \n",
            " 1   L4_DST_PORT                 998115 non-null  int32  \n",
            " 2   PROTOCOL                    998115 non-null  int8   \n",
            " 3   L7_PROTO                    998115 non-null  float32\n",
            " 4   IN_BYTES                    998115 non-null  int32  \n",
            " 5   OUT_BYTES                   998115 non-null  int32  \n",
            " 6   IN_PKTS                     998115 non-null  int16  \n",
            " 7   OUT_PKTS                    998115 non-null  int16  \n",
            " 8   TCP_FLAGS                   998115 non-null  int8   \n",
            " 9   FLOW_DURATION_MILLISECONDS  998115 non-null  int32  \n",
            " 10  Label                       998115 non-null  int8   \n",
            " 11  Attack                      998115 non-null  object \n",
            " 12  IPV4_SRC_ADDR_0             998115 non-null  int16  \n",
            " 13  IPV4_SRC_ADDR_1             998115 non-null  int16  \n",
            " 14  IPV4_SRC_ADDR_2             998115 non-null  int16  \n",
            " 15  IPV4_SRC_ADDR_3             998115 non-null  int16  \n",
            " 16  IPV4_DST_ADDR_0             998115 non-null  int16  \n",
            " 17  IPV4_DST_ADDR_1             998115 non-null  int16  \n",
            " 18  IPV4_DST_ADDR_2             998115 non-null  int16  \n",
            " 19  IPV4_DST_ADDR_3             998115 non-null  int16  \n",
            "dtypes: float32(1), int16(10), int32(5), int8(3), object(1)\n",
            "memory usage: 60.0+ MB\n"
          ]
        }
      ]
    },
    {
      "cell_type": "code",
      "source": [
        "import pickle\n",
        "with open('PCA-SMOT-multi.pkl', 'wb') as f:\n",
        "    pickle.dump(oversample, f)"
      ],
      "metadata": {
        "id": "j9ygK131cADd"
      },
      "execution_count": 83,
      "outputs": []
    },
    {
      "cell_type": "markdown",
      "source": [
        "# Logistic Regression"
      ],
      "metadata": {
        "id": "6mGKy8-sWan3"
      }
    },
    {
      "cell_type": "code",
      "source": [
        "X_train, X_test, Y_train, Y_test = train_test_split(x10D, y, test_size = 0.3, random_state = 0)"
      ],
      "metadata": {
        "id": "lbUyHfrFVj8t"
      },
      "execution_count": 84,
      "outputs": []
    },
    {
      "cell_type": "code",
      "source": [
        "from sklearn.linear_model import LogisticRegression\n",
        "model = LogisticRegression()\n",
        "model.fit(X_train,Y_train)\n",
        "test_predictions = model.predict(X_test)"
      ],
      "metadata": {
        "colab": {
          "base_uri": "https://localhost:8080/"
        },
        "id": "1yi4TAPDWdLj",
        "outputId": "08e59a8d-c405-45b4-897c-acd068b57a16"
      },
      "execution_count": 85,
      "outputs": [
        {
          "output_type": "stream",
          "name": "stderr",
          "text": [
            "/usr/local/lib/python3.10/dist-packages/sklearn/linear_model/_logistic.py:458: ConvergenceWarning: lbfgs failed to converge (status=1):\n",
            "STOP: TOTAL NO. of ITERATIONS REACHED LIMIT.\n",
            "\n",
            "Increase the number of iterations (max_iter) or scale the data as shown in:\n",
            "    https://scikit-learn.org/stable/modules/preprocessing.html\n",
            "Please also refer to the documentation for alternative solver options:\n",
            "    https://scikit-learn.org/stable/modules/linear_model.html#logistic-regression\n",
            "  n_iter_i = _check_optimize_result(\n"
          ]
        }
      ]
    },
    {
      "cell_type": "code",
      "source": [
        "model.intercept_"
      ],
      "metadata": {
        "colab": {
          "base_uri": "https://localhost:8080/"
        },
        "id": "TGyGmYc8WnnF",
        "outputId": "f387893d-2707-458f-d13b-09a715e9a966"
      },
      "execution_count": 86,
      "outputs": [
        {
          "output_type": "execute_result",
          "data": {
            "text/plain": [
              "array([ 3.76605509e-06,  2.67091790e-05, -2.63115663e-05,  7.58733692e-07,\n",
              "        2.82149863e-05, -3.78428162e-06, -1.46449440e-05, -9.83718465e-06,\n",
              "       -4.87097756e-06])"
            ]
          },
          "metadata": {},
          "execution_count": 86
        }
      ]
    },
    {
      "cell_type": "code",
      "source": [
        "model.coef_"
      ],
      "metadata": {
        "colab": {
          "base_uri": "https://localhost:8080/"
        },
        "id": "6uIlscWWdvMw",
        "outputId": "37a7fef9-c4c0-4991-e2f1-3ae5643c5a66"
      },
      "execution_count": 87,
      "outputs": [
        {
          "output_type": "execute_result",
          "data": {
            "text/plain": [
              "array([[ 5.04441494e-04,  2.28058409e-04, -6.25359549e-04,\n",
              "         6.48115492e-04, -5.86687321e-03,  4.98963145e-03],\n",
              "       [-5.29037478e-06, -6.28696605e-04,  2.23425381e-04,\n",
              "         6.85782649e-05,  1.01164446e-03, -6.35957363e-03],\n",
              "       [-3.62150663e-05, -5.88080478e-04, -2.44809081e-04,\n",
              "        -1.07727622e-03, -1.65791354e-03,  1.25933213e-02],\n",
              "       [ 1.39216787e-06,  3.86439879e-04,  1.60821046e-04,\n",
              "        -1.38519267e-04,  3.05131942e-03, -2.86651846e-03],\n",
              "       [ 1.86227391e-04,  3.67470828e-04,  1.21523583e-04,\n",
              "        -4.09363162e-05,  1.59261892e-03,  9.99404116e-03],\n",
              "       [-3.49163364e-05,  3.37774907e-04,  3.17433872e-04,\n",
              "         3.44139955e-04,  3.77883735e-03, -6.62736803e-03],\n",
              "       [-6.62543032e-04, -2.74916051e-04, -1.33001180e-04,\n",
              "         1.07293284e-03, -6.45907656e-03, -2.90416712e-03],\n",
              "       [ 6.99798635e-05, -2.10334377e-04, -6.89214737e-05,\n",
              "        -1.03703111e-03,  1.04908787e-03, -4.51281151e-03],\n",
              "       [-2.30761068e-05,  3.82283486e-04,  2.48887402e-04,\n",
              "         1.59996361e-04,  3.50035529e-03, -4.30655516e-03]])"
            ]
          },
          "metadata": {},
          "execution_count": 87
        }
      ]
    },
    {
      "cell_type": "code",
      "source": [
        "preds = model.predict(X_test)"
      ],
      "metadata": {
        "id": "gcuTd37heGau"
      },
      "execution_count": 88,
      "outputs": []
    },
    {
      "cell_type": "code",
      "source": [
        "print(classification_report(Y_test,preds))"
      ],
      "metadata": {
        "colab": {
          "base_uri": "https://localhost:8080/"
        },
        "id": "V2Q9g-JGeQNL",
        "outputId": "3de62436-ef8a-4a8d-d4a3-4a0f9818aef0"
      },
      "execution_count": 89,
      "outputs": [
        {
          "output_type": "stream",
          "name": "stdout",
          "text": [
            "              precision    recall  f1-score   support\n",
            "\n",
            "           0       0.81      0.72      0.76    139309\n",
            "           1       0.28      0.32      0.30    139525\n",
            "           2       0.53      1.00      0.69    139568\n",
            "           3       0.31      0.31      0.31    138815\n",
            "           4       0.33      0.18      0.23    139760\n",
            "           5       0.31      0.62      0.41    139478\n",
            "           6       0.81      0.99      0.89    139371\n",
            "           7       0.53      0.13      0.21    139145\n",
            "           8       0.28      0.01      0.02    139026\n",
            "\n",
            "    accuracy                           0.48   1253997\n",
            "   macro avg       0.46      0.48      0.43   1253997\n",
            "weighted avg       0.46      0.48      0.43   1253997\n",
            "\n"
          ]
        }
      ]
    },
    {
      "cell_type": "code",
      "source": [
        "import pickle\n",
        "with open('Regression-pca-SMOTE-multi.pkl', 'wb') as f:\n",
        "    pickle.dump(oversample, f)"
      ],
      "metadata": {
        "id": "gbZkYAQdcKlf"
      },
      "execution_count": 90,
      "outputs": []
    },
    {
      "cell_type": "code",
      "source": [],
      "metadata": {
        "id": "ls5H_LcGcKoa"
      },
      "execution_count": null,
      "outputs": []
    },
    {
      "cell_type": "markdown",
      "source": [
        "#RandomForestClassifier"
      ],
      "metadata": {
        "id": "w7ypikA-jZJ6"
      }
    },
    {
      "cell_type": "code",
      "source": [
        "from sklearn.ensemble import RandomForestClassifier"
      ],
      "metadata": {
        "id": "oLM49xliZcd5"
      },
      "execution_count": 91,
      "outputs": []
    },
    {
      "cell_type": "code",
      "source": [
        "model = RandomForestClassifier(n_estimators=10,max_features='auto',random_state=101)"
      ],
      "metadata": {
        "id": "NoEvGR5rjczB"
      },
      "execution_count": 92,
      "outputs": []
    },
    {
      "cell_type": "code",
      "source": [
        "model.fit(X_train,Y_train)"
      ],
      "metadata": {
        "colab": {
          "base_uri": "https://localhost:8080/",
          "height": 129
        },
        "id": "Vk3Py6FVjfPb",
        "outputId": "ce16c395-cfad-417c-e385-134ea5d30648"
      },
      "execution_count": 93,
      "outputs": [
        {
          "output_type": "stream",
          "name": "stderr",
          "text": [
            "/usr/local/lib/python3.10/dist-packages/sklearn/ensemble/_forest.py:424: FutureWarning: `max_features='auto'` has been deprecated in 1.1 and will be removed in 1.3. To keep the past behaviour, explicitly set `max_features='sqrt'` or remove this parameter as it is also the default value for RandomForestClassifiers and ExtraTreesClassifiers.\n",
            "  warn(\n"
          ]
        },
        {
          "output_type": "execute_result",
          "data": {
            "text/plain": [
              "RandomForestClassifier(max_features='auto', n_estimators=10, random_state=101)"
            ],
            "text/html": [
              "<style>#sk-container-id-2 {color: black;background-color: white;}#sk-container-id-2 pre{padding: 0;}#sk-container-id-2 div.sk-toggleable {background-color: white;}#sk-container-id-2 label.sk-toggleable__label {cursor: pointer;display: block;width: 100%;margin-bottom: 0;padding: 0.3em;box-sizing: border-box;text-align: center;}#sk-container-id-2 label.sk-toggleable__label-arrow:before {content: \"▸\";float: left;margin-right: 0.25em;color: #696969;}#sk-container-id-2 label.sk-toggleable__label-arrow:hover:before {color: black;}#sk-container-id-2 div.sk-estimator:hover label.sk-toggleable__label-arrow:before {color: black;}#sk-container-id-2 div.sk-toggleable__content {max-height: 0;max-width: 0;overflow: hidden;text-align: left;background-color: #f0f8ff;}#sk-container-id-2 div.sk-toggleable__content pre {margin: 0.2em;color: black;border-radius: 0.25em;background-color: #f0f8ff;}#sk-container-id-2 input.sk-toggleable__control:checked~div.sk-toggleable__content {max-height: 200px;max-width: 100%;overflow: auto;}#sk-container-id-2 input.sk-toggleable__control:checked~label.sk-toggleable__label-arrow:before {content: \"▾\";}#sk-container-id-2 div.sk-estimator input.sk-toggleable__control:checked~label.sk-toggleable__label {background-color: #d4ebff;}#sk-container-id-2 div.sk-label input.sk-toggleable__control:checked~label.sk-toggleable__label {background-color: #d4ebff;}#sk-container-id-2 input.sk-hidden--visually {border: 0;clip: rect(1px 1px 1px 1px);clip: rect(1px, 1px, 1px, 1px);height: 1px;margin: -1px;overflow: hidden;padding: 0;position: absolute;width: 1px;}#sk-container-id-2 div.sk-estimator {font-family: monospace;background-color: #f0f8ff;border: 1px dotted black;border-radius: 0.25em;box-sizing: border-box;margin-bottom: 0.5em;}#sk-container-id-2 div.sk-estimator:hover {background-color: #d4ebff;}#sk-container-id-2 div.sk-parallel-item::after {content: \"\";width: 100%;border-bottom: 1px solid gray;flex-grow: 1;}#sk-container-id-2 div.sk-label:hover label.sk-toggleable__label {background-color: #d4ebff;}#sk-container-id-2 div.sk-serial::before {content: \"\";position: absolute;border-left: 1px solid gray;box-sizing: border-box;top: 0;bottom: 0;left: 50%;z-index: 0;}#sk-container-id-2 div.sk-serial {display: flex;flex-direction: column;align-items: center;background-color: white;padding-right: 0.2em;padding-left: 0.2em;position: relative;}#sk-container-id-2 div.sk-item {position: relative;z-index: 1;}#sk-container-id-2 div.sk-parallel {display: flex;align-items: stretch;justify-content: center;background-color: white;position: relative;}#sk-container-id-2 div.sk-item::before, #sk-container-id-2 div.sk-parallel-item::before {content: \"\";position: absolute;border-left: 1px solid gray;box-sizing: border-box;top: 0;bottom: 0;left: 50%;z-index: -1;}#sk-container-id-2 div.sk-parallel-item {display: flex;flex-direction: column;z-index: 1;position: relative;background-color: white;}#sk-container-id-2 div.sk-parallel-item:first-child::after {align-self: flex-end;width: 50%;}#sk-container-id-2 div.sk-parallel-item:last-child::after {align-self: flex-start;width: 50%;}#sk-container-id-2 div.sk-parallel-item:only-child::after {width: 0;}#sk-container-id-2 div.sk-dashed-wrapped {border: 1px dashed gray;margin: 0 0.4em 0.5em 0.4em;box-sizing: border-box;padding-bottom: 0.4em;background-color: white;}#sk-container-id-2 div.sk-label label {font-family: monospace;font-weight: bold;display: inline-block;line-height: 1.2em;}#sk-container-id-2 div.sk-label-container {text-align: center;}#sk-container-id-2 div.sk-container {/* jupyter's `normalize.less` sets `[hidden] { display: none; }` but bootstrap.min.css set `[hidden] { display: none !important; }` so we also need the `!important` here to be able to override the default hidden behavior on the sphinx rendered scikit-learn.org. See: https://github.com/scikit-learn/scikit-learn/issues/21755 */display: inline-block !important;position: relative;}#sk-container-id-2 div.sk-text-repr-fallback {display: none;}</style><div id=\"sk-container-id-2\" class=\"sk-top-container\"><div class=\"sk-text-repr-fallback\"><pre>RandomForestClassifier(max_features=&#x27;auto&#x27;, n_estimators=10, random_state=101)</pre><b>In a Jupyter environment, please rerun this cell to show the HTML representation or trust the notebook. <br />On GitHub, the HTML representation is unable to render, please try loading this page with nbviewer.org.</b></div><div class=\"sk-container\" hidden><div class=\"sk-item\"><div class=\"sk-estimator sk-toggleable\"><input class=\"sk-toggleable__control sk-hidden--visually\" id=\"sk-estimator-id-2\" type=\"checkbox\" checked><label for=\"sk-estimator-id-2\" class=\"sk-toggleable__label sk-toggleable__label-arrow\">RandomForestClassifier</label><div class=\"sk-toggleable__content\"><pre>RandomForestClassifier(max_features=&#x27;auto&#x27;, n_estimators=10, random_state=101)</pre></div></div></div></div></div>"
            ]
          },
          "metadata": {},
          "execution_count": 93
        }
      ]
    },
    {
      "cell_type": "code",
      "source": [
        "preds = model.predict(X_test)"
      ],
      "metadata": {
        "id": "-cpu5K9GjjDN"
      },
      "execution_count": 94,
      "outputs": []
    },
    {
      "cell_type": "code",
      "source": [
        "from sklearn.metrics import confusion_matrix,classification_report,accuracy_score"
      ],
      "metadata": {
        "id": "0AzE6TdAjysZ"
      },
      "execution_count": 95,
      "outputs": []
    },
    {
      "cell_type": "code",
      "source": [
        "print(classification_report(Y_test,preds))"
      ],
      "metadata": {
        "colab": {
          "base_uri": "https://localhost:8080/"
        },
        "id": "B5GcRZOZk0RG",
        "outputId": "57c5c92e-adcb-460e-9887-c9b96bfaddc9"
      },
      "execution_count": 96,
      "outputs": [
        {
          "output_type": "stream",
          "name": "stdout",
          "text": [
            "              precision    recall  f1-score   support\n",
            "\n",
            "           0       1.00      1.00      1.00    139309\n",
            "           1       0.67      0.61      0.64    139525\n",
            "           2       0.87      0.93      0.90    139568\n",
            "           3       0.42      0.40      0.41    138815\n",
            "           4       0.98      0.99      0.99    139760\n",
            "           5       0.53      0.52      0.52    139478\n",
            "           6       1.00      1.00      1.00    139371\n",
            "           7       0.83      0.86      0.85    139145\n",
            "           8       0.73      0.75      0.74    139026\n",
            "\n",
            "    accuracy                           0.79   1253997\n",
            "   macro avg       0.78      0.79      0.78   1253997\n",
            "weighted avg       0.78      0.79      0.78   1253997\n",
            "\n"
          ]
        }
      ]
    },
    {
      "cell_type": "code",
      "source": [
        "import pickle\n",
        "with open('Random-pca-SMOTE-multi.pkl', 'wb') as f:\n",
        "    pickle.dump(oversample, f)"
      ],
      "metadata": {
        "id": "kkWpMZ4wjUBD"
      },
      "execution_count": 97,
      "outputs": []
    },
    {
      "cell_type": "code",
      "source": [
        "decoded_labels = label_encoder.inverse_transform(Y_test)"
      ],
      "metadata": {
        "id": "8ZK38HRok74P"
      },
      "execution_count": 60,
      "outputs": []
    },
    {
      "cell_type": "markdown",
      "source": [
        "#Catgboost"
      ],
      "metadata": {
        "id": "Ps1df5hU6L8w"
      }
    },
    {
      "cell_type": "code",
      "source": [
        "!pip install catboost"
      ],
      "metadata": {
        "colab": {
          "base_uri": "https://localhost:8080/"
        },
        "id": "cXbtAKdcj8ml",
        "outputId": "541ddfc7-df61-4ef5-dbca-10ef29bcb25e"
      },
      "execution_count": 99,
      "outputs": [
        {
          "output_type": "stream",
          "name": "stdout",
          "text": [
            "Collecting catboost\n",
            "  Downloading catboost-1.2-cp310-cp310-manylinux2014_x86_64.whl (98.6 MB)\n",
            "\u001b[2K     \u001b[90m━━━━━━━━━━━━━━━━━━━━━━━━━━━━━━━━━━━━━━━━\u001b[0m \u001b[32m98.6/98.6 MB\u001b[0m \u001b[31m11.7 MB/s\u001b[0m eta \u001b[36m0:00:00\u001b[0m\n",
            "\u001b[?25hRequirement already satisfied: graphviz in /usr/local/lib/python3.10/dist-packages (from catboost) (0.20.1)\n",
            "Requirement already satisfied: matplotlib in /usr/local/lib/python3.10/dist-packages (from catboost) (3.7.1)\n",
            "Requirement already satisfied: numpy>=1.16.0 in /usr/local/lib/python3.10/dist-packages (from catboost) (1.23.5)\n",
            "Requirement already satisfied: pandas>=0.24 in /usr/local/lib/python3.10/dist-packages (from catboost) (1.5.3)\n",
            "Requirement already satisfied: scipy in /usr/local/lib/python3.10/dist-packages (from catboost) (1.10.1)\n",
            "Requirement already satisfied: plotly in /usr/local/lib/python3.10/dist-packages (from catboost) (5.15.0)\n",
            "Requirement already satisfied: six in /usr/local/lib/python3.10/dist-packages (from catboost) (1.16.0)\n",
            "Requirement already satisfied: python-dateutil>=2.8.1 in /usr/local/lib/python3.10/dist-packages (from pandas>=0.24->catboost) (2.8.2)\n",
            "Requirement already satisfied: pytz>=2020.1 in /usr/local/lib/python3.10/dist-packages (from pandas>=0.24->catboost) (2023.3)\n",
            "Requirement already satisfied: contourpy>=1.0.1 in /usr/local/lib/python3.10/dist-packages (from matplotlib->catboost) (1.1.0)\n",
            "Requirement already satisfied: cycler>=0.10 in /usr/local/lib/python3.10/dist-packages (from matplotlib->catboost) (0.11.0)\n",
            "Requirement already satisfied: fonttools>=4.22.0 in /usr/local/lib/python3.10/dist-packages (from matplotlib->catboost) (4.42.1)\n",
            "Requirement already satisfied: kiwisolver>=1.0.1 in /usr/local/lib/python3.10/dist-packages (from matplotlib->catboost) (1.4.4)\n",
            "Requirement already satisfied: packaging>=20.0 in /usr/local/lib/python3.10/dist-packages (from matplotlib->catboost) (23.1)\n",
            "Requirement already satisfied: pillow>=6.2.0 in /usr/local/lib/python3.10/dist-packages (from matplotlib->catboost) (9.4.0)\n",
            "Requirement already satisfied: pyparsing>=2.3.1 in /usr/local/lib/python3.10/dist-packages (from matplotlib->catboost) (3.1.1)\n",
            "Requirement already satisfied: tenacity>=6.2.0 in /usr/local/lib/python3.10/dist-packages (from plotly->catboost) (8.2.3)\n",
            "Installing collected packages: catboost\n",
            "Successfully installed catboost-1.2\n"
          ]
        }
      ]
    },
    {
      "cell_type": "code",
      "source": [
        "import catboost as ctb\n",
        "model =  ctb.CatBoostClassifier()\n",
        "model.fit(X_train, Y_train)"
      ],
      "metadata": {
        "colab": {
          "base_uri": "https://localhost:8080/"
        },
        "id": "bMlzqzVVqjrr",
        "outputId": "a34de0cb-4a62-4a0f-f678-f9809b31ad10"
      },
      "execution_count": 103,
      "outputs": [
        {
          "output_type": "stream",
          "name": "stdout",
          "text": [
            "Learning rate set to 0.118878\n",
            "0:\tlearn: 1.8838117\ttotal: 2.83s\tremaining: 47m 2s\n",
            "1:\tlearn: 1.7290062\ttotal: 7.02s\tremaining: 58m 21s\n",
            "2:\tlearn: 1.6143808\ttotal: 9.85s\tremaining: 54m 33s\n",
            "3:\tlearn: 1.5332244\ttotal: 12.4s\tremaining: 51m 29s\n",
            "4:\tlearn: 1.4646742\ttotal: 15.3s\tremaining: 50m 44s\n",
            "5:\tlearn: 1.4026087\ttotal: 19.3s\tremaining: 53m 24s\n",
            "6:\tlearn: 1.3494663\ttotal: 22.2s\tremaining: 52m 25s\n",
            "7:\tlearn: 1.3038369\ttotal: 25s\tremaining: 51m 37s\n",
            "8:\tlearn: 1.2682527\ttotal: 27.6s\tremaining: 50m 40s\n",
            "9:\tlearn: 1.2381633\ttotal: 30.9s\tremaining: 50m 58s\n",
            "10:\tlearn: 1.2134482\ttotal: 34.2s\tremaining: 51m 10s\n",
            "11:\tlearn: 1.1885372\ttotal: 37.1s\tremaining: 50m 50s\n",
            "12:\tlearn: 1.1635949\ttotal: 39.8s\tremaining: 50m 24s\n",
            "13:\tlearn: 1.1416981\ttotal: 43s\tremaining: 50m 29s\n",
            "14:\tlearn: 1.1237312\ttotal: 46.6s\tremaining: 50m 57s\n",
            "15:\tlearn: 1.1087280\ttotal: 49.5s\tremaining: 50m 42s\n",
            "16:\tlearn: 1.0921201\ttotal: 52.3s\tremaining: 50m 26s\n",
            "17:\tlearn: 1.0797296\ttotal: 55.1s\tremaining: 50m 3s\n",
            "18:\tlearn: 1.0663734\ttotal: 59.2s\tremaining: 50m 56s\n",
            "19:\tlearn: 1.0540901\ttotal: 1m 1s\tremaining: 50m 31s\n",
            "20:\tlearn: 1.0436204\ttotal: 1m 4s\tremaining: 50m 18s\n",
            "21:\tlearn: 1.0357498\ttotal: 1m 7s\tremaining: 49m 48s\n",
            "22:\tlearn: 1.0267532\ttotal: 1m 10s\tremaining: 50m 13s\n",
            "23:\tlearn: 1.0179166\ttotal: 1m 13s\tremaining: 49m 59s\n",
            "24:\tlearn: 1.0092892\ttotal: 1m 16s\tremaining: 49m 41s\n",
            "25:\tlearn: 1.0019194\ttotal: 1m 19s\tremaining: 49m 28s\n",
            "26:\tlearn: 0.9959870\ttotal: 1m 22s\tremaining: 49m 33s\n",
            "27:\tlearn: 0.9900710\ttotal: 1m 26s\tremaining: 50m 1s\n",
            "28:\tlearn: 0.9844002\ttotal: 1m 29s\tremaining: 49m 42s\n",
            "29:\tlearn: 0.9795133\ttotal: 1m 31s\tremaining: 49m 28s\n",
            "30:\tlearn: 0.9759161\ttotal: 1m 35s\tremaining: 49m 34s\n",
            "31:\tlearn: 0.9705118\ttotal: 1m 41s\tremaining: 51m 21s\n",
            "32:\tlearn: 0.9649694\ttotal: 1m 47s\tremaining: 52m 16s\n",
            "33:\tlearn: 0.9614044\ttotal: 1m 53s\tremaining: 53m 30s\n",
            "34:\tlearn: 0.9587563\ttotal: 1m 57s\tremaining: 53m 51s\n",
            "35:\tlearn: 0.9555684\ttotal: 2m 3s\tremaining: 55m 5s\n",
            "36:\tlearn: 0.9515429\ttotal: 2m 9s\tremaining: 56m 5s\n",
            "37:\tlearn: 0.9469955\ttotal: 2m 15s\tremaining: 57m 7s\n",
            "38:\tlearn: 0.9437238\ttotal: 2m 18s\tremaining: 56m 52s\n",
            "39:\tlearn: 0.9395332\ttotal: 2m 21s\tremaining: 56m 29s\n",
            "40:\tlearn: 0.9375064\ttotal: 2m 24s\tremaining: 56m 9s\n",
            "41:\tlearn: 0.9332746\ttotal: 2m 28s\tremaining: 56m 32s\n",
            "42:\tlearn: 0.9299569\ttotal: 2m 33s\tremaining: 56m 47s\n",
            "43:\tlearn: 0.9279935\ttotal: 2m 37s\tremaining: 56m 54s\n",
            "44:\tlearn: 0.9230340\ttotal: 2m 40s\tremaining: 56m 38s\n",
            "45:\tlearn: 0.9209763\ttotal: 2m 45s\tremaining: 57m 2s\n",
            "46:\tlearn: 0.9165515\ttotal: 2m 48s\tremaining: 56m 50s\n",
            "47:\tlearn: 0.9149191\ttotal: 2m 50s\tremaining: 56m 27s\n",
            "48:\tlearn: 0.9124866\ttotal: 2m 53s\tremaining: 56m\n",
            "49:\tlearn: 0.9104401\ttotal: 2m 55s\tremaining: 55m 42s\n",
            "50:\tlearn: 0.9081090\ttotal: 2m 59s\tremaining: 55m 40s\n",
            "51:\tlearn: 0.9062560\ttotal: 3m 2s\tremaining: 55m 18s\n",
            "52:\tlearn: 0.9045189\ttotal: 3m 4s\tremaining: 54m 58s\n",
            "53:\tlearn: 0.9022101\ttotal: 3m 7s\tremaining: 54m 37s\n",
            "54:\tlearn: 0.8998875\ttotal: 3m 10s\tremaining: 54m 38s\n",
            "55:\tlearn: 0.8954845\ttotal: 3m 14s\tremaining: 54m 30s\n",
            "56:\tlearn: 0.8921957\ttotal: 3m 16s\tremaining: 54m 18s\n",
            "57:\tlearn: 0.8905709\ttotal: 3m 19s\tremaining: 54m 2s\n",
            "58:\tlearn: 0.8883524\ttotal: 3m 23s\tremaining: 53m 57s\n",
            "59:\tlearn: 0.8852382\ttotal: 3m 26s\tremaining: 53m 54s\n",
            "60:\tlearn: 0.8839092\ttotal: 3m 28s\tremaining: 53m 36s\n",
            "61:\tlearn: 0.8821603\ttotal: 3m 31s\tremaining: 53m 17s\n",
            "62:\tlearn: 0.8794814\ttotal: 3m 34s\tremaining: 53m 5s\n",
            "63:\tlearn: 0.8768457\ttotal: 3m 37s\tremaining: 53m 7s\n",
            "64:\tlearn: 0.8759271\ttotal: 3m 40s\tremaining: 52m 50s\n",
            "65:\tlearn: 0.8736112\ttotal: 3m 43s\tremaining: 52m 38s\n",
            "66:\tlearn: 0.8720333\ttotal: 3m 45s\tremaining: 52m 20s\n",
            "67:\tlearn: 0.8697820\ttotal: 3m 49s\tremaining: 52m 18s\n",
            "68:\tlearn: 0.8676123\ttotal: 3m 52s\tremaining: 52m 15s\n",
            "69:\tlearn: 0.8658142\ttotal: 3m 54s\tremaining: 52m 1s\n",
            "70:\tlearn: 0.8640867\ttotal: 3m 58s\tremaining: 52m 5s\n",
            "71:\tlearn: 0.8625356\ttotal: 4m 1s\tremaining: 51m 58s\n",
            "72:\tlearn: 0.8611283\ttotal: 4m 5s\tremaining: 51m 51s\n",
            "73:\tlearn: 0.8599062\ttotal: 4m 7s\tremaining: 51m 38s\n",
            "74:\tlearn: 0.8584116\ttotal: 4m 10s\tremaining: 51m 26s\n",
            "75:\tlearn: 0.8574575\ttotal: 4m 12s\tremaining: 51m 14s\n",
            "76:\tlearn: 0.8565904\ttotal: 4m 16s\tremaining: 51m 13s\n",
            "77:\tlearn: 0.8550639\ttotal: 4m 19s\tremaining: 51m 2s\n",
            "78:\tlearn: 0.8535723\ttotal: 4m 21s\tremaining: 50m 49s\n",
            "79:\tlearn: 0.8521776\ttotal: 4m 24s\tremaining: 50m 37s\n",
            "80:\tlearn: 0.8499026\ttotal: 4m 27s\tremaining: 50m 36s\n",
            "81:\tlearn: 0.8477751\ttotal: 4m 31s\tremaining: 50m 34s\n",
            "82:\tlearn: 0.8468063\ttotal: 4m 33s\tremaining: 50m 24s\n",
            "83:\tlearn: 0.8462222\ttotal: 4m 36s\tremaining: 50m 13s\n",
            "84:\tlearn: 0.8451162\ttotal: 4m 38s\tremaining: 50m 1s\n",
            "85:\tlearn: 0.8435843\ttotal: 4m 42s\tremaining: 50m 4s\n",
            "86:\tlearn: 0.8422753\ttotal: 4m 45s\tremaining: 49m 55s\n",
            "87:\tlearn: 0.8410664\ttotal: 4m 47s\tremaining: 49m 43s\n",
            "88:\tlearn: 0.8392951\ttotal: 4m 50s\tremaining: 49m 36s\n",
            "89:\tlearn: 0.8381500\ttotal: 4m 54s\tremaining: 49m 36s\n",
            "90:\tlearn: 0.8372225\ttotal: 4m 57s\tremaining: 49m 28s\n",
            "91:\tlearn: 0.8359189\ttotal: 4m 59s\tremaining: 49m 20s\n",
            "92:\tlearn: 0.8347127\ttotal: 5m 2s\tremaining: 49m 12s\n",
            "93:\tlearn: 0.8340323\ttotal: 5m 5s\tremaining: 49m 2s\n",
            "94:\tlearn: 0.8331732\ttotal: 5m 8s\tremaining: 49m 1s\n",
            "95:\tlearn: 0.8318226\ttotal: 5m 11s\tremaining: 48m 53s\n",
            "96:\tlearn: 0.8305977\ttotal: 5m 14s\tremaining: 48m 44s\n",
            "97:\tlearn: 0.8295240\ttotal: 5m 16s\tremaining: 48m 36s\n",
            "98:\tlearn: 0.8282290\ttotal: 5m 20s\tremaining: 48m 37s\n",
            "99:\tlearn: 0.8267507\ttotal: 5m 23s\tremaining: 48m 32s\n",
            "100:\tlearn: 0.8256711\ttotal: 5m 26s\tremaining: 48m 23s\n",
            "101:\tlearn: 0.8243160\ttotal: 5m 28s\tremaining: 48m 14s\n",
            "102:\tlearn: 0.8234657\ttotal: 5m 31s\tremaining: 48m 7s\n",
            "103:\tlearn: 0.8221898\ttotal: 5m 35s\tremaining: 48m 9s\n",
            "104:\tlearn: 0.8217414\ttotal: 5m 37s\tremaining: 47m 58s\n",
            "105:\tlearn: 0.8209724\ttotal: 5m 40s\tremaining: 47m 48s\n",
            "106:\tlearn: 0.8194262\ttotal: 5m 43s\tremaining: 47m 42s\n",
            "107:\tlearn: 0.8179805\ttotal: 5m 47s\tremaining: 47m 47s\n",
            "108:\tlearn: 0.8168971\ttotal: 5m 49s\tremaining: 47m 40s\n",
            "109:\tlearn: 0.8159534\ttotal: 5m 52s\tremaining: 47m 33s\n",
            "110:\tlearn: 0.8156809\ttotal: 5m 55s\tremaining: 47m 24s\n",
            "111:\tlearn: 0.8148742\ttotal: 5m 58s\tremaining: 47m 19s\n",
            "112:\tlearn: 0.8135408\ttotal: 6m 1s\tremaining: 47m 20s\n",
            "113:\tlearn: 0.8129275\ttotal: 6m 4s\tremaining: 47m 11s\n",
            "114:\tlearn: 0.8121762\ttotal: 6m 6s\tremaining: 47m 3s\n",
            "115:\tlearn: 0.8112543\ttotal: 6m 9s\tremaining: 46m 57s\n",
            "116:\tlearn: 0.8103279\ttotal: 6m 13s\tremaining: 46m 59s\n",
            "117:\tlearn: 0.8095165\ttotal: 6m 16s\tremaining: 46m 53s\n",
            "118:\tlearn: 0.8083880\ttotal: 6m 19s\tremaining: 46m 47s\n",
            "119:\tlearn: 0.8074763\ttotal: 6m 23s\tremaining: 46m 51s\n",
            "120:\tlearn: 0.8063751\ttotal: 6m 29s\tremaining: 47m 7s\n",
            "121:\tlearn: 0.8057990\ttotal: 6m 33s\tremaining: 47m 10s\n",
            "122:\tlearn: 0.8052920\ttotal: 6m 35s\tremaining: 47m 2s\n",
            "123:\tlearn: 0.8046976\ttotal: 6m 39s\tremaining: 47m 5s\n",
            "124:\tlearn: 0.8036828\ttotal: 6m 42s\tremaining: 46m 59s\n",
            "125:\tlearn: 0.8030596\ttotal: 6m 45s\tremaining: 46m 51s\n",
            "126:\tlearn: 0.8021223\ttotal: 6m 48s\tremaining: 46m 46s\n",
            "127:\tlearn: 0.8015481\ttotal: 6m 51s\tremaining: 46m 46s\n",
            "128:\tlearn: 0.8009386\ttotal: 6m 54s\tremaining: 46m 41s\n",
            "129:\tlearn: 0.7999578\ttotal: 6m 57s\tremaining: 46m 35s\n",
            "130:\tlearn: 0.7985572\ttotal: 7m\tremaining: 46m 31s\n",
            "131:\tlearn: 0.7982409\ttotal: 7m 3s\tremaining: 46m 25s\n",
            "132:\tlearn: 0.7974763\ttotal: 7m 7s\tremaining: 46m 26s\n",
            "133:\tlearn: 0.7968402\ttotal: 7m 10s\tremaining: 46m 24s\n",
            "134:\tlearn: 0.7961999\ttotal: 7m 13s\tremaining: 46m 17s\n",
            "135:\tlearn: 0.7955942\ttotal: 7m 17s\tremaining: 46m 19s\n",
            "136:\tlearn: 0.7949734\ttotal: 7m 21s\tremaining: 46m 22s\n",
            "137:\tlearn: 0.7940010\ttotal: 7m 24s\tremaining: 46m 16s\n",
            "138:\tlearn: 0.7934082\ttotal: 7m 27s\tremaining: 46m 8s\n",
            "139:\tlearn: 0.7927903\ttotal: 7m 29s\tremaining: 46m 1s\n",
            "140:\tlearn: 0.7922967\ttotal: 7m 32s\tremaining: 45m 57s\n",
            "141:\tlearn: 0.7913622\ttotal: 7m 36s\tremaining: 45m 55s\n",
            "142:\tlearn: 0.7905581\ttotal: 7m 38s\tremaining: 45m 48s\n",
            "143:\tlearn: 0.7900363\ttotal: 7m 41s\tremaining: 45m 42s\n",
            "144:\tlearn: 0.7895527\ttotal: 7m 43s\tremaining: 45m 35s\n",
            "145:\tlearn: 0.7886220\ttotal: 7m 47s\tremaining: 45m 36s\n",
            "146:\tlearn: 0.7877657\ttotal: 7m 50s\tremaining: 45m 31s\n",
            "147:\tlearn: 0.7872075\ttotal: 7m 53s\tremaining: 45m 25s\n",
            "148:\tlearn: 0.7867235\ttotal: 7m 55s\tremaining: 45m 17s\n",
            "149:\tlearn: 0.7860487\ttotal: 7m 59s\tremaining: 45m 19s\n",
            "150:\tlearn: 0.7856450\ttotal: 8m 2s\tremaining: 45m 12s\n",
            "151:\tlearn: 0.7852563\ttotal: 8m 4s\tremaining: 45m 5s\n",
            "152:\tlearn: 0.7844065\ttotal: 8m 7s\tremaining: 45m\n",
            "153:\tlearn: 0.7837194\ttotal: 8m 10s\tremaining: 44m 55s\n",
            "154:\tlearn: 0.7832490\ttotal: 8m 14s\tremaining: 44m 53s\n",
            "155:\tlearn: 0.7825534\ttotal: 8m 16s\tremaining: 44m 48s\n",
            "156:\tlearn: 0.7821960\ttotal: 8m 19s\tremaining: 44m 41s\n",
            "157:\tlearn: 0.7817045\ttotal: 8m 21s\tremaining: 44m 34s\n",
            "158:\tlearn: 0.7807616\ttotal: 8m 26s\tremaining: 44m 37s\n",
            "159:\tlearn: 0.7804445\ttotal: 8m 28s\tremaining: 44m 30s\n",
            "160:\tlearn: 0.7801420\ttotal: 8m 31s\tremaining: 44m 22s\n",
            "161:\tlearn: 0.7796439\ttotal: 8m 33s\tremaining: 44m 18s\n",
            "162:\tlearn: 0.7790495\ttotal: 8m 37s\tremaining: 44m 15s\n",
            "163:\tlearn: 0.7788840\ttotal: 8m 40s\tremaining: 44m 11s\n",
            "164:\tlearn: 0.7784119\ttotal: 8m 42s\tremaining: 44m 5s\n",
            "165:\tlearn: 0.7777531\ttotal: 8m 45s\tremaining: 44m\n",
            "166:\tlearn: 0.7773284\ttotal: 8m 48s\tremaining: 43m 54s\n",
            "167:\tlearn: 0.7767887\ttotal: 8m 51s\tremaining: 43m 54s\n",
            "168:\tlearn: 0.7761816\ttotal: 8m 54s\tremaining: 43m 49s\n",
            "169:\tlearn: 0.7757690\ttotal: 8m 57s\tremaining: 43m 43s\n",
            "170:\tlearn: 0.7755260\ttotal: 8m 59s\tremaining: 43m 36s\n",
            "171:\tlearn: 0.7749670\ttotal: 9m 2s\tremaining: 43m 31s\n",
            "172:\tlearn: 0.7746846\ttotal: 9m 6s\tremaining: 43m 30s\n",
            "173:\tlearn: 0.7741226\ttotal: 9m 8s\tremaining: 43m 25s\n",
            "174:\tlearn: 0.7735201\ttotal: 9m 11s\tremaining: 43m 20s\n",
            "175:\tlearn: 0.7730805\ttotal: 9m 14s\tremaining: 43m 15s\n",
            "176:\tlearn: 0.7724621\ttotal: 9m 18s\tremaining: 43m 15s\n",
            "177:\tlearn: 0.7720893\ttotal: 9m 20s\tremaining: 43m 9s\n",
            "178:\tlearn: 0.7715579\ttotal: 9m 23s\tremaining: 43m 4s\n",
            "179:\tlearn: 0.7711975\ttotal: 9m 25s\tremaining: 42m 58s\n",
            "180:\tlearn: 0.7705893\ttotal: 9m 29s\tremaining: 42m 57s\n",
            "181:\tlearn: 0.7703250\ttotal: 9m 32s\tremaining: 42m 52s\n",
            "182:\tlearn: 0.7698968\ttotal: 9m 34s\tremaining: 42m 47s\n",
            "183:\tlearn: 0.7694802\ttotal: 9m 37s\tremaining: 42m 42s\n",
            "184:\tlearn: 0.7689753\ttotal: 9m 40s\tremaining: 42m 36s\n",
            "185:\tlearn: 0.7685974\ttotal: 9m 44s\tremaining: 42m 37s\n",
            "186:\tlearn: 0.7681751\ttotal: 9m 46s\tremaining: 42m 31s\n",
            "187:\tlearn: 0.7677218\ttotal: 9m 49s\tremaining: 42m 25s\n",
            "188:\tlearn: 0.7671125\ttotal: 9m 52s\tremaining: 42m 21s\n",
            "189:\tlearn: 0.7666019\ttotal: 9m 56s\tremaining: 42m 22s\n",
            "190:\tlearn: 0.7659407\ttotal: 9m 59s\tremaining: 42m 18s\n",
            "191:\tlearn: 0.7655838\ttotal: 10m 1s\tremaining: 42m 13s\n",
            "192:\tlearn: 0.7651930\ttotal: 10m 4s\tremaining: 42m 8s\n",
            "193:\tlearn: 0.7649199\ttotal: 10m 7s\tremaining: 42m 3s\n",
            "194:\tlearn: 0.7643974\ttotal: 10m 11s\tremaining: 42m 2s\n",
            "195:\tlearn: 0.7640442\ttotal: 10m 13s\tremaining: 41m 56s\n",
            "196:\tlearn: 0.7638233\ttotal: 10m 15s\tremaining: 41m 50s\n",
            "197:\tlearn: 0.7631761\ttotal: 10m 18s\tremaining: 41m 46s\n",
            "198:\tlearn: 0.7626346\ttotal: 10m 22s\tremaining: 41m 47s\n",
            "199:\tlearn: 0.7623600\ttotal: 10m 25s\tremaining: 41m 41s\n",
            "200:\tlearn: 0.7621562\ttotal: 10m 27s\tremaining: 41m 35s\n",
            "201:\tlearn: 0.7616996\ttotal: 10m 30s\tremaining: 41m 30s\n",
            "202:\tlearn: 0.7611542\ttotal: 10m 33s\tremaining: 41m 28s\n",
            "203:\tlearn: 0.7607770\ttotal: 10m 37s\tremaining: 41m 25s\n",
            "204:\tlearn: 0.7604776\ttotal: 10m 39s\tremaining: 41m 19s\n",
            "205:\tlearn: 0.7600527\ttotal: 10m 42s\tremaining: 41m 14s\n",
            "206:\tlearn: 0.7594267\ttotal: 10m 45s\tremaining: 41m 10s\n",
            "207:\tlearn: 0.7588019\ttotal: 10m 49s\tremaining: 41m 11s\n",
            "208:\tlearn: 0.7584152\ttotal: 10m 51s\tremaining: 41m 7s\n",
            "209:\tlearn: 0.7580455\ttotal: 10m 54s\tremaining: 41m 2s\n",
            "210:\tlearn: 0.7576166\ttotal: 10m 57s\tremaining: 40m 57s\n",
            "211:\tlearn: 0.7570127\ttotal: 11m 1s\tremaining: 40m 58s\n",
            "212:\tlearn: 0.7564467\ttotal: 11m 4s\tremaining: 40m 54s\n",
            "213:\tlearn: 0.7561421\ttotal: 11m 7s\tremaining: 40m 51s\n",
            "214:\tlearn: 0.7556281\ttotal: 11m 10s\tremaining: 40m 46s\n",
            "215:\tlearn: 0.7550448\ttotal: 11m 13s\tremaining: 40m 45s\n",
            "216:\tlearn: 0.7547295\ttotal: 11m 16s\tremaining: 40m 41s\n",
            "217:\tlearn: 0.7544525\ttotal: 11m 19s\tremaining: 40m 36s\n",
            "218:\tlearn: 0.7542124\ttotal: 11m 21s\tremaining: 40m 30s\n",
            "219:\tlearn: 0.7538727\ttotal: 11m 24s\tremaining: 40m 26s\n",
            "220:\tlearn: 0.7535184\ttotal: 11m 28s\tremaining: 40m 26s\n",
            "221:\tlearn: 0.7533196\ttotal: 11m 30s\tremaining: 40m 20s\n",
            "222:\tlearn: 0.7530070\ttotal: 11m 33s\tremaining: 40m 15s\n",
            "223:\tlearn: 0.7526269\ttotal: 11m 37s\tremaining: 40m 14s\n",
            "224:\tlearn: 0.7522201\ttotal: 11m 41s\tremaining: 40m 14s\n",
            "225:\tlearn: 0.7519810\ttotal: 11m 43s\tremaining: 40m 9s\n",
            "226:\tlearn: 0.7517179\ttotal: 11m 46s\tremaining: 40m 6s\n",
            "227:\tlearn: 0.7512186\ttotal: 11m 49s\tremaining: 40m 3s\n",
            "228:\tlearn: 0.7509346\ttotal: 11m 53s\tremaining: 40m 2s\n",
            "229:\tlearn: 0.7507716\ttotal: 11m 56s\tremaining: 39m 57s\n",
            "230:\tlearn: 0.7504693\ttotal: 11m 58s\tremaining: 39m 53s\n",
            "231:\tlearn: 0.7502176\ttotal: 12m 1s\tremaining: 39m 48s\n",
            "232:\tlearn: 0.7500403\ttotal: 12m 4s\tremaining: 39m 43s\n",
            "233:\tlearn: 0.7498715\ttotal: 12m 7s\tremaining: 39m 41s\n",
            "234:\tlearn: 0.7494331\ttotal: 12m 10s\tremaining: 39m 37s\n",
            "235:\tlearn: 0.7489868\ttotal: 12m 13s\tremaining: 39m 33s\n",
            "236:\tlearn: 0.7487697\ttotal: 12m 15s\tremaining: 39m 28s\n",
            "237:\tlearn: 0.7485290\ttotal: 12m 19s\tremaining: 39m 26s\n",
            "238:\tlearn: 0.7482019\ttotal: 12m 22s\tremaining: 39m 22s\n",
            "239:\tlearn: 0.7478401\ttotal: 12m 24s\tremaining: 39m 18s\n",
            "240:\tlearn: 0.7474707\ttotal: 12m 27s\tremaining: 39m 14s\n",
            "241:\tlearn: 0.7471629\ttotal: 12m 30s\tremaining: 39m 10s\n",
            "242:\tlearn: 0.7469290\ttotal: 12m 33s\tremaining: 39m 8s\n",
            "243:\tlearn: 0.7465062\ttotal: 12m 36s\tremaining: 39m 4s\n",
            "244:\tlearn: 0.7462244\ttotal: 12m 39s\tremaining: 39m\n",
            "245:\tlearn: 0.7459343\ttotal: 12m 41s\tremaining: 38m 55s\n",
            "246:\tlearn: 0.7456490\ttotal: 12m 46s\tremaining: 38m 55s\n",
            "247:\tlearn: 0.7453392\ttotal: 12m 48s\tremaining: 38m 51s\n",
            "248:\tlearn: 0.7450394\ttotal: 12m 51s\tremaining: 38m 47s\n",
            "249:\tlearn: 0.7448651\ttotal: 12m 54s\tremaining: 38m 42s\n",
            "250:\tlearn: 0.7445247\ttotal: 12m 57s\tremaining: 38m 41s\n",
            "251:\tlearn: 0.7441576\ttotal: 13m\tremaining: 38m 37s\n",
            "252:\tlearn: 0.7437785\ttotal: 13m 3s\tremaining: 38m 34s\n",
            "253:\tlearn: 0.7435766\ttotal: 13m 6s\tremaining: 38m 28s\n",
            "254:\tlearn: 0.7433976\ttotal: 13m 8s\tremaining: 38m 24s\n",
            "255:\tlearn: 0.7429261\ttotal: 13m 12s\tremaining: 38m 23s\n",
            "256:\tlearn: 0.7425015\ttotal: 13m 15s\tremaining: 38m 20s\n",
            "257:\tlearn: 0.7422194\ttotal: 13m 18s\tremaining: 38m 15s\n",
            "258:\tlearn: 0.7417855\ttotal: 13m 20s\tremaining: 38m 11s\n",
            "259:\tlearn: 0.7414753\ttotal: 13m 24s\tremaining: 38m 10s\n",
            "260:\tlearn: 0.7411692\ttotal: 13m 27s\tremaining: 38m 6s\n",
            "261:\tlearn: 0.7409379\ttotal: 13m 30s\tremaining: 38m 2s\n",
            "262:\tlearn: 0.7406873\ttotal: 13m 32s\tremaining: 37m 57s\n",
            "263:\tlearn: 0.7404788\ttotal: 13m 35s\tremaining: 37m 54s\n",
            "264:\tlearn: 0.7401108\ttotal: 13m 39s\tremaining: 37m 52s\n",
            "265:\tlearn: 0.7398316\ttotal: 13m 42s\tremaining: 37m 48s\n",
            "266:\tlearn: 0.7394829\ttotal: 13m 44s\tremaining: 37m 44s\n",
            "267:\tlearn: 0.7390445\ttotal: 13m 48s\tremaining: 37m 42s\n",
            "268:\tlearn: 0.7387625\ttotal: 13m 51s\tremaining: 37m 39s\n",
            "269:\tlearn: 0.7385000\ttotal: 13m 54s\tremaining: 37m 35s\n",
            "270:\tlearn: 0.7379987\ttotal: 13m 57s\tremaining: 37m 32s\n",
            "271:\tlearn: 0.7378013\ttotal: 13m 59s\tremaining: 37m 27s\n",
            "272:\tlearn: 0.7375536\ttotal: 14m 3s\tremaining: 37m 27s\n",
            "273:\tlearn: 0.7373336\ttotal: 14m 6s\tremaining: 37m 22s\n",
            "274:\tlearn: 0.7371126\ttotal: 14m 8s\tremaining: 37m 18s\n",
            "275:\tlearn: 0.7368089\ttotal: 14m 11s\tremaining: 37m 14s\n",
            "276:\tlearn: 0.7365058\ttotal: 14m 15s\tremaining: 37m 12s\n",
            "277:\tlearn: 0.7362451\ttotal: 14m 18s\tremaining: 37m 9s\n",
            "278:\tlearn: 0.7361238\ttotal: 14m 20s\tremaining: 37m 4s\n",
            "279:\tlearn: 0.7358282\ttotal: 14m 23s\tremaining: 37m\n",
            "280:\tlearn: 0.7357038\ttotal: 14m 25s\tremaining: 36m 55s\n",
            "281:\tlearn: 0.7353793\ttotal: 14m 29s\tremaining: 36m 54s\n",
            "282:\tlearn: 0.7349747\ttotal: 14m 32s\tremaining: 36m 51s\n",
            "283:\tlearn: 0.7347333\ttotal: 14m 35s\tremaining: 36m 46s\n",
            "284:\tlearn: 0.7344747\ttotal: 14m 37s\tremaining: 36m 42s\n",
            "285:\tlearn: 0.7341045\ttotal: 14m 41s\tremaining: 36m 41s\n",
            "286:\tlearn: 0.7339581\ttotal: 14m 44s\tremaining: 36m 37s\n",
            "287:\tlearn: 0.7338244\ttotal: 14m 46s\tremaining: 36m 32s\n",
            "288:\tlearn: 0.7336113\ttotal: 14m 49s\tremaining: 36m 28s\n",
            "289:\tlearn: 0.7333342\ttotal: 14m 52s\tremaining: 36m 24s\n",
            "290:\tlearn: 0.7331355\ttotal: 14m 56s\tremaining: 36m 23s\n",
            "291:\tlearn: 0.7329516\ttotal: 14m 58s\tremaining: 36m 19s\n",
            "292:\tlearn: 0.7327210\ttotal: 15m 1s\tremaining: 36m 14s\n",
            "293:\tlearn: 0.7324755\ttotal: 15m 3s\tremaining: 36m 10s\n",
            "294:\tlearn: 0.7321787\ttotal: 15m 7s\tremaining: 36m 8s\n",
            "295:\tlearn: 0.7319242\ttotal: 15m 10s\tremaining: 36m 5s\n",
            "296:\tlearn: 0.7316775\ttotal: 15m 12s\tremaining: 36m\n",
            "297:\tlearn: 0.7315068\ttotal: 15m 15s\tremaining: 35m 56s\n",
            "298:\tlearn: 0.7310991\ttotal: 15m 18s\tremaining: 35m 52s\n",
            "299:\tlearn: 0.7309183\ttotal: 15m 21s\tremaining: 35m 50s\n",
            "300:\tlearn: 0.7307258\ttotal: 15m 24s\tremaining: 35m 46s\n",
            "301:\tlearn: 0.7304464\ttotal: 15m 27s\tremaining: 35m 43s\n",
            "302:\tlearn: 0.7301392\ttotal: 15m 30s\tremaining: 35m 39s\n",
            "303:\tlearn: 0.7298447\ttotal: 15m 33s\tremaining: 35m 38s\n",
            "304:\tlearn: 0.7294504\ttotal: 15m 36s\tremaining: 35m 35s\n",
            "305:\tlearn: 0.7292062\ttotal: 15m 39s\tremaining: 35m 31s\n",
            "306:\tlearn: 0.7290473\ttotal: 15m 42s\tremaining: 35m 26s\n",
            "307:\tlearn: 0.7288820\ttotal: 15m 45s\tremaining: 35m 24s\n",
            "308:\tlearn: 0.7288052\ttotal: 15m 49s\tremaining: 35m 23s\n",
            "309:\tlearn: 0.7286535\ttotal: 15m 52s\tremaining: 35m 19s\n",
            "310:\tlearn: 0.7285019\ttotal: 15m 54s\tremaining: 35m 14s\n",
            "311:\tlearn: 0.7283094\ttotal: 15m 59s\tremaining: 35m 15s\n",
            "312:\tlearn: 0.7280136\ttotal: 16m 2s\tremaining: 35m 12s\n",
            "313:\tlearn: 0.7277347\ttotal: 16m 5s\tremaining: 35m 9s\n",
            "314:\tlearn: 0.7273761\ttotal: 16m 8s\tremaining: 35m 5s\n",
            "315:\tlearn: 0.7271763\ttotal: 16m 10s\tremaining: 35m 1s\n",
            "316:\tlearn: 0.7269517\ttotal: 16m 14s\tremaining: 34m 59s\n",
            "317:\tlearn: 0.7267883\ttotal: 16m 17s\tremaining: 34m 55s\n",
            "318:\tlearn: 0.7265601\ttotal: 16m 19s\tremaining: 34m 52s\n",
            "319:\tlearn: 0.7263777\ttotal: 16m 22s\tremaining: 34m 47s\n",
            "320:\tlearn: 0.7262820\ttotal: 16m 25s\tremaining: 34m 44s\n",
            "321:\tlearn: 0.7260722\ttotal: 16m 28s\tremaining: 34m 41s\n",
            "322:\tlearn: 0.7258504\ttotal: 16m 31s\tremaining: 34m 37s\n",
            "323:\tlearn: 0.7256675\ttotal: 16m 33s\tremaining: 34m 33s\n",
            "324:\tlearn: 0.7253691\ttotal: 16m 36s\tremaining: 34m 29s\n",
            "325:\tlearn: 0.7250395\ttotal: 16m 40s\tremaining: 34m 29s\n",
            "326:\tlearn: 0.7248507\ttotal: 16m 43s\tremaining: 34m 24s\n",
            "327:\tlearn: 0.7245940\ttotal: 16m 45s\tremaining: 34m 20s\n",
            "328:\tlearn: 0.7242552\ttotal: 16m 48s\tremaining: 34m 17s\n",
            "329:\tlearn: 0.7240333\ttotal: 16m 52s\tremaining: 34m 15s\n",
            "330:\tlearn: 0.7238177\ttotal: 16m 54s\tremaining: 34m 11s\n",
            "331:\tlearn: 0.7235211\ttotal: 16m 57s\tremaining: 34m 7s\n",
            "332:\tlearn: 0.7233607\ttotal: 17m\tremaining: 34m 3s\n",
            "333:\tlearn: 0.7231484\ttotal: 17m 3s\tremaining: 34m\n",
            "334:\tlearn: 0.7230180\ttotal: 17m 6s\tremaining: 33m 57s\n",
            "335:\tlearn: 0.7227797\ttotal: 17m 9s\tremaining: 33m 54s\n",
            "336:\tlearn: 0.7226015\ttotal: 17m 11s\tremaining: 33m 49s\n",
            "337:\tlearn: 0.7223777\ttotal: 17m 14s\tremaining: 33m 46s\n",
            "338:\tlearn: 0.7221384\ttotal: 17m 18s\tremaining: 33m 44s\n",
            "339:\tlearn: 0.7220022\ttotal: 17m 20s\tremaining: 33m 40s\n",
            "340:\tlearn: 0.7216129\ttotal: 17m 23s\tremaining: 33m 37s\n",
            "341:\tlearn: 0.7213974\ttotal: 17m 26s\tremaining: 33m 33s\n",
            "342:\tlearn: 0.7212119\ttotal: 17m 29s\tremaining: 33m 29s\n",
            "343:\tlearn: 0.7210277\ttotal: 17m 32s\tremaining: 33m 27s\n",
            "344:\tlearn: 0.7207349\ttotal: 17m 35s\tremaining: 33m 24s\n",
            "345:\tlearn: 0.7204983\ttotal: 17m 38s\tremaining: 33m 20s\n",
            "346:\tlearn: 0.7202832\ttotal: 17m 41s\tremaining: 33m 16s\n",
            "347:\tlearn: 0.7200513\ttotal: 17m 45s\tremaining: 33m 15s\n",
            "348:\tlearn: 0.7198320\ttotal: 17m 47s\tremaining: 33m 12s\n",
            "349:\tlearn: 0.7196546\ttotal: 17m 50s\tremaining: 33m 8s\n",
            "350:\tlearn: 0.7194367\ttotal: 17m 53s\tremaining: 33m 4s\n",
            "351:\tlearn: 0.7192432\ttotal: 17m 56s\tremaining: 33m 2s\n",
            "352:\tlearn: 0.7190437\ttotal: 17m 59s\tremaining: 32m 59s\n",
            "353:\tlearn: 0.7188692\ttotal: 18m 2s\tremaining: 32m 55s\n",
            "354:\tlearn: 0.7185556\ttotal: 18m 5s\tremaining: 32m 52s\n",
            "355:\tlearn: 0.7184572\ttotal: 18m 7s\tremaining: 32m 48s\n",
            "356:\tlearn: 0.7182588\ttotal: 18m 11s\tremaining: 32m 46s\n",
            "357:\tlearn: 0.7180962\ttotal: 18m 14s\tremaining: 32m 42s\n",
            "358:\tlearn: 0.7179379\ttotal: 18m 17s\tremaining: 32m 38s\n",
            "359:\tlearn: 0.7177470\ttotal: 18m 19s\tremaining: 32m 34s\n",
            "360:\tlearn: 0.7176081\ttotal: 18m 22s\tremaining: 32m 32s\n",
            "361:\tlearn: 0.7173138\ttotal: 18m 26s\tremaining: 32m 29s\n",
            "362:\tlearn: 0.7171540\ttotal: 18m 28s\tremaining: 32m 25s\n",
            "363:\tlearn: 0.7168437\ttotal: 18m 31s\tremaining: 32m 22s\n",
            "364:\tlearn: 0.7166180\ttotal: 18m 35s\tremaining: 32m 19s\n",
            "365:\tlearn: 0.7164005\ttotal: 18m 38s\tremaining: 32m 17s\n",
            "366:\tlearn: 0.7162515\ttotal: 18m 40s\tremaining: 32m 13s\n",
            "367:\tlearn: 0.7159471\ttotal: 18m 43s\tremaining: 32m 9s\n",
            "368:\tlearn: 0.7157577\ttotal: 18m 46s\tremaining: 32m 6s\n",
            "369:\tlearn: 0.7155443\ttotal: 18m 50s\tremaining: 32m 5s\n",
            "370:\tlearn: 0.7153452\ttotal: 18m 53s\tremaining: 32m 1s\n",
            "371:\tlearn: 0.7152051\ttotal: 18m 55s\tremaining: 31m 57s\n",
            "372:\tlearn: 0.7150676\ttotal: 18m 58s\tremaining: 31m 53s\n",
            "373:\tlearn: 0.7148495\ttotal: 19m 1s\tremaining: 31m 51s\n",
            "374:\tlearn: 0.7143741\ttotal: 19m 4s\tremaining: 31m 48s\n",
            "375:\tlearn: 0.7142168\ttotal: 19m 7s\tremaining: 31m 44s\n",
            "376:\tlearn: 0.7139809\ttotal: 19m 10s\tremaining: 31m 41s\n",
            "377:\tlearn: 0.7137155\ttotal: 19m 14s\tremaining: 31m 38s\n",
            "378:\tlearn: 0.7134372\ttotal: 19m 17s\tremaining: 31m 36s\n",
            "379:\tlearn: 0.7131947\ttotal: 19m 20s\tremaining: 31m 33s\n",
            "380:\tlearn: 0.7129921\ttotal: 19m 23s\tremaining: 31m 29s\n",
            "381:\tlearn: 0.7127599\ttotal: 19m 26s\tremaining: 31m 26s\n",
            "382:\tlearn: 0.7126191\ttotal: 19m 29s\tremaining: 31m 23s\n",
            "383:\tlearn: 0.7124735\ttotal: 19m 31s\tremaining: 31m 19s\n",
            "384:\tlearn: 0.7123312\ttotal: 19m 34s\tremaining: 31m 16s\n",
            "385:\tlearn: 0.7121279\ttotal: 19m 37s\tremaining: 31m 12s\n",
            "386:\tlearn: 0.7120271\ttotal: 19m 41s\tremaining: 31m 10s\n",
            "387:\tlearn: 0.7118673\ttotal: 19m 44s\tremaining: 31m 7s\n",
            "388:\tlearn: 0.7117981\ttotal: 19m 46s\tremaining: 31m 3s\n",
            "389:\tlearn: 0.7116637\ttotal: 19m 49s\tremaining: 30m 59s\n",
            "390:\tlearn: 0.7115723\ttotal: 19m 51s\tremaining: 30m 56s\n",
            "391:\tlearn: 0.7114572\ttotal: 19m 55s\tremaining: 30m 53s\n",
            "392:\tlearn: 0.7111956\ttotal: 19m 57s\tremaining: 30m 50s\n",
            "393:\tlearn: 0.7111162\ttotal: 20m\tremaining: 30m 46s\n",
            "394:\tlearn: 0.7109125\ttotal: 20m 3s\tremaining: 30m 43s\n",
            "395:\tlearn: 0.7107251\ttotal: 20m 8s\tremaining: 30m 42s\n",
            "396:\tlearn: 0.7104435\ttotal: 20m 11s\tremaining: 30m 40s\n",
            "397:\tlearn: 0.7101916\ttotal: 20m 15s\tremaining: 30m 38s\n",
            "398:\tlearn: 0.7100344\ttotal: 20m 17s\tremaining: 30m 34s\n",
            "399:\tlearn: 0.7099042\ttotal: 20m 21s\tremaining: 30m 31s\n",
            "400:\tlearn: 0.7097130\ttotal: 20m 24s\tremaining: 30m 28s\n",
            "401:\tlearn: 0.7094751\ttotal: 20m 26s\tremaining: 30m 25s\n",
            "402:\tlearn: 0.7093802\ttotal: 20m 29s\tremaining: 30m 21s\n",
            "403:\tlearn: 0.7091782\ttotal: 20m 33s\tremaining: 30m 19s\n",
            "404:\tlearn: 0.7089420\ttotal: 20m 36s\tremaining: 30m 15s\n",
            "405:\tlearn: 0.7087465\ttotal: 20m 38s\tremaining: 30m 12s\n",
            "406:\tlearn: 0.7085358\ttotal: 20m 41s\tremaining: 30m 9s\n",
            "407:\tlearn: 0.7084086\ttotal: 20m 44s\tremaining: 30m 6s\n",
            "408:\tlearn: 0.7083115\ttotal: 20m 47s\tremaining: 30m 3s\n",
            "409:\tlearn: 0.7081164\ttotal: 20m 50s\tremaining: 29m 59s\n",
            "410:\tlearn: 0.7079533\ttotal: 20m 53s\tremaining: 29m 55s\n",
            "411:\tlearn: 0.7078117\ttotal: 20m 55s\tremaining: 29m 52s\n",
            "412:\tlearn: 0.7076849\ttotal: 20m 59s\tremaining: 29m 49s\n",
            "413:\tlearn: 0.7073925\ttotal: 21m 2s\tremaining: 29m 46s\n",
            "414:\tlearn: 0.7072133\ttotal: 21m 4s\tremaining: 29m 42s\n",
            "415:\tlearn: 0.7069848\ttotal: 21m 7s\tremaining: 29m 39s\n",
            "416:\tlearn: 0.7068541\ttotal: 21m 10s\tremaining: 29m 36s\n",
            "417:\tlearn: 0.7067954\ttotal: 21m 13s\tremaining: 29m 32s\n",
            "418:\tlearn: 0.7066326\ttotal: 21m 16s\tremaining: 29m 29s\n",
            "419:\tlearn: 0.7063734\ttotal: 21m 18s\tremaining: 29m 26s\n",
            "420:\tlearn: 0.7062825\ttotal: 21m 21s\tremaining: 29m 22s\n",
            "421:\tlearn: 0.7060483\ttotal: 21m 25s\tremaining: 29m 20s\n",
            "422:\tlearn: 0.7058401\ttotal: 21m 28s\tremaining: 29m 17s\n",
            "423:\tlearn: 0.7057702\ttotal: 21m 30s\tremaining: 29m 13s\n",
            "424:\tlearn: 0.7056566\ttotal: 21m 33s\tremaining: 29m 9s\n",
            "425:\tlearn: 0.7054787\ttotal: 21m 36s\tremaining: 29m 6s\n",
            "426:\tlearn: 0.7053361\ttotal: 21m 39s\tremaining: 29m 4s\n",
            "427:\tlearn: 0.7051805\ttotal: 21m 42s\tremaining: 29m\n",
            "428:\tlearn: 0.7050498\ttotal: 21m 45s\tremaining: 28m 56s\n",
            "429:\tlearn: 0.7049468\ttotal: 21m 47s\tremaining: 28m 53s\n",
            "430:\tlearn: 0.7047802\ttotal: 21m 51s\tremaining: 28m 51s\n",
            "431:\tlearn: 0.7046339\ttotal: 21m 54s\tremaining: 28m 47s\n",
            "432:\tlearn: 0.7045270\ttotal: 21m 56s\tremaining: 28m 43s\n",
            "433:\tlearn: 0.7042819\ttotal: 21m 59s\tremaining: 28m 40s\n",
            "434:\tlearn: 0.7041512\ttotal: 22m 2s\tremaining: 28m 37s\n",
            "435:\tlearn: 0.7040250\ttotal: 22m 5s\tremaining: 28m 34s\n",
            "436:\tlearn: 0.7038600\ttotal: 22m 8s\tremaining: 28m 31s\n",
            "437:\tlearn: 0.7037638\ttotal: 22m 10s\tremaining: 28m 27s\n",
            "438:\tlearn: 0.7035517\ttotal: 22m 13s\tremaining: 28m 23s\n",
            "439:\tlearn: 0.7033101\ttotal: 22m 17s\tremaining: 28m 22s\n",
            "440:\tlearn: 0.7030838\ttotal: 22m 20s\tremaining: 28m 19s\n",
            "441:\tlearn: 0.7028959\ttotal: 22m 23s\tremaining: 28m 15s\n",
            "442:\tlearn: 0.7027238\ttotal: 22m 25s\tremaining: 28m 12s\n",
            "443:\tlearn: 0.7025807\ttotal: 22m 29s\tremaining: 28m 10s\n",
            "444:\tlearn: 0.7024245\ttotal: 22m 32s\tremaining: 28m 6s\n",
            "445:\tlearn: 0.7022169\ttotal: 22m 35s\tremaining: 28m 3s\n",
            "446:\tlearn: 0.7020669\ttotal: 22m 37s\tremaining: 27m 59s\n",
            "447:\tlearn: 0.7019498\ttotal: 22m 40s\tremaining: 27m 56s\n",
            "448:\tlearn: 0.7018333\ttotal: 22m 44s\tremaining: 27m 54s\n",
            "449:\tlearn: 0.7017048\ttotal: 22m 46s\tremaining: 27m 50s\n",
            "450:\tlearn: 0.7016033\ttotal: 22m 49s\tremaining: 27m 47s\n",
            "451:\tlearn: 0.7014876\ttotal: 22m 51s\tremaining: 27m 43s\n",
            "452:\tlearn: 0.7013443\ttotal: 22m 55s\tremaining: 27m 41s\n",
            "453:\tlearn: 0.7011688\ttotal: 22m 58s\tremaining: 27m 37s\n",
            "454:\tlearn: 0.7009802\ttotal: 23m 1s\tremaining: 27m 34s\n",
            "455:\tlearn: 0.7008675\ttotal: 23m 3s\tremaining: 27m 30s\n",
            "456:\tlearn: 0.7006850\ttotal: 23m 7s\tremaining: 27m 28s\n",
            "457:\tlearn: 0.7005118\ttotal: 23m 10s\tremaining: 27m 25s\n",
            "458:\tlearn: 0.7003011\ttotal: 23m 13s\tremaining: 27m 22s\n",
            "459:\tlearn: 0.7001481\ttotal: 23m 16s\tremaining: 27m 18s\n",
            "460:\tlearn: 0.6999941\ttotal: 23m 19s\tremaining: 27m 16s\n",
            "461:\tlearn: 0.6998483\ttotal: 23m 22s\tremaining: 27m 13s\n",
            "462:\tlearn: 0.6996240\ttotal: 23m 25s\tremaining: 27m 10s\n",
            "463:\tlearn: 0.6994840\ttotal: 23m 28s\tremaining: 27m 6s\n",
            "464:\tlearn: 0.6993725\ttotal: 23m 30s\tremaining: 27m 2s\n",
            "465:\tlearn: 0.6992722\ttotal: 23m 34s\tremaining: 27m\n",
            "466:\tlearn: 0.6991315\ttotal: 23m 37s\tremaining: 26m 57s\n",
            "467:\tlearn: 0.6988729\ttotal: 23m 39s\tremaining: 26m 54s\n",
            "468:\tlearn: 0.6987605\ttotal: 23m 42s\tremaining: 26m 50s\n",
            "469:\tlearn: 0.6985945\ttotal: 23m 46s\tremaining: 26m 48s\n",
            "470:\tlearn: 0.6985244\ttotal: 23m 48s\tremaining: 26m 44s\n",
            "471:\tlearn: 0.6983454\ttotal: 23m 51s\tremaining: 26m 41s\n",
            "472:\tlearn: 0.6981993\ttotal: 23m 53s\tremaining: 26m 37s\n",
            "473:\tlearn: 0.6980261\ttotal: 23m 56s\tremaining: 26m 34s\n",
            "474:\tlearn: 0.6978710\ttotal: 24m\tremaining: 26m 32s\n",
            "475:\tlearn: 0.6977221\ttotal: 24m 3s\tremaining: 26m 28s\n",
            "476:\tlearn: 0.6975245\ttotal: 24m 6s\tremaining: 26m 25s\n",
            "477:\tlearn: 0.6974595\ttotal: 24m 8s\tremaining: 26m 22s\n",
            "478:\tlearn: 0.6973033\ttotal: 24m 12s\tremaining: 26m 20s\n",
            "479:\tlearn: 0.6972339\ttotal: 24m 15s\tremaining: 26m 16s\n",
            "480:\tlearn: 0.6971099\ttotal: 24m 17s\tremaining: 26m 12s\n",
            "481:\tlearn: 0.6969623\ttotal: 24m 20s\tremaining: 26m 9s\n",
            "482:\tlearn: 0.6968115\ttotal: 24m 22s\tremaining: 26m 5s\n",
            "483:\tlearn: 0.6965681\ttotal: 24m 26s\tremaining: 26m 3s\n",
            "484:\tlearn: 0.6964580\ttotal: 24m 30s\tremaining: 26m 1s\n",
            "485:\tlearn: 0.6962937\ttotal: 24m 33s\tremaining: 25m 58s\n",
            "486:\tlearn: 0.6961128\ttotal: 24m 36s\tremaining: 25m 55s\n",
            "487:\tlearn: 0.6959416\ttotal: 24m 41s\tremaining: 25m 54s\n",
            "488:\tlearn: 0.6957992\ttotal: 24m 44s\tremaining: 25m 51s\n",
            "489:\tlearn: 0.6955859\ttotal: 24m 47s\tremaining: 25m 48s\n",
            "490:\tlearn: 0.6954216\ttotal: 24m 50s\tremaining: 25m 45s\n",
            "491:\tlearn: 0.6952369\ttotal: 24m 54s\tremaining: 25m 43s\n",
            "492:\tlearn: 0.6950307\ttotal: 24m 57s\tremaining: 25m 39s\n",
            "493:\tlearn: 0.6949455\ttotal: 24m 59s\tremaining: 25m 36s\n",
            "494:\tlearn: 0.6948294\ttotal: 25m 2s\tremaining: 25m 32s\n",
            "495:\tlearn: 0.6947242\ttotal: 25m 5s\tremaining: 25m 29s\n",
            "496:\tlearn: 0.6945613\ttotal: 25m 9s\tremaining: 25m 27s\n",
            "497:\tlearn: 0.6944021\ttotal: 25m 11s\tremaining: 25m 23s\n",
            "498:\tlearn: 0.6942997\ttotal: 25m 14s\tremaining: 25m 20s\n",
            "499:\tlearn: 0.6941224\ttotal: 25m 17s\tremaining: 25m 17s\n",
            "500:\tlearn: 0.6939874\ttotal: 25m 21s\tremaining: 25m 14s\n",
            "501:\tlearn: 0.6938053\ttotal: 25m 23s\tremaining: 25m 11s\n",
            "502:\tlearn: 0.6936473\ttotal: 25m 26s\tremaining: 25m 8s\n",
            "503:\tlearn: 0.6935029\ttotal: 25m 29s\tremaining: 25m 4s\n",
            "504:\tlearn: 0.6933625\ttotal: 25m 32s\tremaining: 25m 2s\n",
            "505:\tlearn: 0.6932591\ttotal: 25m 35s\tremaining: 24m 59s\n",
            "506:\tlearn: 0.6931191\ttotal: 25m 38s\tremaining: 24m 55s\n",
            "507:\tlearn: 0.6929781\ttotal: 25m 41s\tremaining: 24m 52s\n",
            "508:\tlearn: 0.6928319\ttotal: 25m 43s\tremaining: 24m 49s\n",
            "509:\tlearn: 0.6927412\ttotal: 25m 47s\tremaining: 24m 46s\n",
            "510:\tlearn: 0.6926315\ttotal: 25m 49s\tremaining: 24m 43s\n",
            "511:\tlearn: 0.6925512\ttotal: 25m 52s\tremaining: 24m 39s\n",
            "512:\tlearn: 0.6924302\ttotal: 25m 54s\tremaining: 24m 36s\n",
            "513:\tlearn: 0.6923239\ttotal: 25m 57s\tremaining: 24m 33s\n",
            "514:\tlearn: 0.6922363\ttotal: 26m 1s\tremaining: 24m 30s\n",
            "515:\tlearn: 0.6921164\ttotal: 26m 3s\tremaining: 24m 26s\n",
            "516:\tlearn: 0.6920113\ttotal: 26m 6s\tremaining: 24m 23s\n",
            "517:\tlearn: 0.6919005\ttotal: 26m 9s\tremaining: 24m 20s\n",
            "518:\tlearn: 0.6918270\ttotal: 26m 13s\tremaining: 24m 18s\n",
            "519:\tlearn: 0.6916788\ttotal: 26m 16s\tremaining: 24m 14s\n",
            "520:\tlearn: 0.6915486\ttotal: 26m 18s\tremaining: 24m 11s\n",
            "521:\tlearn: 0.6914877\ttotal: 26m 21s\tremaining: 24m 8s\n",
            "522:\tlearn: 0.6913982\ttotal: 26m 24s\tremaining: 24m 5s\n",
            "523:\tlearn: 0.6912385\ttotal: 26m 27s\tremaining: 24m 2s\n",
            "524:\tlearn: 0.6910854\ttotal: 26m 30s\tremaining: 23m 59s\n",
            "525:\tlearn: 0.6909160\ttotal: 26m 33s\tremaining: 23m 56s\n",
            "526:\tlearn: 0.6908632\ttotal: 26m 36s\tremaining: 23m 53s\n",
            "527:\tlearn: 0.6906867\ttotal: 26m 40s\tremaining: 23m 50s\n",
            "528:\tlearn: 0.6906046\ttotal: 26m 42s\tremaining: 23m 46s\n",
            "529:\tlearn: 0.6904664\ttotal: 26m 45s\tremaining: 23m 43s\n",
            "530:\tlearn: 0.6903670\ttotal: 26m 47s\tremaining: 23m 39s\n",
            "531:\tlearn: 0.6901657\ttotal: 26m 51s\tremaining: 23m 37s\n",
            "532:\tlearn: 0.6900758\ttotal: 26m 54s\tremaining: 23m 34s\n",
            "533:\tlearn: 0.6899766\ttotal: 26m 57s\tremaining: 23m 31s\n",
            "534:\tlearn: 0.6898235\ttotal: 26m 59s\tremaining: 23m 27s\n",
            "535:\tlearn: 0.6897035\ttotal: 27m 3s\tremaining: 23m 25s\n",
            "536:\tlearn: 0.6895967\ttotal: 27m 6s\tremaining: 23m 22s\n",
            "537:\tlearn: 0.6894962\ttotal: 27m 8s\tremaining: 23m 18s\n",
            "538:\tlearn: 0.6893212\ttotal: 27m 11s\tremaining: 23m 15s\n",
            "539:\tlearn: 0.6891700\ttotal: 27m 14s\tremaining: 23m 12s\n",
            "540:\tlearn: 0.6890338\ttotal: 27m 17s\tremaining: 23m 9s\n",
            "541:\tlearn: 0.6889390\ttotal: 27m 22s\tremaining: 23m 7s\n",
            "542:\tlearn: 0.6888380\ttotal: 27m 25s\tremaining: 23m 4s\n",
            "543:\tlearn: 0.6887322\ttotal: 27m 28s\tremaining: 23m 1s\n",
            "544:\tlearn: 0.6886467\ttotal: 27m 31s\tremaining: 22m 59s\n",
            "545:\tlearn: 0.6885310\ttotal: 27m 34s\tremaining: 22m 55s\n",
            "546:\tlearn: 0.6884698\ttotal: 27m 36s\tremaining: 22m 52s\n",
            "547:\tlearn: 0.6883528\ttotal: 27m 39s\tremaining: 22m 48s\n",
            "548:\tlearn: 0.6882565\ttotal: 27m 43s\tremaining: 22m 46s\n",
            "549:\tlearn: 0.6881703\ttotal: 27m 46s\tremaining: 22m 43s\n",
            "550:\tlearn: 0.6880439\ttotal: 27m 48s\tremaining: 22m 39s\n",
            "551:\tlearn: 0.6878108\ttotal: 27m 51s\tremaining: 22m 36s\n",
            "552:\tlearn: 0.6877348\ttotal: 27m 54s\tremaining: 22m 33s\n",
            "553:\tlearn: 0.6876471\ttotal: 27m 57s\tremaining: 22m 30s\n",
            "554:\tlearn: 0.6875328\ttotal: 28m\tremaining: 22m 27s\n",
            "555:\tlearn: 0.6874693\ttotal: 28m 2s\tremaining: 22m 23s\n",
            "556:\tlearn: 0.6873477\ttotal: 28m 5s\tremaining: 22m 20s\n",
            "557:\tlearn: 0.6872177\ttotal: 28m 9s\tremaining: 22m 18s\n",
            "558:\tlearn: 0.6871076\ttotal: 28m 11s\tremaining: 22m 14s\n",
            "559:\tlearn: 0.6869515\ttotal: 28m 14s\tremaining: 22m 11s\n",
            "560:\tlearn: 0.6868957\ttotal: 28m 17s\tremaining: 22m 7s\n",
            "561:\tlearn: 0.6867523\ttotal: 28m 20s\tremaining: 22m 5s\n",
            "562:\tlearn: 0.6866655\ttotal: 28m 23s\tremaining: 22m 2s\n",
            "563:\tlearn: 0.6865795\ttotal: 28m 26s\tremaining: 21m 59s\n",
            "564:\tlearn: 0.6864793\ttotal: 28m 28s\tremaining: 21m 55s\n",
            "565:\tlearn: 0.6863729\ttotal: 28m 31s\tremaining: 21m 52s\n",
            "566:\tlearn: 0.6862102\ttotal: 28m 35s\tremaining: 21m 49s\n",
            "567:\tlearn: 0.6861599\ttotal: 28m 37s\tremaining: 21m 46s\n",
            "568:\tlearn: 0.6859991\ttotal: 28m 40s\tremaining: 21m 43s\n",
            "569:\tlearn: 0.6858952\ttotal: 28m 43s\tremaining: 21m 40s\n",
            "570:\tlearn: 0.6857656\ttotal: 28m 48s\tremaining: 21m 38s\n",
            "571:\tlearn: 0.6856214\ttotal: 28m 50s\tremaining: 21m 35s\n",
            "572:\tlearn: 0.6854848\ttotal: 28m 53s\tremaining: 21m 31s\n",
            "573:\tlearn: 0.6854080\ttotal: 28m 56s\tremaining: 21m 28s\n",
            "574:\tlearn: 0.6853394\ttotal: 28m 59s\tremaining: 21m 25s\n",
            "575:\tlearn: 0.6852056\ttotal: 29m 2s\tremaining: 21m 22s\n",
            "576:\tlearn: 0.6851248\ttotal: 29m 5s\tremaining: 21m 19s\n",
            "577:\tlearn: 0.6849525\ttotal: 29m 7s\tremaining: 21m 16s\n",
            "578:\tlearn: 0.6848457\ttotal: 29m 10s\tremaining: 21m 12s\n",
            "579:\tlearn: 0.6847902\ttotal: 29m 14s\tremaining: 21m 10s\n",
            "580:\tlearn: 0.6847267\ttotal: 29m 17s\tremaining: 21m 7s\n",
            "581:\tlearn: 0.6846304\ttotal: 29m 19s\tremaining: 21m 3s\n",
            "582:\tlearn: 0.6845196\ttotal: 29m 22s\tremaining: 21m\n",
            "583:\tlearn: 0.6844012\ttotal: 29m 25s\tremaining: 20m 57s\n",
            "584:\tlearn: 0.6842406\ttotal: 29m 28s\tremaining: 20m 54s\n",
            "585:\tlearn: 0.6841876\ttotal: 29m 31s\tremaining: 20m 51s\n",
            "586:\tlearn: 0.6840469\ttotal: 29m 34s\tremaining: 20m 48s\n",
            "587:\tlearn: 0.6839223\ttotal: 29m 36s\tremaining: 20m 44s\n",
            "588:\tlearn: 0.6838231\ttotal: 29m 40s\tremaining: 20m 42s\n",
            "589:\tlearn: 0.6837359\ttotal: 29m 43s\tremaining: 20m 39s\n",
            "590:\tlearn: 0.6835841\ttotal: 29m 45s\tremaining: 20m 35s\n",
            "591:\tlearn: 0.6834892\ttotal: 29m 48s\tremaining: 20m 32s\n",
            "592:\tlearn: 0.6833900\ttotal: 29m 51s\tremaining: 20m 29s\n",
            "593:\tlearn: 0.6833389\ttotal: 29m 54s\tremaining: 20m 26s\n",
            "594:\tlearn: 0.6831954\ttotal: 29m 57s\tremaining: 20m 23s\n",
            "595:\tlearn: 0.6830739\ttotal: 29m 59s\tremaining: 20m 19s\n",
            "596:\tlearn: 0.6830150\ttotal: 30m 2s\tremaining: 20m 16s\n",
            "597:\tlearn: 0.6829564\ttotal: 30m 5s\tremaining: 20m 13s\n",
            "598:\tlearn: 0.6828406\ttotal: 30m 8s\tremaining: 20m 10s\n",
            "599:\tlearn: 0.6827415\ttotal: 30m 11s\tremaining: 20m 7s\n",
            "600:\tlearn: 0.6825860\ttotal: 30m 13s\tremaining: 20m 4s\n",
            "601:\tlearn: 0.6825370\ttotal: 30m 16s\tremaining: 20m 1s\n",
            "602:\tlearn: 0.6824416\ttotal: 30m 20s\tremaining: 19m 58s\n",
            "603:\tlearn: 0.6823242\ttotal: 30m 23s\tremaining: 19m 55s\n",
            "604:\tlearn: 0.6822339\ttotal: 30m 26s\tremaining: 19m 52s\n",
            "605:\tlearn: 0.6820794\ttotal: 30m 29s\tremaining: 19m 49s\n",
            "606:\tlearn: 0.6819044\ttotal: 30m 33s\tremaining: 19m 46s\n",
            "607:\tlearn: 0.6817976\ttotal: 30m 36s\tremaining: 19m 43s\n",
            "608:\tlearn: 0.6817254\ttotal: 30m 38s\tremaining: 19m 40s\n",
            "609:\tlearn: 0.6815913\ttotal: 30m 41s\tremaining: 19m 37s\n",
            "610:\tlearn: 0.6814954\ttotal: 30m 45s\tremaining: 19m 34s\n",
            "611:\tlearn: 0.6813419\ttotal: 30m 48s\tremaining: 19m 31s\n",
            "612:\tlearn: 0.6812481\ttotal: 30m 51s\tremaining: 19m 28s\n",
            "613:\tlearn: 0.6811864\ttotal: 30m 56s\tremaining: 19m 26s\n",
            "614:\tlearn: 0.6810350\ttotal: 31m\tremaining: 19m 24s\n",
            "615:\tlearn: 0.6809853\ttotal: 31m 2s\tremaining: 19m 21s\n",
            "616:\tlearn: 0.6809016\ttotal: 31m 5s\tremaining: 19m 17s\n",
            "617:\tlearn: 0.6808009\ttotal: 31m 7s\tremaining: 19m 14s\n",
            "618:\tlearn: 0.6806539\ttotal: 31m 11s\tremaining: 19m 12s\n",
            "619:\tlearn: 0.6805802\ttotal: 31m 14s\tremaining: 19m 8s\n",
            "620:\tlearn: 0.6805116\ttotal: 31m 16s\tremaining: 19m 5s\n",
            "621:\tlearn: 0.6804129\ttotal: 31m 19s\tremaining: 19m 2s\n",
            "622:\tlearn: 0.6802548\ttotal: 31m 22s\tremaining: 18m 59s\n",
            "623:\tlearn: 0.6801186\ttotal: 31m 25s\tremaining: 18m 56s\n",
            "624:\tlearn: 0.6800321\ttotal: 31m 28s\tremaining: 18m 52s\n",
            "625:\tlearn: 0.6799635\ttotal: 31m 30s\tremaining: 18m 49s\n",
            "626:\tlearn: 0.6797979\ttotal: 31m 33s\tremaining: 18m 46s\n",
            "627:\tlearn: 0.6796715\ttotal: 31m 38s\tremaining: 18m 44s\n",
            "628:\tlearn: 0.6795624\ttotal: 31m 41s\tremaining: 18m 41s\n",
            "629:\tlearn: 0.6794785\ttotal: 31m 44s\tremaining: 18m 38s\n",
            "630:\tlearn: 0.6793236\ttotal: 31m 46s\tremaining: 18m 35s\n",
            "631:\tlearn: 0.6792011\ttotal: 31m 49s\tremaining: 18m 32s\n",
            "632:\tlearn: 0.6791276\ttotal: 31m 53s\tremaining: 18m 29s\n",
            "633:\tlearn: 0.6790504\ttotal: 31m 55s\tremaining: 18m 26s\n",
            "634:\tlearn: 0.6789924\ttotal: 31m 58s\tremaining: 18m 22s\n",
            "635:\tlearn: 0.6789202\ttotal: 32m\tremaining: 18m 19s\n",
            "636:\tlearn: 0.6788428\ttotal: 32m 4s\tremaining: 18m 16s\n",
            "637:\tlearn: 0.6787436\ttotal: 32m 7s\tremaining: 18m 13s\n",
            "638:\tlearn: 0.6786140\ttotal: 32m 10s\tremaining: 18m 10s\n",
            "639:\tlearn: 0.6785052\ttotal: 32m 12s\tremaining: 18m 7s\n",
            "640:\tlearn: 0.6784716\ttotal: 32m 15s\tremaining: 18m 3s\n",
            "641:\tlearn: 0.6782955\ttotal: 32m 19s\tremaining: 18m 1s\n",
            "642:\tlearn: 0.6782020\ttotal: 32m 21s\tremaining: 17m 58s\n",
            "643:\tlearn: 0.6780480\ttotal: 32m 24s\tremaining: 17m 55s\n",
            "644:\tlearn: 0.6779953\ttotal: 32m 27s\tremaining: 17m 51s\n",
            "645:\tlearn: 0.6778653\ttotal: 32m 31s\tremaining: 17m 49s\n",
            "646:\tlearn: 0.6778090\ttotal: 32m 33s\tremaining: 17m 46s\n",
            "647:\tlearn: 0.6777295\ttotal: 32m 36s\tremaining: 17m 42s\n",
            "648:\tlearn: 0.6775777\ttotal: 32m 39s\tremaining: 17m 39s\n",
            "649:\tlearn: 0.6774974\ttotal: 32m 42s\tremaining: 17m 36s\n",
            "650:\tlearn: 0.6774233\ttotal: 32m 45s\tremaining: 17m 33s\n",
            "651:\tlearn: 0.6773307\ttotal: 32m 49s\tremaining: 17m 31s\n",
            "652:\tlearn: 0.6772320\ttotal: 32m 52s\tremaining: 17m 28s\n",
            "653:\tlearn: 0.6771612\ttotal: 32m 55s\tremaining: 17m 25s\n",
            "654:\tlearn: 0.6770583\ttotal: 32m 58s\tremaining: 17m 22s\n",
            "655:\tlearn: 0.6769589\ttotal: 33m 1s\tremaining: 17m 19s\n",
            "656:\tlearn: 0.6768915\ttotal: 33m 4s\tremaining: 17m 15s\n",
            "657:\tlearn: 0.6767413\ttotal: 33m 7s\tremaining: 17m 12s\n",
            "658:\tlearn: 0.6766065\ttotal: 33m 10s\tremaining: 17m 10s\n",
            "659:\tlearn: 0.6765106\ttotal: 33m 13s\tremaining: 17m 7s\n",
            "660:\tlearn: 0.6764355\ttotal: 33m 16s\tremaining: 17m 3s\n",
            "661:\tlearn: 0.6763987\ttotal: 33m 18s\tremaining: 17m\n",
            "662:\tlearn: 0.6763125\ttotal: 33m 22s\tremaining: 16m 57s\n",
            "663:\tlearn: 0.6761996\ttotal: 33m 25s\tremaining: 16m 54s\n",
            "664:\tlearn: 0.6761329\ttotal: 33m 28s\tremaining: 16m 51s\n",
            "665:\tlearn: 0.6760328\ttotal: 33m 30s\tremaining: 16m 48s\n",
            "666:\tlearn: 0.6759748\ttotal: 33m 34s\tremaining: 16m 45s\n",
            "667:\tlearn: 0.6758432\ttotal: 33m 37s\tremaining: 16m 42s\n",
            "668:\tlearn: 0.6756759\ttotal: 33m 39s\tremaining: 16m 39s\n",
            "669:\tlearn: 0.6755599\ttotal: 33m 42s\tremaining: 16m 36s\n",
            "670:\tlearn: 0.6754470\ttotal: 33m 45s\tremaining: 16m 33s\n",
            "671:\tlearn: 0.6753954\ttotal: 33m 48s\tremaining: 16m 30s\n",
            "672:\tlearn: 0.6752881\ttotal: 33m 51s\tremaining: 16m 27s\n",
            "673:\tlearn: 0.6751625\ttotal: 33m 54s\tremaining: 16m 23s\n",
            "674:\tlearn: 0.6750839\ttotal: 33m 56s\tremaining: 16m 20s\n",
            "675:\tlearn: 0.6749954\ttotal: 34m\tremaining: 16m 17s\n",
            "676:\tlearn: 0.6749064\ttotal: 34m 3s\tremaining: 16m 14s\n",
            "677:\tlearn: 0.6747945\ttotal: 34m 6s\tremaining: 16m 11s\n",
            "678:\tlearn: 0.6746710\ttotal: 34m 8s\tremaining: 16m 8s\n",
            "679:\tlearn: 0.6745624\ttotal: 34m 11s\tremaining: 16m 5s\n",
            "680:\tlearn: 0.6744374\ttotal: 34m 15s\tremaining: 16m 2s\n",
            "681:\tlearn: 0.6743625\ttotal: 34m 18s\tremaining: 15m 59s\n",
            "682:\tlearn: 0.6742836\ttotal: 34m 20s\tremaining: 15m 56s\n",
            "683:\tlearn: 0.6742529\ttotal: 34m 23s\tremaining: 15m 53s\n",
            "684:\tlearn: 0.6741889\ttotal: 34m 27s\tremaining: 15m 50s\n",
            "685:\tlearn: 0.6741047\ttotal: 34m 32s\tremaining: 15m 48s\n",
            "686:\tlearn: 0.6739958\ttotal: 34m 35s\tremaining: 15m 45s\n",
            "687:\tlearn: 0.6738603\ttotal: 34m 38s\tremaining: 15m 42s\n",
            "688:\tlearn: 0.6738115\ttotal: 34m 40s\tremaining: 15m 39s\n",
            "689:\tlearn: 0.6737039\ttotal: 34m 44s\tremaining: 15m 36s\n",
            "690:\tlearn: 0.6736224\ttotal: 34m 46s\tremaining: 15m 33s\n",
            "691:\tlearn: 0.6735544\ttotal: 34m 49s\tremaining: 15m 29s\n",
            "692:\tlearn: 0.6734791\ttotal: 34m 51s\tremaining: 15m 26s\n",
            "693:\tlearn: 0.6733857\ttotal: 34m 56s\tremaining: 15m 24s\n",
            "694:\tlearn: 0.6731695\ttotal: 34m 58s\tremaining: 15m 21s\n",
            "695:\tlearn: 0.6730617\ttotal: 35m 1s\tremaining: 15m 18s\n",
            "696:\tlearn: 0.6729991\ttotal: 35m 4s\tremaining: 15m 14s\n",
            "697:\tlearn: 0.6728932\ttotal: 35m 8s\tremaining: 15m 12s\n",
            "698:\tlearn: 0.6727781\ttotal: 35m 10s\tremaining: 15m 9s\n",
            "699:\tlearn: 0.6726568\ttotal: 35m 13s\tremaining: 15m 5s\n",
            "700:\tlearn: 0.6725630\ttotal: 35m 16s\tremaining: 15m 2s\n",
            "701:\tlearn: 0.6724938\ttotal: 35m 19s\tremaining: 14m 59s\n",
            "702:\tlearn: 0.6724217\ttotal: 35m 22s\tremaining: 14m 56s\n",
            "703:\tlearn: 0.6723294\ttotal: 35m 25s\tremaining: 14m 53s\n",
            "704:\tlearn: 0.6722707\ttotal: 35m 28s\tremaining: 14m 50s\n",
            "705:\tlearn: 0.6721841\ttotal: 35m 30s\tremaining: 14m 47s\n",
            "706:\tlearn: 0.6720571\ttotal: 35m 35s\tremaining: 14m 44s\n",
            "707:\tlearn: 0.6719492\ttotal: 35m 37s\tremaining: 14m 41s\n",
            "708:\tlearn: 0.6717797\ttotal: 35m 40s\tremaining: 14m 38s\n",
            "709:\tlearn: 0.6716607\ttotal: 35m 43s\tremaining: 14m 35s\n",
            "710:\tlearn: 0.6715504\ttotal: 35m 47s\tremaining: 14m 32s\n",
            "711:\tlearn: 0.6714437\ttotal: 35m 50s\tremaining: 14m 29s\n",
            "712:\tlearn: 0.6713603\ttotal: 35m 52s\tremaining: 14m 26s\n",
            "713:\tlearn: 0.6712447\ttotal: 35m 55s\tremaining: 14m 23s\n",
            "714:\tlearn: 0.6711823\ttotal: 35m 59s\tremaining: 14m 20s\n",
            "715:\tlearn: 0.6710966\ttotal: 36m 2s\tremaining: 14m 17s\n",
            "716:\tlearn: 0.6710317\ttotal: 36m 4s\tremaining: 14m 14s\n",
            "717:\tlearn: 0.6709319\ttotal: 36m 7s\tremaining: 14m 11s\n",
            "718:\tlearn: 0.6708509\ttotal: 36m 9s\tremaining: 14m 8s\n",
            "719:\tlearn: 0.6707890\ttotal: 36m 13s\tremaining: 14m 5s\n",
            "720:\tlearn: 0.6706758\ttotal: 36m 16s\tremaining: 14m 2s\n",
            "721:\tlearn: 0.6705830\ttotal: 36m 18s\tremaining: 13m 58s\n",
            "722:\tlearn: 0.6705071\ttotal: 36m 21s\tremaining: 13m 55s\n",
            "723:\tlearn: 0.6704243\ttotal: 36m 24s\tremaining: 13m 52s\n",
            "724:\tlearn: 0.6702469\ttotal: 36m 27s\tremaining: 13m 49s\n",
            "725:\tlearn: 0.6701615\ttotal: 36m 30s\tremaining: 13m 46s\n",
            "726:\tlearn: 0.6700335\ttotal: 36m 33s\tremaining: 13m 43s\n",
            "727:\tlearn: 0.6699378\ttotal: 36m 36s\tremaining: 13m 40s\n",
            "728:\tlearn: 0.6698384\ttotal: 36m 40s\tremaining: 13m 37s\n",
            "729:\tlearn: 0.6697105\ttotal: 36m 43s\tremaining: 13m 34s\n",
            "730:\tlearn: 0.6696430\ttotal: 36m 45s\tremaining: 13m 31s\n",
            "731:\tlearn: 0.6696018\ttotal: 36m 48s\tremaining: 13m 28s\n",
            "732:\tlearn: 0.6695584\ttotal: 36m 51s\tremaining: 13m 25s\n",
            "733:\tlearn: 0.6694614\ttotal: 36m 54s\tremaining: 13m 22s\n",
            "734:\tlearn: 0.6694108\ttotal: 36m 58s\tremaining: 13m 19s\n",
            "735:\tlearn: 0.6693432\ttotal: 37m 1s\tremaining: 13m 16s\n",
            "736:\tlearn: 0.6692441\ttotal: 37m 6s\tremaining: 13m 14s\n",
            "737:\tlearn: 0.6691221\ttotal: 37m 8s\tremaining: 13m 11s\n",
            "738:\tlearn: 0.6690264\ttotal: 37m 11s\tremaining: 13m 8s\n",
            "739:\tlearn: 0.6689369\ttotal: 37m 14s\tremaining: 13m 4s\n",
            "740:\tlearn: 0.6688641\ttotal: 37m 17s\tremaining: 13m 2s\n",
            "741:\tlearn: 0.6687234\ttotal: 37m 20s\tremaining: 12m 59s\n",
            "742:\tlearn: 0.6686161\ttotal: 37m 23s\tremaining: 12m 55s\n",
            "743:\tlearn: 0.6685506\ttotal: 37m 25s\tremaining: 12m 52s\n",
            "744:\tlearn: 0.6684895\ttotal: 37m 28s\tremaining: 12m 49s\n",
            "745:\tlearn: 0.6683973\ttotal: 37m 32s\tremaining: 12m 47s\n",
            "746:\tlearn: 0.6683065\ttotal: 37m 35s\tremaining: 12m 43s\n",
            "747:\tlearn: 0.6682286\ttotal: 37m 38s\tremaining: 12m 40s\n",
            "748:\tlearn: 0.6681743\ttotal: 37m 40s\tremaining: 12m 37s\n",
            "749:\tlearn: 0.6681353\ttotal: 37m 44s\tremaining: 12m 34s\n",
            "750:\tlearn: 0.6680513\ttotal: 37m 47s\tremaining: 12m 31s\n",
            "751:\tlearn: 0.6679930\ttotal: 37m 49s\tremaining: 12m 28s\n",
            "752:\tlearn: 0.6678878\ttotal: 37m 52s\tremaining: 12m 25s\n",
            "753:\tlearn: 0.6677744\ttotal: 37m 57s\tremaining: 12m 22s\n",
            "754:\tlearn: 0.6677233\ttotal: 38m 1s\tremaining: 12m 20s\n",
            "755:\tlearn: 0.6675991\ttotal: 38m 4s\tremaining: 12m 17s\n",
            "756:\tlearn: 0.6674995\ttotal: 38m 7s\tremaining: 12m 14s\n",
            "757:\tlearn: 0.6674031\ttotal: 38m 9s\tremaining: 12m 10s\n",
            "758:\tlearn: 0.6673348\ttotal: 38m 13s\tremaining: 12m 8s\n",
            "759:\tlearn: 0.6673031\ttotal: 38m 15s\tremaining: 12m 4s\n",
            "760:\tlearn: 0.6672182\ttotal: 38m 18s\tremaining: 12m 1s\n",
            "761:\tlearn: 0.6671460\ttotal: 38m 21s\tremaining: 11m 58s\n",
            "762:\tlearn: 0.6670019\ttotal: 38m 24s\tremaining: 11m 55s\n",
            "763:\tlearn: 0.6669237\ttotal: 38m 27s\tremaining: 11m 52s\n",
            "764:\tlearn: 0.6668644\ttotal: 38m 30s\tremaining: 11m 49s\n",
            "765:\tlearn: 0.6667852\ttotal: 38m 33s\tremaining: 11m 46s\n",
            "766:\tlearn: 0.6666849\ttotal: 38m 35s\tremaining: 11m 43s\n",
            "767:\tlearn: 0.6666412\ttotal: 38m 39s\tremaining: 11m 40s\n",
            "768:\tlearn: 0.6665812\ttotal: 38m 41s\tremaining: 11m 37s\n",
            "769:\tlearn: 0.6664737\ttotal: 38m 44s\tremaining: 11m 34s\n",
            "770:\tlearn: 0.6663605\ttotal: 38m 47s\tremaining: 11m 31s\n",
            "771:\tlearn: 0.6662532\ttotal: 38m 50s\tremaining: 11m 28s\n",
            "772:\tlearn: 0.6661096\ttotal: 38m 53s\tremaining: 11m 25s\n",
            "773:\tlearn: 0.6660090\ttotal: 38m 56s\tremaining: 11m 22s\n",
            "774:\tlearn: 0.6659330\ttotal: 38m 59s\tremaining: 11m 19s\n",
            "775:\tlearn: 0.6658598\ttotal: 39m 1s\tremaining: 11m 15s\n",
            "776:\tlearn: 0.6658339\ttotal: 39m 5s\tremaining: 11m 13s\n",
            "777:\tlearn: 0.6657618\ttotal: 39m 7s\tremaining: 11m 9s\n",
            "778:\tlearn: 0.6656540\ttotal: 39m 10s\tremaining: 11m 6s\n",
            "779:\tlearn: 0.6655823\ttotal: 39m 12s\tremaining: 11m 3s\n",
            "780:\tlearn: 0.6655300\ttotal: 39m 15s\tremaining: 11m\n",
            "781:\tlearn: 0.6654700\ttotal: 39m 18s\tremaining: 10m 57s\n",
            "782:\tlearn: 0.6653637\ttotal: 39m 21s\tremaining: 10m 54s\n",
            "783:\tlearn: 0.6652852\ttotal: 39m 24s\tremaining: 10m 51s\n",
            "784:\tlearn: 0.6651752\ttotal: 39m 27s\tremaining: 10m 48s\n",
            "785:\tlearn: 0.6651383\ttotal: 39m 30s\tremaining: 10m 45s\n",
            "786:\tlearn: 0.6650818\ttotal: 39m 33s\tremaining: 10m 42s\n",
            "787:\tlearn: 0.6649904\ttotal: 39m 36s\tremaining: 10m 39s\n",
            "788:\tlearn: 0.6648776\ttotal: 39m 39s\tremaining: 10m 36s\n",
            "789:\tlearn: 0.6647284\ttotal: 39m 43s\tremaining: 10m 33s\n",
            "790:\tlearn: 0.6646661\ttotal: 39m 45s\tremaining: 10m 30s\n",
            "791:\tlearn: 0.6645779\ttotal: 39m 48s\tremaining: 10m 27s\n",
            "792:\tlearn: 0.6645010\ttotal: 39m 50s\tremaining: 10m 24s\n",
            "793:\tlearn: 0.6644201\ttotal: 39m 53s\tremaining: 10m 21s\n",
            "794:\tlearn: 0.6643837\ttotal: 39m 57s\tremaining: 10m 18s\n",
            "795:\tlearn: 0.6642748\ttotal: 39m 59s\tremaining: 10m 15s\n",
            "796:\tlearn: 0.6642034\ttotal: 40m 2s\tremaining: 10m 11s\n",
            "797:\tlearn: 0.6641397\ttotal: 40m 5s\tremaining: 10m 8s\n",
            "798:\tlearn: 0.6640673\ttotal: 40m 9s\tremaining: 10m 6s\n",
            "799:\tlearn: 0.6639947\ttotal: 40m 12s\tremaining: 10m 3s\n",
            "800:\tlearn: 0.6638594\ttotal: 40m 14s\tremaining: 9m 59s\n",
            "801:\tlearn: 0.6638230\ttotal: 40m 17s\tremaining: 9m 56s\n",
            "802:\tlearn: 0.6637766\ttotal: 40m 19s\tremaining: 9m 53s\n",
            "803:\tlearn: 0.6637097\ttotal: 40m 23s\tremaining: 9m 50s\n",
            "804:\tlearn: 0.6636035\ttotal: 40m 26s\tremaining: 9m 47s\n",
            "805:\tlearn: 0.6635123\ttotal: 40m 28s\tremaining: 9m 44s\n",
            "806:\tlearn: 0.6634214\ttotal: 40m 31s\tremaining: 9m 41s\n",
            "807:\tlearn: 0.6633454\ttotal: 40m 36s\tremaining: 9m 38s\n",
            "808:\tlearn: 0.6632646\ttotal: 40m 39s\tremaining: 9m 36s\n",
            "809:\tlearn: 0.6631797\ttotal: 40m 42s\tremaining: 9m 32s\n",
            "810:\tlearn: 0.6631476\ttotal: 40m 45s\tremaining: 9m 29s\n",
            "811:\tlearn: 0.6630706\ttotal: 40m 49s\tremaining: 9m 27s\n",
            "812:\tlearn: 0.6629920\ttotal: 40m 52s\tremaining: 9m 24s\n",
            "813:\tlearn: 0.6629351\ttotal: 40m 55s\tremaining: 9m 21s\n",
            "814:\tlearn: 0.6628421\ttotal: 40m 58s\tremaining: 9m 18s\n",
            "815:\tlearn: 0.6627593\ttotal: 41m 1s\tremaining: 9m 15s\n",
            "816:\tlearn: 0.6626756\ttotal: 41m 4s\tremaining: 9m 12s\n",
            "817:\tlearn: 0.6625707\ttotal: 41m 7s\tremaining: 9m 9s\n",
            "818:\tlearn: 0.6624860\ttotal: 41m 10s\tremaining: 9m 5s\n",
            "819:\tlearn: 0.6623754\ttotal: 41m 14s\tremaining: 9m 3s\n",
            "820:\tlearn: 0.6623154\ttotal: 41m 18s\tremaining: 9m\n",
            "821:\tlearn: 0.6622214\ttotal: 41m 22s\tremaining: 8m 57s\n",
            "822:\tlearn: 0.6620954\ttotal: 41m 25s\tremaining: 8m 54s\n",
            "823:\tlearn: 0.6620553\ttotal: 41m 28s\tremaining: 8m 51s\n",
            "824:\tlearn: 0.6619755\ttotal: 41m 31s\tremaining: 8m 48s\n",
            "825:\tlearn: 0.6618764\ttotal: 41m 34s\tremaining: 8m 45s\n",
            "826:\tlearn: 0.6617624\ttotal: 41m 37s\tremaining: 8m 42s\n",
            "827:\tlearn: 0.6616835\ttotal: 41m 40s\tremaining: 8m 39s\n",
            "828:\tlearn: 0.6616344\ttotal: 41m 43s\tremaining: 8m 36s\n",
            "829:\tlearn: 0.6615529\ttotal: 41m 46s\tremaining: 8m 33s\n",
            "830:\tlearn: 0.6614808\ttotal: 41m 48s\tremaining: 8m 30s\n",
            "831:\tlearn: 0.6613862\ttotal: 41m 52s\tremaining: 8m 27s\n",
            "832:\tlearn: 0.6613081\ttotal: 41m 55s\tremaining: 8m 24s\n",
            "833:\tlearn: 0.6612254\ttotal: 41m 58s\tremaining: 8m 21s\n",
            "834:\tlearn: 0.6611533\ttotal: 42m\tremaining: 8m 18s\n",
            "835:\tlearn: 0.6611052\ttotal: 42m 3s\tremaining: 8m 15s\n",
            "836:\tlearn: 0.6610257\ttotal: 42m 7s\tremaining: 8m 12s\n",
            "837:\tlearn: 0.6609129\ttotal: 42m 10s\tremaining: 8m 9s\n",
            "838:\tlearn: 0.6608324\ttotal: 42m 12s\tremaining: 8m 6s\n",
            "839:\tlearn: 0.6607697\ttotal: 42m 15s\tremaining: 8m 2s\n",
            "840:\tlearn: 0.6606820\ttotal: 42m 19s\tremaining: 8m\n",
            "841:\tlearn: 0.6606490\ttotal: 42m 22s\tremaining: 7m 57s\n",
            "842:\tlearn: 0.6605959\ttotal: 42m 24s\tremaining: 7m 53s\n",
            "843:\tlearn: 0.6605147\ttotal: 42m 27s\tremaining: 7m 50s\n",
            "844:\tlearn: 0.6604292\ttotal: 42m 30s\tremaining: 7m 47s\n",
            "845:\tlearn: 0.6603607\ttotal: 42m 34s\tremaining: 7m 44s\n",
            "846:\tlearn: 0.6602811\ttotal: 42m 37s\tremaining: 7m 41s\n",
            "847:\tlearn: 0.6602411\ttotal: 42m 39s\tremaining: 7m 38s\n",
            "848:\tlearn: 0.6601851\ttotal: 42m 42s\tremaining: 7m 35s\n",
            "849:\tlearn: 0.6601049\ttotal: 42m 46s\tremaining: 7m 32s\n",
            "850:\tlearn: 0.6600463\ttotal: 42m 48s\tremaining: 7m 29s\n",
            "851:\tlearn: 0.6599962\ttotal: 42m 51s\tremaining: 7m 26s\n",
            "852:\tlearn: 0.6599335\ttotal: 42m 53s\tremaining: 7m 23s\n",
            "853:\tlearn: 0.6598986\ttotal: 42m 56s\tremaining: 7m 20s\n",
            "854:\tlearn: 0.6598154\ttotal: 43m\tremaining: 7m 17s\n",
            "855:\tlearn: 0.6597286\ttotal: 43m 3s\tremaining: 7m 14s\n",
            "856:\tlearn: 0.6596464\ttotal: 43m 5s\tremaining: 7m 11s\n",
            "857:\tlearn: 0.6595872\ttotal: 43m 8s\tremaining: 7m 8s\n",
            "858:\tlearn: 0.6594685\ttotal: 43m 12s\tremaining: 7m 5s\n",
            "859:\tlearn: 0.6593950\ttotal: 43m 14s\tremaining: 7m 2s\n",
            "860:\tlearn: 0.6592296\ttotal: 43m 17s\tremaining: 6m 59s\n",
            "861:\tlearn: 0.6590984\ttotal: 43m 20s\tremaining: 6m 56s\n",
            "862:\tlearn: 0.6590174\ttotal: 43m 24s\tremaining: 6m 53s\n",
            "863:\tlearn: 0.6589643\ttotal: 43m 27s\tremaining: 6m 50s\n",
            "864:\tlearn: 0.6589046\ttotal: 43m 30s\tremaining: 6m 47s\n",
            "865:\tlearn: 0.6588312\ttotal: 43m 32s\tremaining: 6m 44s\n",
            "866:\tlearn: 0.6587706\ttotal: 43m 36s\tremaining: 6m 41s\n",
            "867:\tlearn: 0.6587242\ttotal: 43m 39s\tremaining: 6m 38s\n",
            "868:\tlearn: 0.6586324\ttotal: 43m 41s\tremaining: 6m 35s\n",
            "869:\tlearn: 0.6585852\ttotal: 43m 44s\tremaining: 6m 32s\n",
            "870:\tlearn: 0.6584984\ttotal: 43m 46s\tremaining: 6m 29s\n",
            "871:\tlearn: 0.6584305\ttotal: 43m 50s\tremaining: 6m 26s\n",
            "872:\tlearn: 0.6583692\ttotal: 43m 53s\tremaining: 6m 23s\n",
            "873:\tlearn: 0.6583149\ttotal: 43m 55s\tremaining: 6m 19s\n",
            "874:\tlearn: 0.6582440\ttotal: 43m 58s\tremaining: 6m 16s\n",
            "875:\tlearn: 0.6581936\ttotal: 44m 1s\tremaining: 6m 13s\n",
            "876:\tlearn: 0.6581368\ttotal: 44m 4s\tremaining: 6m 10s\n",
            "877:\tlearn: 0.6580035\ttotal: 44m 7s\tremaining: 6m 7s\n",
            "878:\tlearn: 0.6579553\ttotal: 44m 9s\tremaining: 6m 4s\n",
            "879:\tlearn: 0.6578810\ttotal: 44m 12s\tremaining: 6m 1s\n",
            "880:\tlearn: 0.6577800\ttotal: 44m 16s\tremaining: 5m 58s\n",
            "881:\tlearn: 0.6576730\ttotal: 44m 20s\tremaining: 5m 55s\n",
            "882:\tlearn: 0.6576221\ttotal: 44m 23s\tremaining: 5m 52s\n",
            "883:\tlearn: 0.6575394\ttotal: 44m 25s\tremaining: 5m 49s\n",
            "884:\tlearn: 0.6574597\ttotal: 44m 29s\tremaining: 5m 46s\n",
            "885:\tlearn: 0.6574033\ttotal: 44m 32s\tremaining: 5m 43s\n",
            "886:\tlearn: 0.6573584\ttotal: 44m 36s\tremaining: 5m 40s\n",
            "887:\tlearn: 0.6572721\ttotal: 44m 38s\tremaining: 5m 37s\n",
            "888:\tlearn: 0.6571805\ttotal: 44m 44s\tremaining: 5m 35s\n",
            "889:\tlearn: 0.6571080\ttotal: 44m 48s\tremaining: 5m 32s\n",
            "890:\tlearn: 0.6570151\ttotal: 44m 50s\tremaining: 5m 29s\n",
            "891:\tlearn: 0.6569585\ttotal: 44m 53s\tremaining: 5m 26s\n",
            "892:\tlearn: 0.6568545\ttotal: 44m 57s\tremaining: 5m 23s\n",
            "893:\tlearn: 0.6567586\ttotal: 45m\tremaining: 5m 20s\n",
            "894:\tlearn: 0.6566735\ttotal: 45m 3s\tremaining: 5m 17s\n",
            "895:\tlearn: 0.6565882\ttotal: 45m 5s\tremaining: 5m 14s\n",
            "896:\tlearn: 0.6565100\ttotal: 45m 10s\tremaining: 5m 11s\n",
            "897:\tlearn: 0.6564612\ttotal: 45m 12s\tremaining: 5m 8s\n",
            "898:\tlearn: 0.6564281\ttotal: 45m 15s\tremaining: 5m 5s\n",
            "899:\tlearn: 0.6563770\ttotal: 45m 17s\tremaining: 5m 1s\n",
            "900:\tlearn: 0.6563371\ttotal: 45m 20s\tremaining: 4m 58s\n",
            "901:\tlearn: 0.6562654\ttotal: 45m 23s\tremaining: 4m 55s\n",
            "902:\tlearn: 0.6562053\ttotal: 45m 26s\tremaining: 4m 52s\n",
            "903:\tlearn: 0.6561527\ttotal: 45m 29s\tremaining: 4m 49s\n",
            "904:\tlearn: 0.6561018\ttotal: 45m 31s\tremaining: 4m 46s\n",
            "905:\tlearn: 0.6560541\ttotal: 45m 35s\tremaining: 4m 43s\n",
            "906:\tlearn: 0.6559603\ttotal: 45m 38s\tremaining: 4m 40s\n",
            "907:\tlearn: 0.6559086\ttotal: 45m 41s\tremaining: 4m 37s\n",
            "908:\tlearn: 0.6558095\ttotal: 45m 44s\tremaining: 4m 34s\n",
            "909:\tlearn: 0.6557778\ttotal: 45m 47s\tremaining: 4m 31s\n",
            "910:\tlearn: 0.6557127\ttotal: 45m 50s\tremaining: 4m 28s\n",
            "911:\tlearn: 0.6556637\ttotal: 45m 52s\tremaining: 4m 25s\n",
            "912:\tlearn: 0.6555514\ttotal: 45m 55s\tremaining: 4m 22s\n",
            "913:\tlearn: 0.6555099\ttotal: 45m 58s\tremaining: 4m 19s\n",
            "914:\tlearn: 0.6554688\ttotal: 46m 1s\tremaining: 4m 16s\n",
            "915:\tlearn: 0.6554219\ttotal: 46m 4s\tremaining: 4m 13s\n",
            "916:\tlearn: 0.6553436\ttotal: 46m 7s\tremaining: 4m 10s\n",
            "917:\tlearn: 0.6553074\ttotal: 46m 9s\tremaining: 4m 7s\n",
            "918:\tlearn: 0.6552121\ttotal: 46m 13s\tremaining: 4m 4s\n",
            "919:\tlearn: 0.6551503\ttotal: 46m 16s\tremaining: 4m 1s\n",
            "920:\tlearn: 0.6551077\ttotal: 46m 18s\tremaining: 3m 58s\n",
            "921:\tlearn: 0.6550007\ttotal: 46m 21s\tremaining: 3m 55s\n",
            "922:\tlearn: 0.6549181\ttotal: 46m 24s\tremaining: 3m 52s\n",
            "923:\tlearn: 0.6548530\ttotal: 46m 28s\tremaining: 3m 49s\n",
            "924:\tlearn: 0.6548315\ttotal: 46m 30s\tremaining: 3m 46s\n",
            "925:\tlearn: 0.6547438\ttotal: 46m 33s\tremaining: 3m 43s\n",
            "926:\tlearn: 0.6546865\ttotal: 46m 36s\tremaining: 3m 40s\n",
            "927:\tlearn: 0.6545890\ttotal: 46m 40s\tremaining: 3m 37s\n",
            "928:\tlearn: 0.6545258\ttotal: 46m 42s\tremaining: 3m 34s\n",
            "929:\tlearn: 0.6544485\ttotal: 46m 45s\tremaining: 3m 31s\n",
            "930:\tlearn: 0.6543939\ttotal: 46m 48s\tremaining: 3m 28s\n",
            "931:\tlearn: 0.6543232\ttotal: 46m 51s\tremaining: 3m 25s\n",
            "932:\tlearn: 0.6542404\ttotal: 46m 54s\tremaining: 3m 22s\n",
            "933:\tlearn: 0.6541757\ttotal: 46m 57s\tremaining: 3m 19s\n",
            "934:\tlearn: 0.6540889\ttotal: 46m 59s\tremaining: 3m 16s\n",
            "935:\tlearn: 0.6539950\ttotal: 47m 2s\tremaining: 3m 12s\n",
            "936:\tlearn: 0.6539326\ttotal: 47m 6s\tremaining: 3m 10s\n",
            "937:\tlearn: 0.6538698\ttotal: 47m 9s\tremaining: 3m 7s\n",
            "938:\tlearn: 0.6538093\ttotal: 47m 11s\tremaining: 3m 3s\n",
            "939:\tlearn: 0.6537290\ttotal: 47m 14s\tremaining: 3m\n",
            "940:\tlearn: 0.6537033\ttotal: 47m 18s\tremaining: 2m 57s\n",
            "941:\tlearn: 0.6536426\ttotal: 47m 21s\tremaining: 2m 54s\n",
            "942:\tlearn: 0.6535539\ttotal: 47m 23s\tremaining: 2m 51s\n",
            "943:\tlearn: 0.6534990\ttotal: 47m 26s\tremaining: 2m 48s\n",
            "944:\tlearn: 0.6534379\ttotal: 47m 29s\tremaining: 2m 45s\n",
            "945:\tlearn: 0.6533928\ttotal: 47m 32s\tremaining: 2m 42s\n",
            "946:\tlearn: 0.6533189\ttotal: 47m 35s\tremaining: 2m 39s\n",
            "947:\tlearn: 0.6532863\ttotal: 47m 37s\tremaining: 2m 36s\n",
            "948:\tlearn: 0.6532067\ttotal: 47m 40s\tremaining: 2m 33s\n",
            "949:\tlearn: 0.6531447\ttotal: 47m 44s\tremaining: 2m 30s\n",
            "950:\tlearn: 0.6530704\ttotal: 47m 49s\tremaining: 2m 27s\n",
            "951:\tlearn: 0.6529879\ttotal: 47m 53s\tremaining: 2m 24s\n",
            "952:\tlearn: 0.6528900\ttotal: 47m 57s\tremaining: 2m 21s\n",
            "953:\tlearn: 0.6528097\ttotal: 48m 1s\tremaining: 2m 18s\n",
            "954:\tlearn: 0.6527221\ttotal: 48m 4s\tremaining: 2m 15s\n",
            "955:\tlearn: 0.6526895\ttotal: 48m 6s\tremaining: 2m 12s\n",
            "956:\tlearn: 0.6525351\ttotal: 48m 9s\tremaining: 2m 9s\n",
            "957:\tlearn: 0.6524042\ttotal: 48m 13s\tremaining: 2m 6s\n",
            "958:\tlearn: 0.6522935\ttotal: 48m 16s\tremaining: 2m 3s\n",
            "959:\tlearn: 0.6522421\ttotal: 48m 19s\tremaining: 2m\n",
            "960:\tlearn: 0.6521538\ttotal: 48m 21s\tremaining: 1m 57s\n",
            "961:\tlearn: 0.6521104\ttotal: 48m 25s\tremaining: 1m 54s\n",
            "962:\tlearn: 0.6520637\ttotal: 48m 28s\tremaining: 1m 51s\n",
            "963:\tlearn: 0.6519851\ttotal: 48m 31s\tremaining: 1m 48s\n",
            "964:\tlearn: 0.6518989\ttotal: 48m 33s\tremaining: 1m 45s\n",
            "965:\tlearn: 0.6518185\ttotal: 48m 36s\tremaining: 1m 42s\n",
            "966:\tlearn: 0.6517599\ttotal: 48m 40s\tremaining: 1m 39s\n",
            "967:\tlearn: 0.6517044\ttotal: 48m 43s\tremaining: 1m 36s\n",
            "968:\tlearn: 0.6516073\ttotal: 48m 45s\tremaining: 1m 33s\n",
            "969:\tlearn: 0.6514824\ttotal: 48m 49s\tremaining: 1m 30s\n",
            "970:\tlearn: 0.6514387\ttotal: 48m 52s\tremaining: 1m 27s\n",
            "971:\tlearn: 0.6513578\ttotal: 48m 55s\tremaining: 1m 24s\n",
            "972:\tlearn: 0.6512948\ttotal: 48m 58s\tremaining: 1m 21s\n",
            "973:\tlearn: 0.6511973\ttotal: 49m 1s\tremaining: 1m 18s\n",
            "974:\tlearn: 0.6511262\ttotal: 49m 5s\tremaining: 1m 15s\n",
            "975:\tlearn: 0.6510852\ttotal: 49m 7s\tremaining: 1m 12s\n",
            "976:\tlearn: 0.6510061\ttotal: 49m 10s\tremaining: 1m 9s\n",
            "977:\tlearn: 0.6509261\ttotal: 49m 13s\tremaining: 1m 6s\n",
            "978:\tlearn: 0.6508670\ttotal: 49m 17s\tremaining: 1m 3s\n",
            "979:\tlearn: 0.6507835\ttotal: 49m 19s\tremaining: 1m\n",
            "980:\tlearn: 0.6507396\ttotal: 49m 22s\tremaining: 57.4s\n",
            "981:\tlearn: 0.6506682\ttotal: 49m 24s\tremaining: 54.3s\n",
            "982:\tlearn: 0.6506054\ttotal: 49m 27s\tremaining: 51.3s\n",
            "983:\tlearn: 0.6505621\ttotal: 49m 31s\tremaining: 48.3s\n",
            "984:\tlearn: 0.6505333\ttotal: 49m 33s\tremaining: 45.3s\n",
            "985:\tlearn: 0.6504805\ttotal: 49m 36s\tremaining: 42.3s\n",
            "986:\tlearn: 0.6504096\ttotal: 49m 38s\tremaining: 39.2s\n",
            "987:\tlearn: 0.6503433\ttotal: 49m 42s\tremaining: 36.2s\n",
            "988:\tlearn: 0.6502757\ttotal: 49m 45s\tremaining: 33.2s\n",
            "989:\tlearn: 0.6502174\ttotal: 49m 47s\tremaining: 30.2s\n",
            "990:\tlearn: 0.6501491\ttotal: 49m 50s\tremaining: 27.2s\n",
            "991:\tlearn: 0.6500905\ttotal: 49m 53s\tremaining: 24.1s\n",
            "992:\tlearn: 0.6500586\ttotal: 49m 57s\tremaining: 21.1s\n",
            "993:\tlearn: 0.6499790\ttotal: 49m 59s\tremaining: 18.1s\n",
            "994:\tlearn: 0.6499220\ttotal: 50m 2s\tremaining: 15.1s\n",
            "995:\tlearn: 0.6498595\ttotal: 50m 4s\tremaining: 12.1s\n",
            "996:\tlearn: 0.6498293\ttotal: 50m 7s\tremaining: 9.05s\n",
            "997:\tlearn: 0.6497682\ttotal: 50m 11s\tremaining: 6.03s\n",
            "998:\tlearn: 0.6497156\ttotal: 50m 13s\tremaining: 3.02s\n",
            "999:\tlearn: 0.6496854\ttotal: 50m 16s\tremaining: 0us\n"
          ]
        },
        {
          "output_type": "execute_result",
          "data": {
            "text/plain": [
              "<catboost.core.CatBoostClassifier at 0x7e9dfd09b370>"
            ]
          },
          "metadata": {},
          "execution_count": 103
        }
      ]
    },
    {
      "cell_type": "code",
      "source": [
        "y_pred= model.predict(X_test)\n",
        "score = accuracy_score(Y_test, y_pred)\n",
        "print(\"Accuracy:\", score)\n",
        "print(classification_report(Y_test,y_pred))"
      ],
      "metadata": {
        "colab": {
          "base_uri": "https://localhost:8080/"
        },
        "id": "OM3kX9X96PWd",
        "outputId": "8e4a7a97-eed0-42b1-b4ad-28739984c925"
      },
      "execution_count": 105,
      "outputs": [
        {
          "output_type": "stream",
          "name": "stdout",
          "text": [
            "Accuracy: 0.7513917497410281\n",
            "              precision    recall  f1-score   support\n",
            "\n",
            "           0       1.00      0.99      0.99    139309\n",
            "           1       0.86      0.52      0.65    139525\n",
            "           2       0.75      0.97      0.84    139568\n",
            "           3       0.76      0.34      0.47    138815\n",
            "           4       0.95      0.92      0.93    139760\n",
            "           5       0.47      0.59      0.52    139478\n",
            "           6       0.99      1.00      1.00    139371\n",
            "           7       0.67      0.70      0.68    139145\n",
            "           8       0.54      0.74      0.62    139026\n",
            "\n",
            "    accuracy                           0.75   1253997\n",
            "   macro avg       0.78      0.75      0.75   1253997\n",
            "weighted avg       0.78      0.75      0.75   1253997\n",
            "\n"
          ]
        }
      ]
    },
    {
      "cell_type": "code",
      "source": [
        "import pickle\n",
        "with open('Catboost-pca-SMOTE-multi.pkl', 'wb') as f:\n",
        "    pickle.dump(oversample, f)"
      ],
      "metadata": {
        "id": "phnnTZt3lDex"
      },
      "execution_count": 106,
      "outputs": []
    }
  ]
}